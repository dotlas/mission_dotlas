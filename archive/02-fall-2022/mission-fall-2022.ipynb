{
 "cells": [
  {
   "cell_type": "markdown",
   "metadata": {
    "application/vnd.databricks.v1+cell": {
     "cellMetadata": {},
     "inputWidgets": {},
     "nuid": "fbd5f81f-06d6-4624-b0ad-f16ba9217152",
     "showTitle": false,
     "title": ""
    },
    "tags": []
   },
   "source": [
    "# Mission Dotlas 🌎 (40 points)\n",
    "\n",
    "![Dotlas](https://camo.githubusercontent.com/6a3a3a9e55ce6b5c4305badbdc68c0d5f11b360b11e3fa7b93c822d637166090/68747470733a2f2f646f746c61732d776562736974652e73332e65752d776573742d312e616d617a6f6e6177732e636f6d2f696d616765732f6769746875622f62616e6e65722e706e67)\n",
    "\n",
    "### 1.1 Overview ✉️\n",
    "\n",
    "Welcome to your mission! In this notebook, you will download a dataset containing restaurants' information in the state of California, US. The dataset will then be transformed, processed and prepared in a required format. This clean dataset will then be used to answer some analytical questions and create a few data visualizations in Python.\n",
    "\n",
    "This is a template notebook that has some code already filled-in to help you on your way. There are also cells that require you to fill in the python code to solve specific problems. There are sections of the notebook that contain a points tally for code written. \n",
    "\n",
    "**Each section of this notebook is largely independent, so if you get stuck on a problem you can always move on to the next one.**"
   ]
  },
  {
   "cell_type": "markdown",
   "metadata": {
    "application/vnd.databricks.v1+cell": {
     "cellMetadata": {},
     "inputWidgets": {},
     "nuid": "6fbd125c-13dd-4d31-b897-70cf607a5f2e",
     "showTitle": false,
     "title": ""
    }
   },
   "source": [
    "### 1.2 Tools & Technologies 🪛\n",
    "\n",
    "- This exercise will be carried out using the [Python](https://www.python.org/) programming language and will rely hevily on the [Pandas](https://pandas.pydata.org/) library for data manipulation.\n",
    "- You may use any of [Matplotlib](https://matplotlib.org/), [Seaborn](https://seaborn.pydata.org/) or [Plotly](https://plotly.com/python/) packages for data visualization.\n",
    "- We will be using [Jupyter notebooks](https://jupyter.org/) to run Python code in order to view and interact better with our data and visualizations.\n",
    "- You are free to use [Google Colab](https://colab.research.google.com/) which provides an easy-to-use Jupyter interface.\n",
    "- When not in Colab, it is recommended to run this Jupyter Notebook within an [Anaconda](https://continuum.io/) environment\n",
    "- You can use any other Python packages that you deem fit for this project.\n",
    "\n",
    "> ⚠ **Ensure that your Python version is 3.9 or higher**\n",
    "\n",
    "![](https://upload.wikimedia.org/wikipedia/commons/1/1b/Blue_Python_3.9_Shield_Badge.svg)\n",
    "\n",
    "**Language**\n",
    "\n",
    "![Python](https://img.shields.io/badge/python-3670A0?style=for-the-badge&logo=python&logoColor=ffdd54)\n",
    "\n",
    "**Environments & Packages**\n",
    "\n",
    "![Anaconda](https://img.shields.io/badge/Anaconda-%2344A833.svg?style=for-the-badge&logo=anaconda&logoColor=white)\n",
    "![Jupyter Notebook](https://img.shields.io/badge/jupyter-%23FA0F00.svg?style=for-the-badge&logo=jupyter&logoColor=white)\n",
    "![Pandas](https://img.shields.io/badge/pandas-%23150458.svg?style=for-the-badge&logo=pandas&logoColor=white)\n",
    "![Matplotlib](https://img.shields.io/badge/Matplotlib-%23ffffff.svg?style=for-the-badge&logo=Matplotlib&logoColor=black)\n",
    "![Plotly](https://img.shields.io/badge/Plotly-%233F4F75.svg?style=for-the-badge&logo=plotly&logoColor=white)\n",
    "\n",
    "**Data Store**\n",
    "\n",
    "![AWS](https://img.shields.io/badge/AWS-%23FF9900.svg?style=for-the-badge&logo=amazon-aws&logoColor=white)\n",
    "\n",
    "---"
   ]
  },
  {
   "cell_type": "markdown",
   "metadata": {
    "application/vnd.databricks.v1+cell": {
     "cellMetadata": {},
     "inputWidgets": {},
     "nuid": "f670b4a2-0544-47be-89d7-4dcb77c4070c",
     "showTitle": false,
     "title": ""
    }
   },
   "source": [
    "### 2.1 Read California Restaurants 🔍 (3 points)\n",
    "\n",
    "In this section, we will load the dataset from [AWS](https://googlethatforyou.com?q=amazon%20web%20services), conduct an exploratory data analysis and then clean up the dataset\n",
    "\n",
    "\n",
    "- Ensure that pandas and plotly are installed (possibly via pip or poetry)\n",
    "- The dataset is about 300 MB in size and time-to-download depends on internet speed and availability\n",
    "- Download the dataset using Python into this notebook and load it into a pandas dataframe (without writing to file)"
   ]
  },
  {
   "cell_type": "code",
   "execution_count": 0,
   "metadata": {
    "application/vnd.databricks.v1+cell": {
     "cellMetadata": {},
     "inputWidgets": {},
     "nuid": "8427520e-a9f9-4c6d-97e7-d1534613a149",
     "showTitle": false,
     "title": ""
    }
   },
   "outputs": [],
   "source": [
    "from matplotlib import pyplot as plt\n",
    "\n",
    "%matplotlib inline\n",
    "\n",
    "import pandas as pd\n",
    "import plotly.express as px\n",
    "import numpy as np\n",
    "\n",
    "CELL_HEIGHT: int = 50\n",
    "\n",
    "# Initialize helpers to ignore pandas warnings and resize columns and cells\n",
    "pd.set_option(\"chained_assignment\", None)\n",
    "pd.set_option(\"display.max_rows\", 50)\n",
    "pd.set_option(\"display.max_columns\", 500)\n",
    "pd.set_option(\"display.max_colwidth\", CELL_HEIGHT)\n",
    "\n",
    "DATA_URL: str = (\n",
    "    \"https://dotlas-marketing.s3.amazonaws.com/interviews/california_restaurants.json\"\n",
    ")"
   ]
  },
  {
   "cell_type": "code",
   "execution_count": 0,
   "metadata": {
    "application/vnd.databricks.v1+cell": {
     "cellMetadata": {},
     "inputWidgets": {},
     "nuid": "0286c0a7-6e19-4678-91ec-093cb3ef48e7",
     "showTitle": false,
     "title": ""
    }
   },
   "outputs": [],
   "source": [
    "%%time\n",
    "# ✏️ YOUR CODE HERE\n",
    "# df: pd.DataFrame = ?"
   ]
  },
  {
   "cell_type": "markdown",
   "metadata": {
    "application/vnd.databricks.v1+cell": {
     "cellMetadata": {},
     "inputWidgets": {},
     "nuid": "c7c56c9c-c38d-4e26-aab7-53062e5b60e2",
     "showTitle": false,
     "title": ""
    }
   },
   "source": [
    "Create a restaurant ID column to uniquely index each restaurant"
   ]
  },
  {
   "cell_type": "code",
   "execution_count": 0,
   "metadata": {
    "application/vnd.databricks.v1+cell": {
     "cellMetadata": {},
     "inputWidgets": {},
     "nuid": "84d05a80-83d0-4566-aa04-0a2db72d412e",
     "showTitle": false,
     "title": ""
    }
   },
   "outputs": [],
   "source": [
    "df[\"restaurant_id\"] = range(1, len(df) + 1)\n",
    "df.head(2)"
   ]
  },
  {
   "cell_type": "markdown",
   "metadata": {
    "application/vnd.databricks.v1+cell": {
     "cellMetadata": {},
     "inputWidgets": {},
     "nuid": "be63c66b-0c08-4cfc-b9b3-a1bd2b86f3c9",
     "showTitle": false,
     "title": ""
    }
   },
   "source": [
    "### 2.2 Basic Operations 🔧 (4 points)"
   ]
  },
  {
   "cell_type": "markdown",
   "metadata": {
    "application/vnd.databricks.v1+cell": {
     "cellMetadata": {},
     "inputWidgets": {},
     "nuid": "a9519cd1-bb9f-4714-a4ce-3278b782a0a3",
     "showTitle": false,
     "title": ""
    }
   },
   "source": [
    "#### 2.2.1 Restaurants by City 🌆 (1 point)\n",
    "\n",
    "For each city in california, find\n",
    "\n",
    "1. the number of restaurants in that city,\n",
    "2. mean `rating` of all restaurants in the city,\n",
    "3. mean `price_range_id` per city,\n",
    "4. mean `maximum_days_advance_for_reservation` per city\n",
    "\n",
    "sort by number of restaurants.\n",
    "\n",
    "The resulting dataframe's top 5 rows would look as follows:\n",
    "\n",
    "| city          | restaurant_count | avg_rating | avg_price_range_id | avg_reservation_advance |\n",
    "| :------------ | ---------------: | ---------: | -----------------: | ----------------------: |\n",
    "| San Francisco |             1645 |    2.59343 |             2.3617 |                 90.3453 |\n",
    "| Los Angeles   |             1604 |    2.31995 |            2.29052 |                  86.692 |\n",
    "| San Diego     |             1034 |    2.65493 |            2.28723 |                 94.5783 |\n",
    "| San Jose      |              372 |    1.54597 |            2.16398 |                 88.3011 |\n",
    "| Sacramento    |              329 |    1.68663 |            2.26748 |                 95.0274 |"
   ]
  },
  {
   "cell_type": "code",
   "execution_count": 0,
   "metadata": {
    "application/vnd.databricks.v1+cell": {
     "cellMetadata": {},
     "inputWidgets": {},
     "nuid": "ae00f8b9-eb23-4ae7-a9e7-6502cb0e15d0",
     "showTitle": false,
     "title": ""
    }
   },
   "outputs": [],
   "source": [
    "# ✏️ YOUR CODE HERE"
   ]
  },
  {
   "cell_type": "markdown",
   "metadata": {
    "application/vnd.databricks.v1+cell": {
     "cellMetadata": {},
     "inputWidgets": {},
     "nuid": "408c4680-e8ef-4e87-9629-bcdc06cc1c3b",
     "showTitle": false,
     "title": ""
    }
   },
   "source": [
    "#### 2.2.2 Restaurants by Brand 🍔 (1 point)\n",
    "\n",
    "For each brand (`brand_name`) in california, find\n",
    "\n",
    "1. the number of restaurants that belong to that brand,\n",
    "2. mean `price_range_id` of the brand across its restaurants\n",
    "\n",
    "sort by number of restaurants.\n",
    "\n",
    "The resulting dataframe's top 5 rows would look as follows:\n",
    "\n",
    "| brand_name               | restaurant_count | avg_price_range_id |\n",
    "| :----------------------- | ---------------: | -----------------: |\n",
    "| Denny's                  |               73 |                  2 |\n",
    "| Ihop                     |               37 |                  2 |\n",
    "| Buffalo Wild Wings       |               32 |                  2 |\n",
    "| Black Bear Diner         |               28 |                  2 |\n",
    "| Coco's Bakery Restaurant |               24 |                  2 |"
   ]
  },
  {
   "cell_type": "code",
   "execution_count": 0,
   "metadata": {
    "application/vnd.databricks.v1+cell": {
     "cellMetadata": {},
     "inputWidgets": {},
     "nuid": "4e1b2833-261c-4857-862c-dccf7fc5658a",
     "showTitle": false,
     "title": ""
    }
   },
   "outputs": [],
   "source": [
    "# ✏️ YOUR CODE HERE"
   ]
  },
  {
   "cell_type": "markdown",
   "metadata": {
    "application/vnd.databricks.v1+cell": {
     "cellMetadata": {},
     "inputWidgets": {},
     "nuid": "64e3598c-fcb5-41f2-ae13-316b42f8a572",
     "showTitle": false,
     "title": ""
    }
   },
   "source": [
    "#### 2.2.3 Visualize Brands 📊 (2 points)\n",
    "\n",
    "Create a bar chart of top 5 brands in california by average number of reviews where each brand has at least 5 restaurants"
   ]
  },
  {
   "cell_type": "code",
   "execution_count": 0,
   "metadata": {
    "application/vnd.databricks.v1+cell": {
     "cellMetadata": {},
     "inputWidgets": {},
     "nuid": "84fc80b2-5faf-425f-be13-b8dd5681153e",
     "showTitle": false,
     "title": ""
    }
   },
   "outputs": [],
   "source": [
    "# ✏️ YOUR CODE HERE"
   ]
  },
  {
   "cell_type": "markdown",
   "metadata": {
    "application/vnd.databricks.v1+cell": {
     "cellMetadata": {},
     "inputWidgets": {},
     "nuid": "df6fd038-cc18-4a65-9bb7-75a2eed4dfe2",
     "showTitle": false,
     "title": ""
    }
   },
   "source": [
    "### 2.3 Transform Columns 🚚 (15 Points)\n",
    "\n",
    "<img src=\"https://media.giphy.com/media/2f41Z7bhKGvbG/giphy.gif\" height=\"250px\" width=\"250px\" alt=\"harry potter\">"
   ]
  },
  {
   "cell_type": "markdown",
   "metadata": {
    "application/vnd.databricks.v1+cell": {
     "cellMetadata": {},
     "inputWidgets": {},
     "nuid": "3854cb7e-cbeb-44fd-90ce-e782d46da5a8",
     "showTitle": false,
     "title": ""
    }
   },
   "source": [
    "#### 2.3.1 Safety Precautions 🦺 (2 points)\n",
    "\n",
    "Transform the entire safety precautions column into a new column based on the following rule:\n",
    "\n",
    "Convert from dictionary to list. Only include in the list, those keys in the dictionary which are true.\n",
    "For ex, for safety precautions of the type:\n",
    "\n",
    "```python\n",
    "{\n",
    "    'cleanMenus': True,\n",
    "    'limitedSeating': False,\n",
    "    'sealedUtensils': None,\n",
    "    'prohibitSickStaff': True,\n",
    "    'requireDinerMasks': True,\n",
    "    'staffIsVaccinated': None,\n",
    "    'proofOfVaccinationRequired': False,\n",
    "    'sanitizerProvidedForCustomers': None\n",
    "}\n",
    "```\n",
    "\n",
    "It should turn into a list of the form:\n",
    "\n",
    "```python\n",
    "[\"Clean Menus\", \"Prohibit Sick Staff\", \"Require Diner Masks\"]\n",
    "```"
   ]
  },
  {
   "cell_type": "code",
   "execution_count": 0,
   "metadata": {
    "application/vnd.databricks.v1+cell": {
     "cellMetadata": {},
     "inputWidgets": {},
     "nuid": "2b8eec31-5d0f-4238-8203-765fc0680014",
     "showTitle": false,
     "title": ""
    }
   },
   "outputs": [],
   "source": [
    "# ✏️ YOUR CODE HERE"
   ]
  },
  {
   "cell_type": "markdown",
   "metadata": {
    "application/vnd.databricks.v1+cell": {
     "cellMetadata": {},
     "inputWidgets": {},
     "nuid": "87ec0fc1-7100-485a-b43d-1989da12d947",
     "showTitle": false,
     "title": ""
    }
   },
   "source": [
    "#### 2.3.2 Clean up HTML text 🥜 (2 points)\n",
    "\n",
    "Find columns containing text / strings that have html text and remove those HTML texts\n",
    "\n",
    "ex:\n",
    "\n",
    "```html\n",
    "<p>\n",
    "  Feast on delicious grub at Jerry's Famous Deli.<br />\n",
    "  Its retro-style casual setting features comfortable booth seating.\n",
    "</p>\n",
    "```\n",
    "\n",
    "to:\n",
    "\n",
    "```\n",
    "Feast on delicious grub at Jerry's Famous Deli. Its retro-style casual setting features comfortable booth seating.\n",
    "```"
   ]
  },
  {
   "cell_type": "code",
   "execution_count": 0,
   "metadata": {
    "application/vnd.databricks.v1+cell": {
     "cellMetadata": {},
     "inputWidgets": {},
     "nuid": "0960817b-29b4-4896-852c-96fd071a759a",
     "showTitle": false,
     "title": ""
    }
   },
   "outputs": [],
   "source": [
    "# ✏️ YOUR CODE HERE"
   ]
  },
  {
   "cell_type": "markdown",
   "metadata": {
    "application/vnd.databricks.v1+cell": {
     "cellMetadata": {},
     "inputWidgets": {},
     "nuid": "9d5390c2-116a-4379-8349-08673a3de5ca",
     "showTitle": false,
     "title": ""
    },
    "tags": []
   },
   "source": [
    "#### 2.3.3 Imputing 📈 (3 points)\n",
    "\n",
    "Fill up missing values for rating, rating count and review count by imputing based on the following columns in order:\n",
    "\n",
    "1. `brand_name`\n",
    "2. `area`\n",
    "3. `city`\n",
    "\n",
    "This means that if `rating` is missing for a restaurant (null / 0), but that restaurant is part of a brand where\n",
    "other restaurants of the same brand have ratings, then a median rating is taken. If brands are complete, then missing values are filled using\n",
    "area where the restaurant is located (median rating) and finally filled using the city's rating\n",
    "\n",
    "Here's an example:\n",
    "\n",
    "|restaurant_id\t|brand_name|\tarea|\tcity|\trating|\timputed_rating_brand | imputed_rating_area| imputed_rating_city\n",
    "| --- | --- | --- | --- | --- | --- | --- | --- |\n",
    "|1\t|X1|\tA1|\tB1|\t3|\t3| 3 | 3 |\n",
    "|2\t|X1|\tA1|\tB1|\t2|\t2| 2 | 2 |\n",
    "|3\t|X1|\tA1|\tB1|\t| 2.5| 2.5 | 2.5 |\n",
    "|4\t|X2|\tA1|\tB1|\t4|\t4 | 4 | 4 |\n",
    "|5\t|X3|\tA1|\tB1|\t|\t | 2.75 | 2.75 |\n",
    "|6\t|X4|\tA4|\tB2|\t|\t | | 3 |\n",
    "|7\t|X5|\tA6|\tB2|\t2|\t 2| 2| 2|\n",
    "|8\t|X6|\tA7|\tB2|\t4|\t 4| 4| 4 |"
   ]
  },
  {
   "cell_type": "code",
   "execution_count": 0,
   "metadata": {
    "application/vnd.databricks.v1+cell": {
     "cellMetadata": {},
     "inputWidgets": {},
     "nuid": "c788515a-7adc-4310-8d82-504d00c2a0e7",
     "showTitle": false,
     "title": ""
    }
   },
   "outputs": [],
   "source": [
    "# ✏️ YOUR CODE HERE"
   ]
  },
  {
   "cell_type": "markdown",
   "metadata": {
    "application/vnd.databricks.v1+cell": {
     "cellMetadata": {},
     "inputWidgets": {},
     "nuid": "af4955aa-264a-4e26-b7da-742be87d8028",
     "showTitle": false,
     "title": ""
    }
   },
   "source": [
    "#### 2.3.4 Analytical Transformations (8 points)\n",
    "\n",
    "Choose any one sub-section only to answer. The choice is yours\n",
    "\n",
    "<img src=\"https://media.giphy.com/media/SCt3Miv6ugvSg/giphy.gif\" height=\"250px\" width=\"250px\" alt=\"the matrix\">"
   ]
  },
  {
   "cell_type": "markdown",
   "metadata": {
    "application/vnd.databricks.v1+cell": {
     "cellMetadata": {},
     "inputWidgets": {},
     "nuid": "00f651a9-1c3e-4746-b81c-b14371ea9d35",
     "showTitle": false,
     "title": ""
    }
   },
   "source": [
    "##### 2.3.4a Operating Hours 🕰️\n",
    "\n",
    "Create an operating hours [bitmap](https://en.wikipedia.org/wiki/Bit_array) column from the operating hours text column for all restaurants. The bitmap would be a matrix of size 24 x 7 where a 1 or 0 on each cell indicates whether the restaurant is operating on a specific day at a specific hour\n",
    "\n",
    "Example: For operating hours text of the form:\n",
    "\n",
    "```tex\n",
    "Lunch\n",
    "Daily 11:00 am–3:30 pm\n",
    "Dinner\n",
    "Daily 4:30 pm–11:30 pm\n",
    "```\n",
    "\n",
    "Create a bitmap of the following form:\n",
    "\n",
    "```json\n",
    "{\n",
    "    \"Monday\" : [0,0,0,0,0,0,0,0,0,0,0,1,1,1,1,1,0,1,1,1,1,1,1,1],\n",
    "    \"Tuesday\" : [0,0,0,0,0,0,0,0,0,0,0,1,1,1,1,1,0,1,1,1,1,1,1,1],\n",
    "    .\n",
    "    .\n",
    "    .\n",
    "    \"Sunday\" : [0,0,0,0,0,0,0,0,0,0,0,1,1,1,1,1,0,1,1,1,1,1,1,1],\n",
    "\n",
    "}\n",
    "```"
   ]
  },
  {
   "cell_type": "code",
   "execution_count": 0,
   "metadata": {
    "application/vnd.databricks.v1+cell": {
     "cellMetadata": {},
     "inputWidgets": {},
     "nuid": "0718d931-4e30-4527-8198-562bb0d6baee",
     "showTitle": false,
     "title": ""
    }
   },
   "outputs": [],
   "source": [
    "# ✏️ YOUR CODE HERE"
   ]
  },
  {
   "cell_type": "markdown",
   "metadata": {
    "application/vnd.databricks.v1+cell": {
     "cellMetadata": {},
     "inputWidgets": {},
     "nuid": "e1732309-763c-4042-945d-9456142c5dbf",
     "showTitle": false,
     "title": ""
    }
   },
   "source": [
    "##### 2.3.4b On my radar 🗺️\n",
    "\n",
    "For the following restaurant:\n",
    "\n",
    "- brand_name `Calzone's Pizza Cucina`\n",
    "- coordinates `37.799068, -122.408226`.\n",
    "\n",
    "Answer these questions:\n",
    "\n",
    "- How many restaurants exist within a 100 meter radius of this restaurant?\n",
    "- What is the most frequent cuisine (`category`) occurence in this 100m radius across the restaurants that exist in that range?"
   ]
  },
  {
   "cell_type": "code",
   "execution_count": 0,
   "metadata": {
    "application/vnd.databricks.v1+cell": {
     "cellMetadata": {},
     "inputWidgets": {},
     "nuid": "b9f4e06b-ade1-465b-8d5a-e096f5883559",
     "showTitle": false,
     "title": ""
    }
   },
   "outputs": [],
   "source": [
    "# ✏️ YOUR CODE HERE"
   ]
  },
  {
   "cell_type": "markdown",
   "metadata": {
    "application/vnd.databricks.v1+cell": {
     "cellMetadata": {},
     "inputWidgets": {},
     "nuid": "262ca468-5339-42c2-a60c-1c04aa9c49d5",
     "showTitle": false,
     "title": ""
    }
   },
   "source": [
    "---"
   ]
  },
  {
   "cell_type": "markdown",
   "metadata": {
    "application/vnd.databricks.v1+cell": {
     "cellMetadata": {},
     "inputWidgets": {},
     "nuid": "66b313ac-f9bf-4608-b41d-98d13e5b8d8f",
     "showTitle": false,
     "title": ""
    }
   },
   "source": [
    "Remember to hydrate and \n",
    "\n",
    "[![Spotify](https://img.shields.io/badge/Spotify-1ED760?style=for-the-badge&logo=spotify&logoColor=white)](https://open.spotify.com/playlist/3d4bU6GAelt3YL2L1X2SOn)"
   ]
  },
  {
   "cell_type": "markdown",
   "metadata": {
    "application/vnd.databricks.v1+cell": {
     "cellMetadata": {},
     "inputWidgets": {},
     "nuid": "2c03dd38-c990-45d7-9f91-7bdbd33a28fc",
     "showTitle": false,
     "title": ""
    }
   },
   "source": [
    "---"
   ]
  },
  {
   "cell_type": "markdown",
   "metadata": {
    "application/vnd.databricks.v1+cell": {
     "cellMetadata": {},
     "inputWidgets": {},
     "nuid": "42c8dfc5-ccb7-4e67-acd6-c5476aa2838c",
     "showTitle": false,
     "title": ""
    },
    "tags": []
   },
   "source": [
    "### 2.4 Menu-Level Table 🧾 (8 points)\n",
    "\n",
    "<img src=\"https://media.giphy.com/media/qpLuA97QGOsnK/giphy.gif\" height=\"250px\" width=\"250px\" alt=\"ratatouille\">\n",
    "\n",
    "**Create a menu-level table by parsing out menu items from the `menu` column per restaurant.**\n",
    "\n",
    "Every restaurant has a `menu` column that contains deeply nested JSON data on the restaurant's menu. The hierarchy is as follows: \n",
    "\n",
    "* One restaurant can have multiple menus (morning menu, evening menu, etc.)\n",
    "    * Each menu can have a description and provider\n",
    "* Each restaurant menu can have multiple sections (such as Appetizers, Desserts, etc.)\n",
    "    * Each section has a description\n",
    "* Each section can have multiple menu items (such as Latte, Apple Pie, Carrot Halwa, etc.)\n",
    "    * Each menu item has a price, currency and description\n",
    "\n",
    "You need to parse out the menu data from the JSON in the `menu` column for each restaurant and have a restaurants x menu table as shown below. \n",
    "\n",
    "| restaurant_id | menu_name | menu_description | menu_provider | section_name | section_description | item_name          | item_description                                                                                                      | item_price | item_price_currency |\n",
    "| ------------: | :-------- | :--------------- | ------------: | :----------- | :------------------ | :----------------- | :-------------------------------------------------------------------------------------------------------------------- | ---------: | :------------------ |\n",
    "|             1 | Main Menu |                  |           nan | Appetizers   |                     | Egg Rolls          | Deep fried mixed veggie egg rolls served with sweet & sour sauce                                                      |          8 | USD                 |\n",
    "|             1 | Main Menu |                  |           nan | Appetizers   |                     | Fried Tofu         | (Contains Peanut) Deep fried tofu, served with sweet & sour sauce and crushed peanut                                  |          8 | USD                 |\n",
    "|             1 | Main Menu |                  |           nan | Appetizers   |                     | Fried Meat Balls   | Deep fried fish, pork, beef balls or mixed served with sweet & sour sauce. Meat: Beef $1, Fish, Mixed Meat ball, Pork |        8.5 | USD                 |\n",
    "|             1 | Main Menu |                  |           nan | Appetizers   |                     | Pork Jerky         | Deep fried marinated pork served with special jaew sauce                                                              |        8.5 | USD                 |\n",
    "|             1 | Main Menu |                  |           nan | Appetizers   |                     | Thai Isaan Sausage | (Contains Peanut) Thai Style sausage served with fresh vegetables and peanuts                                         |          9 | USD                 |"
   ]
  },
  {
   "cell_type": "code",
   "execution_count": 0,
   "metadata": {
    "application/vnd.databricks.v1+cell": {
     "cellMetadata": {},
     "inputWidgets": {},
     "nuid": "53eb292e-d875-4ace-ba24-687e0c61f3dd",
     "showTitle": false,
     "title": ""
    }
   },
   "outputs": [],
   "source": [
    "# ✏️ YOUR CODE HERE"
   ]
  },
  {
   "cell_type": "markdown",
   "metadata": {
    "application/vnd.databricks.v1+cell": {
     "cellMetadata": {},
     "inputWidgets": {},
     "nuid": "8f4164a9-0b69-4b8f-9cc5-cb50dbb8ff1a",
     "showTitle": false,
     "title": ""
    }
   },
   "source": [
    "### 3.1 Analytical Questions ⚗️ (10 points)\n",
    "\n",
    "**Answer ONLY ONE of the Questions using the Data, i.e, choose between `3.1.1`, `3.1.2` or `3.1.3`**\n",
    "\n",
    "<img src=\"https://media.giphy.com/media/3o7TKVSE5isogWqnwk/giphy.gif\" height=\"250px\" width=\"250px\" alt=\"sherlock holmes\">\n",
    "\n",
    "> Note that the analytical questions may sometimes require converting categorical type columns that are lists or strings into numeric columns. For ex. \"Casual Dining\", \"Fine Dining\"..etc. would require you to generate a categorical encoding of 1,2..etc. For columns that contain lists like `categories`, which contain cuisine tags, a one-hot or multi-hot encoding technique may be required based on the situation. A numeric categorical encoding is required for these string or list based columns since pandas cannot (usually) automatically generate correlations or clusters based on text-based categories"
   ]
  },
  {
   "cell_type": "markdown",
   "metadata": {
    "application/vnd.databricks.v1+cell": {
     "cellMetadata": {},
     "inputWidgets": {},
     "nuid": "4e39b78b-bd72-49f1-bc74-09fe6243edf8",
     "showTitle": false,
     "title": ""
    }
   },
   "source": [
    "#### 3.1.1 Take me out for dinner 🕯️\n",
    "\n",
    "Which areas according to you have the best restaurants in California and why? You can define best based on whatever criteria you wish as long as it involves measuring more than a single column. For ex. You cannot merely claim that the restaurant with the highest rating is the best restaurant."
   ]
  },
  {
   "cell_type": "code",
   "execution_count": 0,
   "metadata": {
    "application/vnd.databricks.v1+cell": {
     "cellMetadata": {},
     "inputWidgets": {},
     "nuid": "8a13be6f-3a18-4e83-857e-c81b5295a63d",
     "showTitle": false,
     "title": ""
    }
   },
   "outputs": [],
   "source": [
    "# ✏️ YOUR CODE HERE"
   ]
  },
  {
   "cell_type": "markdown",
   "metadata": {
    "application/vnd.databricks.v1+cell": {
     "cellMetadata": {},
     "inputWidgets": {},
     "nuid": "42f2b564-5741-480e-957d-31c2aaab4ad5",
     "showTitle": false,
     "title": ""
    }
   },
   "source": [
    "#### 3.1.2 Michelin Approves 🎖️\n",
    "\n",
    "Which columns seem to play / not play a major factor in whether or not the restaurant has an award? Justify your options"
   ]
  },
  {
   "cell_type": "code",
   "execution_count": 0,
   "metadata": {
    "application/vnd.databricks.v1+cell": {
     "cellMetadata": {},
     "inputWidgets": {},
     "nuid": "115231f1-b928-4d06-a9f2-f9a2d37e611b",
     "showTitle": false,
     "title": ""
    }
   },
   "outputs": [],
   "source": [
    "# simple dataframe to look at distribution of awards across california by most awarded titles\n",
    "awards_df: pd.DataFrame = pd.json_normalize(df[\"awards\"].dropna().explode()).rename(\n",
    "    columns={\"name\": \"award_name\", \"location\": \"award_location\"}\n",
    ")\n",
    "awards_df[\"award_name\"].value_counts().to_frame().head(10).rename(\n",
    "    columns={\"award_name\": \"award_count\"}\n",
    ").transpose()"
   ]
  },
  {
   "cell_type": "code",
   "execution_count": 0,
   "metadata": {
    "application/vnd.databricks.v1+cell": {
     "cellMetadata": {},
     "inputWidgets": {},
     "nuid": "7a044063-4263-45de-9ac9-1fe68b1bd499",
     "showTitle": false,
     "title": ""
    }
   },
   "outputs": [],
   "source": [
    "# ✏️ YOUR CODE HERE"
   ]
  },
  {
   "cell_type": "markdown",
   "metadata": {
    "application/vnd.databricks.v1+cell": {
     "cellMetadata": {},
     "inputWidgets": {},
     "nuid": "6e484395-2ba2-4ab9-8219-aaaf7c7c9d8b",
     "showTitle": false,
     "title": ""
    }
   },
   "source": [
    "#### 3.1.3 Principal Components 🥨\n",
    "\n",
    "Which columns are highly correlated between each other and can be treated as redundant?"
   ]
  },
  {
   "cell_type": "code",
   "execution_count": 0,
   "metadata": {
    "application/vnd.databricks.v1+cell": {
     "cellMetadata": {},
     "inputWidgets": {},
     "nuid": "06fa02c8-382a-4f06-93f2-2c9486b19e80",
     "showTitle": false,
     "title": ""
    }
   },
   "outputs": [],
   "source": [
    "# Creating a pairplot for already numeric columns in dataframe\n",
    "pairplot_cols: list[str] = [\n",
    "    \"price_range_id\",\n",
    "    \"rating\",\n",
    "    \"rating_count\",\n",
    "    \"review_count\",\n",
    "    \"daily_reservation_count\",\n",
    "]\n",
    "sns.pairplot(df[pairplot_cols])"
   ]
  },
  {
   "cell_type": "code",
   "execution_count": 0,
   "metadata": {
    "application/vnd.databricks.v1+cell": {
     "cellMetadata": {},
     "inputWidgets": {},
     "nuid": "37aae61e-c1c1-4118-8f8b-82795e5977ac",
     "showTitle": false,
     "title": ""
    }
   },
   "outputs": [],
   "source": [
    "# ✏️ YOUR CODE HERE - may require encoding categorical string variables"
   ]
  },
  {
   "cell_type": "markdown",
   "metadata": {
    "application/vnd.databricks.v1+cell": {
     "cellMetadata": {},
     "inputWidgets": {},
     "nuid": "2cfdb35e-1f20-414c-ad43-69f2738c7cea",
     "showTitle": false,
     "title": ""
    }
   },
   "source": [
    "---\n",
    "\n",
    "Good job!\n",
    "\n",
    "<img src=\"https://media.giphy.com/media/qLhxN7Rp3PI8E/giphy.gif\" height=\"250px\" width=\"250px\" alt=\"legend of zelda\">"
   ]
  },
  {
   "cell_type": "code",
   "execution_count": 0,
   "metadata": {
    "application/vnd.databricks.v1+cell": {
     "cellMetadata": {},
     "inputWidgets": {},
     "nuid": "f0526936-fdde-4f0d-ba76-ef7c1825c949",
     "showTitle": false,
     "title": ""
    }
   },
   "outputs": [],
   "source": []
  }
 ],
 "metadata": {
  "application/vnd.databricks.v1+notebook": {
   "dashboards": [],
   "language": "python",
   "notebookMetadata": {},
   "notebookName": "mission-fall-2022",
   "widgets": {}
  },
  "kernelspec": {
   "display_name": "mission_dotlas",
   "language": "python",
   "name": "mission_dotlas"
  },
  "language_info": {
   "codemirror_mode": {
    "name": "ipython",
    "version": 3
   },
   "file_extension": ".py",
   "mimetype": "text/x-python",
   "name": "python",
   "nbconvert_exporter": "python",
   "pygments_lexer": "ipython3",
   "version": "3.9.13"
  },
  "toc-showtags": false,
  "vscode": {
   "interpreter": {
    "hash": "5a95100a7d3b4e320db1551c68e327e796fcc58a9206dc42c48870a93129471d"
   }
  }
 },
 "nbformat": 4,
 "nbformat_minor": 0
}
