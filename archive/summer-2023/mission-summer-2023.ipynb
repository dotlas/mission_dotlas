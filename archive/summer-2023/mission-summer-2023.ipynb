{
 "cells": [
  {
   "cell_type": "markdown",
   "metadata": {
    "application/vnd.databricks.v1+cell": {
     "cellMetadata": {},
     "inputWidgets": {},
     "nuid": "35f6c4e7-ffb6-46c1-8cbf-d6be62a6af5c",
     "showTitle": false,
     "title": ""
    },
    "tags": []
   },
   "source": [
    "# Mission Dotlas 🌎 [85 points]\n",
    "\n",
    "> `v2.0` Updated: April 19 2023 (Spring + Summer 2023 Version)\n",
    "\n",
    "![Dotlas](https://camo.githubusercontent.com/6a3a3a9e55ce6b5c4305badbdc68c0d5f11b360b11e3fa7b93c822d637166090/68747470733a2f2f646f746c61732d776562736974652e73332e65752d776573742d312e616d617a6f6e6177732e636f6d2f696d616765732f6769746875622f62616e6e65722e706e67)\n",
    "\n",
    "## Section 1: Project Overview ✉️\n",
    "\n",
    "Welcome to your mission! In this notebook, you will download a dataset containing restaurants' information in the state of California, US. The dataset will then be transformed, processed and prepared in a required format. This clean dataset will then be used to answer some analytical questions and create a few data visualizations in Python.\n",
    "\n",
    "This is a template notebook that has some code already filled-in to help you on your way. There are also cells that require you to fill in the python code to solve specific problems. There are sections of the notebook that contain a points tally for code written. \n",
    "\n",
    "**Each section of this notebook is largely independent, so if you get stuck on a problem you can always move on to the next one.**"
   ]
  },
  {
   "cell_type": "markdown",
   "metadata": {
    "application/vnd.databricks.v1+cell": {
     "cellMetadata": {},
     "inputWidgets": {},
     "nuid": "1a4d8483-d786-4b3f-8c5c-7ff071f5b182",
     "showTitle": false,
     "title": ""
    }
   },
   "source": [
    "### 1.1 Tools & Technologies 🪛\n",
    "\n",
    "- This exercise will be carried out using the [Python](https://www.python.org/) programming language and will rely hevily on the [Pandas](https://pandas.pydata.org/) library for data manipulation.\n",
    "- You may use any of [Matplotlib](https://matplotlib.org/), [Seaborn](https://seaborn.pydata.org/) or [Plotly](https://plotly.com/python/) packages for data visualization.\n",
    "- We will be using [Jupyter notebooks](https://jupyter.org/) to run Python code in order to view and interact better with our data and visualizations.\n",
    "- You are free to use [Google Colab](https://colab.research.google.com/) which provides an easy-to-use Jupyter interface.\n",
    "- When not in Colab, it is recommended to run this Jupyter Notebook within an [Anaconda](https://continuum.io/) environment\n",
    "- You can use any other Python packages that you deem fit for this project.\n",
    "\n",
    "> ⚠ **Ensure that your Python version is 3.9 or higher**\n",
    "\n",
    "![](https://upload.wikimedia.org/wikipedia/commons/1/1b/Blue_Python_3.9_Shield_Badge.svg)\n",
    "\n",
    "**Language**\n",
    "\n",
    "![Python](https://img.shields.io/badge/python-3670A0?style=for-the-badge&logo=python&logoColor=ffdd54)\n",
    "\n",
    "**Environments & Packages**\n",
    "\n",
    "![Anaconda](https://img.shields.io/badge/Anaconda-%2344A833.svg?style=for-the-badge&logo=anaconda&logoColor=white)\n",
    "![Jupyter Notebook](https://img.shields.io/badge/jupyter-%23FA0F00.svg?style=for-the-badge&logo=jupyter&logoColor=white)\n",
    "![Pandas](https://img.shields.io/badge/pandas-%23150458.svg?style=for-the-badge&logo=pandas&logoColor=white)\n",
    "![Matplotlib](https://img.shields.io/badge/Matplotlib-%23ffffff.svg?style=for-the-badge&logo=Matplotlib&logoColor=black)\n",
    "![Plotly](https://img.shields.io/badge/Plotly-%233F4F75.svg?style=for-the-badge&logo=plotly&logoColor=white)\n",
    "\n",
    "**Data Store**\n",
    "\n",
    "![AWS](https://img.shields.io/badge/AWS-%23FF9900.svg?style=for-the-badge&logo=amazon-aws&logoColor=white)\n",
    "\n",
    "---"
   ]
  },
  {
   "cell_type": "markdown",
   "metadata": {
    "application/vnd.databricks.v1+cell": {
     "cellMetadata": {},
     "inputWidgets": {},
     "nuid": "957e2cee-cba3-4788-904e-2c7b15addef4",
     "showTitle": false,
     "title": ""
    }
   },
   "source": [
    "## Section 2: Data Overview 🔍 [10 points]\n",
    "\n",
    "### 2.1 Read California Dataset 🚰 [1 point]\n",
    "\n",
    "In this section, we will load the dataset from [AWS](https://googlethatforyou.com?q=amazon%20web%20services) S3, conduct an exploratory data analysis and then clean up the dataset\n",
    "\n",
    "\n",
    "- Ensure that pandas and plotly are installed (possibly via pip or poetry)\n",
    "- The dataset is about 300 MB in size and time-to-download depends on internet speed and availability\n",
    "- Download the dataset using Python into this notebook and load it into a pandas dataframe (without writing to file)"
   ]
  },
  {
   "cell_type": "code",
   "execution_count": 0,
   "metadata": {
    "application/vnd.databricks.v1+cell": {
     "cellMetadata": {},
     "inputWidgets": {},
     "nuid": "016a227f-4b3d-41fc-a8a2-f4ca4af0451e",
     "showTitle": false,
     "title": ""
    }
   },
   "outputs": [],
   "source": [
    "from matplotlib import pyplot as plt\n",
    "\n",
    "%matplotlib inline\n",
    "\n",
    "import pandas as pd\n",
    "import plotly.express as px\n",
    "import numpy as np\n",
    "\n",
    "CELL_HEIGHT: int = 50\n",
    "\n",
    "# Initialize helpers to ignore pandas warnings and resize columns and cells\n",
    "pd.set_option(\"chained_assignment\", None)\n",
    "pd.set_option(\"display.max_rows\", 50)\n",
    "pd.set_option(\"display.max_columns\", 500)\n",
    "pd.set_option(\"display.max_colwidth\", CELL_HEIGHT)\n",
    "\n",
    "DATA_URL: str = (\n",
    "    \"https://dotlas-marketing.s3.amazonaws.com/interviews/california_restaurants.json\"\n",
    ")"
   ]
  },
  {
   "cell_type": "code",
   "execution_count": 0,
   "metadata": {
    "application/vnd.databricks.v1+cell": {
     "cellMetadata": {},
     "inputWidgets": {},
     "nuid": "0b0199b4-52a5-41c5-a611-d5b7859084e9",
     "showTitle": false,
     "title": ""
    }
   },
   "outputs": [],
   "source": [
    "%%time\n",
    "# ✏️ YOUR CODE HERE\n",
    "# df: pd.DataFrame = ?"
   ]
  },
  {
   "cell_type": "markdown",
   "metadata": {
    "application/vnd.databricks.v1+cell": {
     "cellMetadata": {},
     "inputWidgets": {},
     "nuid": "daf72bb3-bcbc-4bf2-ad71-462ed90f496e",
     "showTitle": false,
     "title": ""
    }
   },
   "source": [
    "The following cell creates a `restaurant ID` column to uniquely index each restaurant. Run it as is."
   ]
  },
  {
   "cell_type": "code",
   "execution_count": 0,
   "metadata": {
    "application/vnd.databricks.v1+cell": {
     "cellMetadata": {},
     "inputWidgets": {},
     "nuid": "f90eacde-758b-4660-b3cf-0f482020db8f",
     "showTitle": false,
     "title": ""
    }
   },
   "outputs": [],
   "source": [
    "df[\"restaurant_id\"] = range(1, len(df) + 1)\n",
    "df.head()"
   ]
  },
  {
   "cell_type": "markdown",
   "metadata": {
    "application/vnd.databricks.v1+cell": {
     "cellMetadata": {},
     "inputWidgets": {},
     "nuid": "e4b8ee32-9be7-46f1-8311-47a11f82b2f6",
     "showTitle": false,
     "title": ""
    }
   },
   "source": [
    "### 2.2 Data Overview 🌍 [9 points]\n",
    "Inspect the data to understand what you are dealing with, including summary statistics as well as its structure and identify potential issues that need fixing."
   ]
  },
  {
   "cell_type": "code",
   "execution_count": 0,
   "metadata": {
    "application/vnd.databricks.v1+cell": {
     "cellMetadata": {},
     "inputWidgets": {},
     "nuid": "8858e0e7-deb1-429e-9be8-b87fdcb93723",
     "showTitle": false,
     "title": ""
    }
   },
   "outputs": [],
   "source": [
    "# ✏️ YOUR CODE HERE"
   ]
  },
  {
   "cell_type": "markdown",
   "metadata": {
    "application/vnd.databricks.v1+cell": {
     "cellMetadata": {},
     "inputWidgets": {},
     "nuid": "9220b810-99ff-4fc9-a98b-192777227b3a",
     "showTitle": false,
     "title": ""
    }
   },
   "source": [
    "---"
   ]
  },
  {
   "cell_type": "markdown",
   "metadata": {
    "application/vnd.databricks.v1+cell": {
     "cellMetadata": {},
     "inputWidgets": {},
     "nuid": "1cace92e-ab99-446d-bdb1-fc8a202c713a",
     "showTitle": false,
     "title": ""
    }
   },
   "source": [
    "## Section 3: Data Preprocessing 🕵🏼‍♀️ [25 points]\n",
    "\n",
    "<img src=\"https://media.giphy.com/media/hbd8nlok7kqnS/giphy.gif\" height=\"250px\" width=\"250px\" alt=\"simpsons\">\n",
    "\n",
    "\n",
    "In this exercise, you will be preprocessing the data. It will involve cleaning the data, transforming it into a suitable format, and handling missing values and outliers. These steps are crucial to ensure the quality and reliability of the data before applying statistical learning models.\n",
    "\n",
    "> 📝 Your work will be assessed based on how systematic and complete your transformations are i.e, if they perform the task generally across all data points, and yield the expected output."
   ]
  },
  {
   "cell_type": "markdown",
   "metadata": {
    "application/vnd.databricks.v1+cell": {
     "cellMetadata": {},
     "inputWidgets": {},
     "nuid": "9f37e5d2-7ab6-454c-9b33-495d7319d68e",
     "showTitle": false,
     "title": ""
    }
   },
   "source": [
    "### 3.1 Missing Values ❓ [5 Points]\n",
    "\n",
    "Identify and handle missing values in the dataset. If a value is missing, decide whether to fill it in with an appropriate default value, remove the row, or simply let it be."
   ]
  },
  {
   "cell_type": "code",
   "execution_count": 0,
   "metadata": {
    "application/vnd.databricks.v1+cell": {
     "cellMetadata": {},
     "inputWidgets": {},
     "nuid": "ddcab820-7342-4280-8b57-eb98e55af147",
     "showTitle": false,
     "title": ""
    }
   },
   "outputs": [],
   "source": [
    "# ✏️ YOUR CODE HERE"
   ]
  },
  {
   "cell_type": "markdown",
   "metadata": {
    "application/vnd.databricks.v1+cell": {
     "cellMetadata": {},
     "inputWidgets": {},
     "nuid": "2eee6e26-1099-46bf-b4ab-02545163f52e",
     "showTitle": false,
     "title": ""
    }
   },
   "source": [
    "### 3.2 Phoning it in 📞 [5 Points]\n",
    "\n",
    "Standardize the format of the ```'phone_number'``` column by removing any non-numeric characters and ensuring that all phone numbers have the same length."
   ]
  },
  {
   "cell_type": "code",
   "execution_count": 0,
   "metadata": {
    "application/vnd.databricks.v1+cell": {
     "cellMetadata": {},
     "inputWidgets": {},
     "nuid": "5e1364d8-3823-49a1-babb-3a6429712908",
     "showTitle": false,
     "title": ""
    }
   },
   "outputs": [],
   "source": [
    "# ✏️ YOUR CODE HERE"
   ]
  },
  {
   "cell_type": "markdown",
   "metadata": {
    "application/vnd.databricks.v1+cell": {
     "cellMetadata": {},
     "inputWidgets": {},
     "nuid": "2516c3c1-6c93-4827-8480-4472aba851e1",
     "showTitle": false,
     "title": ""
    }
   },
   "source": [
    "### 3.3 No more HTML 📄 [5 Points]\n",
    "Find columns containing HTML tags and replace them with an appropriate plain text equivalent, such as a newline character or space.\n",
    "\n",
    "ex:\n",
    "\n",
    "```html\n",
    "<p>\n",
    "  Feast on delicious grub at Jerry's Famous Deli.<br />\n",
    "  Its retro-style casual setting features comfortable booth seating.\n",
    "</p>\n",
    "```\n",
    "\n",
    "to:\n",
    "\n",
    "```\n",
    "Feast on delicious grub at Jerry's Famous Deli. Its retro-style casual setting features comfortable booth seating.\n",
    "```"
   ]
  },
  {
   "cell_type": "code",
   "execution_count": 0,
   "metadata": {
    "application/vnd.databricks.v1+cell": {
     "cellMetadata": {},
     "inputWidgets": {},
     "nuid": "4c624e6d-15b6-4e56-a421-5c6f188350e1",
     "showTitle": false,
     "title": ""
    }
   },
   "outputs": [],
   "source": [
    "# ✏️ YOUR CODE HERE"
   ]
  },
  {
   "cell_type": "markdown",
   "metadata": {
    "application/vnd.databricks.v1+cell": {
     "cellMetadata": {},
     "inputWidgets": {},
     "nuid": "9984452e-6b37-4608-a45b-8fc5b28fd7ab",
     "showTitle": false,
     "title": ""
    }
   },
   "source": [
    "### 3.4 Safety Precautions 🦺 [5 Points]\n",
    "\n",
    "Transform the entire safety precautions column into a new column based on the following rule:\n",
    "\n",
    "Convert from `dictionary` to `list`. Only include in the list, those keys in the dictionary which are `true`.\n",
    "For ex, for safety precautions of the type:\n",
    "\n",
    "```python\n",
    "{\n",
    "    'cleanMenus': True,\n",
    "    'limitedSeating': False,\n",
    "    'sealedUtensils': None,\n",
    "    'prohibitSickStaff': True,\n",
    "    'requireDinerMasks': True,\n",
    "    'staffIsVaccinated': None,\n",
    "    'proofOfVaccinationRequired': False,\n",
    "    'sanitizerProvidedForCustomers': None\n",
    "}\n",
    "```\n",
    "\n",
    "It should turn into a list of the form:\n",
    "\n",
    "```python\n",
    "[\"Clean Menus\", \"Prohibit Sick Staff\", \"Require Diner Masks\"]\n",
    "```"
   ]
  },
  {
   "cell_type": "code",
   "execution_count": 0,
   "metadata": {
    "application/vnd.databricks.v1+cell": {
     "cellMetadata": {},
     "inputWidgets": {},
     "nuid": "c28e6ff8-174f-4093-888b-966facea5116",
     "showTitle": false,
     "title": ""
    }
   },
   "outputs": [],
   "source": [
    "# ✏️ YOUR CODE HERE"
   ]
  },
  {
   "cell_type": "markdown",
   "metadata": {
    "application/vnd.databricks.v1+cell": {
     "cellMetadata": {},
     "inputWidgets": {},
     "nuid": "85a2921f-7ef8-40ed-a3ce-839c83fec10e",
     "showTitle": false,
     "title": ""
    },
    "tags": []
   },
   "source": [
    "### 3.5 Imputing Exercise 📈 [5 Points]\n",
    "\n",
    "Fill up missing values for rating, rating count and review count by imputing based on the following columns in order:\n",
    "\n",
    "1. `brand_name`\n",
    "2. `area`\n",
    "3. `city`\n",
    "\n",
    "This means that if `rating` is missing for a restaurant (null / 0), but that restaurant is part of a brand where\n",
    "other restaurants of the same brand have ratings, then a median rating is taken. If brands are complete, then missing values are filled using\n",
    "area where the restaurant is located (median rating) and finally filled using the city's rating\n",
    "\n",
    "Here's an example:\n",
    "\n",
    "|restaurant_id\t|brand_name|\tarea|\tcity|\trating|\timputed_rating_brand | imputed_rating_area| imputed_rating_city\n",
    "| --- | --- | --- | --- | --- | --- | --- | --- |\n",
    "|1\t|X1|\tA1|\tB1|\t3|\t3| 3 | 3 |\n",
    "|2\t|X1|\tA1|\tB1|\t2|\t2| 2 | 2 |\n",
    "|3\t|X1|\tA1|\tB1|\t| 2.5| 2.5 | 2.5 |\n",
    "|4\t|X2|\tA1|\tB1|\t4|\t4 | 4 | 4 |\n",
    "|5\t|X3|\tA1|\tB1|\t|\t | 2.75 | 2.75 |\n",
    "|6\t|X4|\tA4|\tB2|\t|\t | | 3 |\n",
    "|7\t|X5|\tA6|\tB2|\t2|\t 2| 2| 2|\n",
    "|8\t|X6|\tA7|\tB2|\t4|\t 4| 4| 4 |"
   ]
  },
  {
   "cell_type": "code",
   "execution_count": 0,
   "metadata": {
    "application/vnd.databricks.v1+cell": {
     "cellMetadata": {},
     "inputWidgets": {},
     "nuid": "2f4a0af2-91c9-4c99-91a0-bb15cec7f249",
     "showTitle": false,
     "title": ""
    }
   },
   "outputs": [],
   "source": [
    "# ✏️ YOUR CODE HERE"
   ]
  },
  {
   "cell_type": "markdown",
   "metadata": {
    "application/vnd.databricks.v1+cell": {
     "cellMetadata": {},
     "inputWidgets": {},
     "nuid": "e5d4a653-083b-4c5a-b2d7-ae9ba6ebe63f",
     "showTitle": false,
     "title": ""
    }
   },
   "source": [
    "---"
   ]
  },
  {
   "cell_type": "markdown",
   "metadata": {
    "application/vnd.databricks.v1+cell": {
     "cellMetadata": {},
     "inputWidgets": {},
     "nuid": "7858dfbf-8db0-480a-a712-38620c156781",
     "showTitle": false,
     "title": ""
    }
   },
   "source": [
    "Remember to hydrate and \n",
    "\n",
    "[![Spotify](https://img.shields.io/badge/Spotify-1ED760?style=for-the-badge&logo=spotify&logoColor=white)](https://open.spotify.com/playlist/3d4bU6GAelt3YL2L1X2SOn)\n",
    "\n",
    "---"
   ]
  },
  {
   "cell_type": "markdown",
   "metadata": {
    "application/vnd.databricks.v1+cell": {
     "cellMetadata": {},
     "inputWidgets": {},
     "nuid": "7efe8fef-7019-4de7-b2ab-950fab4c4367",
     "showTitle": false,
     "title": ""
    }
   },
   "source": [
    "## Section 4: Non-Trivial Transformations Exercise 🤺 [20 points]"
   ]
  },
  {
   "cell_type": "markdown",
   "metadata": {
    "application/vnd.databricks.v1+cell": {
     "cellMetadata": {},
     "inputWidgets": {},
     "nuid": "73bf6fb7-45f5-4cd7-a295-e60f53ef12cb",
     "showTitle": false,
     "title": ""
    },
    "tags": []
   },
   "source": [
    "### 4.1 Menu-Level Table 🧾 [20 points]\n",
    "\n",
    "<img src=\"https://media.giphy.com/media/qpLuA97QGOsnK/giphy.gif\" height=\"250px\" width=\"250px\" alt=\"ratatouille\">\n",
    "\n",
    "**Create a menu-level table by parsing out menu items from the `menu` column per restaurant.**\n",
    "\n",
    "Every restaurant has a `menu` column that contains deeply nested JSON data on the restaurant's menu. The hierarchy is as follows: \n",
    "\n",
    "* One restaurant can have multiple menus (morning menu, evening menu, etc.)\n",
    "    * Each menu can have a description and provider\n",
    "* Each restaurant menu can have multiple sections (such as Appetizers, Desserts, etc.)\n",
    "    * Each section has a description\n",
    "* Each section can have multiple menu items (such as Latte, Apple Pie, Carrot Halwa, etc.)\n",
    "    * Each menu item has a price, currency and description\n",
    "\n",
    "You need to parse out the menu data from the JSON in the `menu` column for each restaurant and have a restaurants x menu table as shown below. \n",
    "\n",
    "| restaurant_id | menu_name | menu_description | menu_provider | section_name | section_description | item_name          | item_description                                                                                                      | item_price | item_price_currency |\n",
    "| ------------: | :-------- | :--------------- | ------------: | :----------- | :------------------ | :----------------- | :-------------------------------------------------------------------------------------------------------------------- | ---------: | :------------------ |\n",
    "|             1 | Main Menu |                  |           nan | Appetizers   |                     | Egg Rolls          | Deep fried mixed veggie egg rolls served with sweet & sour sauce                                                      |          8 | USD                 |\n",
    "|             1 | Main Menu |                  |           nan | Appetizers   |                     | Fried Tofu         | (Contains Peanut) Deep fried tofu, served with sweet & sour sauce and crushed peanut                                  |          8 | USD                 |\n",
    "|             1 | Main Menu |                  |           nan | Appetizers   |                     | Fried Meat Balls   | Deep fried fish, pork, beef balls or mixed served with sweet & sour sauce. Meat: Beef $1, Fish, Mixed Meat ball, Pork |        8.5 | USD                 |\n",
    "|             1 | Main Menu |                  |           nan | Appetizers   |                     | Pork Jerky         | Deep fried marinated pork served with special jaew sauce                                                              |        8.5 | USD                 |\n",
    "|             1 | Main Menu |                  |           nan | Appetizers   |                     | Thai Isaan Sausage | (Contains Peanut) Thai Style sausage served with fresh vegetables and peanuts                                         |          9 | USD                 |\n",
    "\n",
    "\n",
    "> 📝 Your work will be assessed based on how maintainable your code is, if it logically and systematically performs the transformations, and is highly performant. You will be penalized on data quality metrics and if there are any bugs in the intermediate transformations that leads to final erroneous values."
   ]
  },
  {
   "cell_type": "code",
   "execution_count": 0,
   "metadata": {
    "application/vnd.databricks.v1+cell": {
     "cellMetadata": {},
     "inputWidgets": {},
     "nuid": "dfe1494a-61a7-42c6-9d83-ee56a81d0130",
     "showTitle": false,
     "title": ""
    }
   },
   "outputs": [],
   "source": [
    "# ✏️ YOUR CODE HERE"
   ]
  },
  {
   "cell_type": "markdown",
   "metadata": {
    "application/vnd.databricks.v1+cell": {
     "cellMetadata": {},
     "inputWidgets": {},
     "nuid": "fdf59615-e057-43fb-a3d2-07f39d078c8a",
     "showTitle": false,
     "title": ""
    }
   },
   "source": [
    "---"
   ]
  },
  {
   "cell_type": "markdown",
   "metadata": {
    "application/vnd.databricks.v1+cell": {
     "cellMetadata": {},
     "inputWidgets": {},
     "nuid": "8f12fe5d-6024-437f-b187-2748267fb8ac",
     "showTitle": false,
     "title": ""
    }
   },
   "source": [
    "## Section 5: Exploratory Data Analysis 🕵🏼‍♀️ [30 points]\n",
    "\n",
    "In this exercise, **you will be conducting your own open-ended exploratory data analysis (EDA) of the dataset to gain insights and prepare the data for further analysis**. The EDA will involve understanding the structure of the data, checking for missing values, outliers, and correlations, and identifying trends or patterns. \n",
    "\n",
    "We know how much fun it is to create all sorts of funky visualizations and crunch numbers all day long. But let's not forget why we're doing this - we want to tell a story about our data! So, while it's great to have fun with your data, let's make sure we're doing it in a systematic and purposeful way. Each visualization and exploration should show progress in understanding the data better and contribute to telling the story of our data. So let's put on our exploration hats and approach every chart and graph with a clear question in mind. By doing this, we'll uncover exciting insights and tell an engaging story about our data that even your grandma will want to hear.\n",
    "\n",
    "> 📝 Your work will be assessed based on the quality of your visualizations, the funnels employed to transform data-driven questions into insights, and your interpretation of the generated results."
   ]
  },
  {
   "cell_type": "code",
   "execution_count": 0,
   "metadata": {
    "application/vnd.databricks.v1+cell": {
     "cellMetadata": {},
     "inputWidgets": {},
     "nuid": "a6490751-4fbc-424c-922e-6078a97aa95c",
     "showTitle": false,
     "title": ""
    }
   },
   "outputs": [],
   "source": [
    "# ✏️ YOUR CODE HERE"
   ]
  },
  {
   "cell_type": "markdown",
   "metadata": {
    "application/vnd.databricks.v1+cell": {
     "cellMetadata": {},
     "inputWidgets": {},
     "nuid": "8aacb7ba-93f2-48a3-94d7-98714034956c",
     "showTitle": false,
     "title": ""
    }
   },
   "source": [
    "---\n",
    "\n",
    "Good job!\n",
    "\n",
    "<img src=\"https://media.giphy.com/media/qLhxN7Rp3PI8E/giphy.gif\" height=\"250px\" width=\"250px\" alt=\"legend of zelda\">"
   ]
  }
 ],
 "metadata": {
  "application/vnd.databricks.v1+notebook": {
   "dashboards": [],
   "language": "python",
   "notebookMetadata": {
    "pythonIndentUnit": 4
   },
   "notebookName": "mission-summer-2023",
   "widgets": {}
  },
  "kernelspec": {
   "display_name": "ffpl",
   "language": "python",
   "name": "ffpl"
  },
  "language_info": {
   "codemirror_mode": {
    "name": "ipython",
    "version": 3
   },
   "file_extension": ".py",
   "mimetype": "text/x-python",
   "name": "python",
   "nbconvert_exporter": "python",
   "pygments_lexer": "ipython3",
   "version": "3.9.16"
  },
  "toc-showtags": false
 },
 "nbformat": 4,
 "nbformat_minor": 0
}
