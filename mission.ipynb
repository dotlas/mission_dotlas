{
 "cells": [
  {
   "cell_type": "markdown",
   "metadata": {
    "application/vnd.databricks.v1+cell": {
     "cellMetadata": {
      "byteLimit": 2048000,
      "rowLimit": 10000
     },
     "inputWidgets": {},
     "nuid": "35f6c4e7-ffb6-46c1-8cbf-d6be62a6af5c",
     "showTitle": false,
     "title": ""
    },
    "tags": []
   },
   "source": [
    "# Mission Dotlas 🌎 [40 points]\n",
    "\n",
    "> Data Science Assignment\n",
    "\n",
    "> `v4.0` Updated: December 27 2023 (Spring 2024 Version)\n",
    "\n",
    "<img src=\"https://camo.githubusercontent.com/6a3a3a9e55ce6b5c4305badbdc68c0d5f11b360b11e3fa7b93c822d637166090/68747470733a2f2f646f746c61732d776562736974652e73332e65752d776573742d312e616d617a6f6e6177732e636f6d2f696d616765732f6769746875622f62616e6e65722e706e67\" width=\"750px\" alt=\"dotlas\">"
   ]
  },
  {
   "cell_type": "markdown",
   "metadata": {
    "application/vnd.databricks.v1+cell": {
     "cellMetadata": {
      "byteLimit": 2048000,
      "rowLimit": 10000
     },
     "inputWidgets": {},
     "nuid": "414d1b5c-24a6-4782-88ba-79fd4e524308",
     "showTitle": false,
     "title": ""
    }
   },
   "source": [
    "## Section 1: Project Overview ✉️\n",
    "\n",
    "Welcome to your mission! In this notebook, you will download a dataset containing restaurants' information in the state of California, US. \n",
    "The dataset will then be transformed, processed and prepared in a required format. \n",
    "This clean dataset will then be used to answer some analytical questions and create a few data visualizations in Python.\n",
    "\n",
    "This is a template notebook that has some code already filled-in to help you on your way. There are also cells that require you to fill in the python code to solve specific problems. There are sections of the notebook that contain a points tally for code written. \n",
    "\n",
    "**Each section of this notebook is largely independent, so if you get stuck on a problem you can always move on to the next one.**"
   ]
  },
  {
   "cell_type": "markdown",
   "metadata": {
    "application/vnd.databricks.v1+cell": {
     "cellMetadata": {
      "byteLimit": 2048000,
      "rowLimit": 10000
     },
     "inputWidgets": {},
     "nuid": "1a4d8483-d786-4b3f-8c5c-7ff071f5b182",
     "showTitle": false,
     "title": ""
    }
   },
   "source": [
    "### 1.1. Tools & Technologies 🪛\n",
    "\n",
    "- This exercise will be carried out using the [Python](https://www.python.org/) programming language and will rely hevily on the [Pandas](https://pandas.pydata.org/) library for data manipulation.\n",
    "- You are also free to use Polars, Dask or Spark if you do not want to use Pandas.\n",
    "- You may use any of [Matplotlib](https://matplotlib.org/), [Seaborn](https://seaborn.pydata.org/) or [Plotly](https://plotly.com/python/) packages for data visualization.\n",
    "- We will be using [Jupyter notebooks](https://jupyter.org/) to run Python code in order to view and interact better with our data and visualizations.\n",
    "- You are free to use [Google Colab](https://colab.research.google.com/) which provides an easy-to-use Jupyter interface.\n",
    "- When not in Colab, it is recommended to run this Jupyter Notebook within an [Anaconda](https://continuum.io/) environment\n",
    "- You can use any other Python packages that you deem fit for this project.\n",
    "- You are also allowed to freely use search engines like Google, or tools like ChatGPT to assist. \n",
    "\n",
    "> ⚠ **Ensure that your Python version is 3.9 or higher**\n",
    "\n",
    "![](https://upload.wikimedia.org/wikipedia/commons/1/1b/Blue_Python_3.9_Shield_Badge.svg)\n",
    "\n",
    "**Language**\n",
    "\n",
    "![Python](https://img.shields.io/badge/python-3670A0?style=for-the-badge&logo=python&logoColor=ffdd54)\n",
    "\n",
    "**Environments & Packages**\n",
    "\n",
    "![Anaconda](https://img.shields.io/badge/Anaconda-%2344A833.svg?style=for-the-badge&logo=anaconda&logoColor=white)\n",
    "![Jupyter Notebook](https://img.shields.io/badge/jupyter-%23FA0F00.svg?style=for-the-badge&logo=jupyter&logoColor=white)\n",
    "\n",
    "![Pandas](https://img.shields.io/badge/pandas-%23150458.svg?style=for-the-badge&logo=pandas&logoColor=white)\n",
    "![Matplotlib](https://img.shields.io/badge/Matplotlib-%23ffffff.svg?style=for-the-badge&logo=Matplotlib&logoColor=black)\n",
    "![Plotly](https://img.shields.io/badge/Plotly-%233F4F75.svg?style=for-the-badge&logo=plotly&logoColor=white)\n",
    "\n",
    "**Data Store**\n",
    "\n",
    "![AWS](https://img.shields.io/badge/AWS-%23FF9900.svg?style=for-the-badge&logo=amazon-aws&logoColor=white)"
   ]
  },
  {
   "cell_type": "markdown",
   "metadata": {
    "application/vnd.databricks.v1+cell": {
     "cellMetadata": {
      "byteLimit": 2048000,
      "rowLimit": 10000
     },
     "inputWidgets": {},
     "nuid": "957e2cee-cba3-4788-904e-2c7b15addef4",
     "showTitle": false,
     "title": ""
    }
   },
   "source": [
    "## Section 2: Read California Dataset 🚰\n",
    "---\n",
    "\n",
    "In this section, we will load the dataset from [AWS](https://googlethatforyou.com?q=amazon%20web%20services) S3, conduct an exploratory data analysis and then clean up the dataset\n",
    "\n",
    "\n",
    "- Ensure that pandas and plotly are installed (possibly via pip or poetry)\n",
    "- The dataset is about 34.5 MB in size and time-to-download depends on internet speed and availability"
   ]
  },
  {
   "cell_type": "code",
   "execution_count": 0,
   "metadata": {
    "application/vnd.databricks.v1+cell": {
     "cellMetadata": {
      "byteLimit": 2048000,
      "rowLimit": 10000
     },
     "inputWidgets": {},
     "nuid": "016a227f-4b3d-41fc-a8a2-f4ca4af0451e",
     "showTitle": true,
     "title": "Imports & Configs"
    }
   },
   "outputs": [],
   "source": [
    "import warnings\n",
    "\n",
    "warnings.filterwarnings(\"ignore\")\n",
    "\n",
    "from matplotlib import pyplot as plt\n",
    "\n",
    "%matplotlib inline\n",
    "\n",
    "import pandas as pd\n",
    "import numpy as np\n",
    "\n",
    "CELL_HEIGHT: int = 50\n",
    "\n",
    "# Initialize helpers to ignore pandas warnings and resize columns and cells\n",
    "pd.set_option(\"chained_assignment\", None)\n",
    "pd.set_option(\"display.max_rows\", 50)\n",
    "pd.set_option(\"display.max_columns\", 500)\n",
    "pd.set_option(\"display.max_info_columns\", 1_000)\n",
    "pd.set_option(\"display.max_info_rows\", 1_000_000)\n",
    "pd.set_option(\"display.max_colwidth\", CELL_HEIGHT)\n",
    "\n",
    "DATA_URL: str = (\n",
    "    \"https://dotlas-marketing.s3.amazonaws.com/interviews/california_restaurants_2024.json\"\n",
    ")"
   ]
  },
  {
   "cell_type": "markdown",
   "metadata": {
    "application/vnd.databricks.v1+cell": {
     "cellMetadata": {
      "byteLimit": 2048000,
      "rowLimit": 10000
     },
     "inputWidgets": {},
     "nuid": "1133d2f2-2caa-465b-9426-cf0b0a84be9a",
     "showTitle": false,
     "title": ""
    }
   },
   "source": [
    "#### 2.1 Read & Preprocess Data 🔍 [7]\n",
    "\n",
    "<img src=\"https://media.giphy.com/media/l0NgQIwNvU9AUuaY0/giphy.gif\"  width=\"150px\" alt=\"assembly\">\n",
    "\n",
    "The code cell below reads the data from the `DATA_URL`, and performs some preliminary preprocessing steps. We initially drop a few columns, and you are required to not use these for the remainder of the notebook. Read through the code and answer the following questions.\n",
    "\n",
    "1. Briefly describe what each of the steps `Preproc 1 ... 4` are seeking to accomplish, and why these are relevant. (*Hint*: Try viewing the dataset without these steps individually)\n",
    "2. Based on a look at the resulting dataset, do you believe there's a need for further preprocessing to prepare the data for analysis? If so, add the preprocessing steps in the subsequent cell.\n",
    "\n",
    "> 📝 Your evaluation for this section will be based on your ability to identify where additional preprocessing is most necessary, and the steps taken to achieve it. We're not looking for a battery of data cleaning transformations, and instead want you to think surgically about what could be causing the most problems downstream."
   ]
  },
  {
   "cell_type": "code",
   "execution_count": 0,
   "metadata": {
    "application/vnd.databricks.v1+cell": {
     "cellMetadata": {
      "byteLimit": 2048000,
      "rowLimit": 10000
     },
     "inputWidgets": {},
     "nuid": "0b0199b4-52a5-41c5-a611-d5b7859084e9",
     "showTitle": false,
     "title": ""
    }
   },
   "outputs": [],
   "source": [
    "df: pd.DataFrame = pd.read_json(DATA_URL)\n",
    "\n",
    "# Preproc 1\n",
    "for col in df.columns:\n",
    "    df[col] = df[col].apply(\n",
    "        lambda cell: None if isinstance(cell, list) and len(cell) == 0 else cell\n",
    "    )\n",
    "\n",
    "# Preproc 2\n",
    "rating_cols: list[str] = [\n",
    "    \"rating\",\n",
    "    \"atmosphere_rating\",\n",
    "    \"noise_rating\",\n",
    "    \"food_rating\",\n",
    "    \"service_rating\",\n",
    "    \"value_rating\",\n",
    "]\n",
    "for col in rating_cols:\n",
    "    df.loc[(df.rating_count == 0) | (df.rating_count.isna()), col] = None\n",
    "\n",
    "# Preproc 3\n",
    "df = df.replace([np.nan], [None])\n",
    "df = df.replace([\"\"], [None])\n",
    "\n",
    "# Preproc 4\n",
    "df[\"restaurant_id\"] = range(1, len(df) + 1)\n",
    "\n",
    "df.head()"
   ]
  },
  {
   "cell_type": "code",
   "execution_count": 0,
   "metadata": {
    "application/vnd.databricks.v1+cell": {
     "cellMetadata": {},
     "inputWidgets": {},
     "nuid": "6b994088-8b7e-4309-8177-0625601e210e",
     "showTitle": false,
     "title": ""
    }
   },
   "outputs": [],
   "source": [
    "# Preproc 5...n\n",
    "# YOUR CODE HERE"
   ]
  },
  {
   "cell_type": "code",
   "execution_count": 0,
   "metadata": {
    "application/vnd.databricks.v1+cell": {
     "cellMetadata": {},
     "inputWidgets": {},
     "nuid": "b80e9ee0-4439-4182-bbef-d5015b1ceb57",
     "showTitle": false,
     "title": ""
    }
   },
   "outputs": [],
   "source": []
  },
  {
   "cell_type": "markdown",
   "metadata": {
    "application/vnd.databricks.v1+cell": {
     "cellMetadata": {},
     "inputWidgets": {},
     "nuid": "6432d94c-7576-42f1-a8dc-fe7ab9864c7d",
     "showTitle": false,
     "title": ""
    }
   },
   "source": [
    "## Section 3: Data-Driven Questions 💬 [13]\n",
    "---\n",
    "\n",
    "<img src=\"https://media.giphy.com/media/fv8KclrYGp5dK/giphy.gif\"  width=\"250px\" alt=\"sherlock\">\n",
    "\n",
    "\n",
    "This section is designed to pose several broad questions that require a data-centric approach for their answers. You will need to manipulate, filter, and aggregate the provided data to derive the results using code. The key objective is to assess your capability to convert a question into a series of methods or transformations that guide you to **systematically deduce the answer**, and to evaluate the reasoning process you employ to reach the conclusion as well as the **criteria you select**. Consider cleaning up additional fields in the data before you use them. Although the analysis is not limited to the dataset included in this notebook, and you are encouraged to incorporate **supplementary references** from other publicly available datasets, studies, or statistics, it is obligatory to utilize the primary dataset supplied with this notebook as the main information source. Additionally, it is essential to incorporate a **visualization** of your findings as a way to articulate your response. You are free to select any form of visualization, be it charts, maps, animations, or others, but they must be original creations and not borrowed from external sources.\n",
    "\n",
    "> 📝 Your evaluation will be based on the investigative techniques employed, the originality of your approach, the selection of variables and metrics, the criteria chosen, the type and quality of the visualization selected, and any additional supporting evidence, if provided"
   ]
  },
  {
   "cell_type": "markdown",
   "metadata": {
    "application/vnd.databricks.v1+cell": {
     "cellMetadata": {},
     "inputWidgets": {},
     "nuid": "f9aa024c-7624-418b-b325-8dace04cc477",
     "showTitle": false,
     "title": ""
    }
   },
   "source": [
    "#### 3.1. Cuisine Saturation 🍱 [3]\n",
    "\n",
    "**Which cuisines are over-saturating in `San Diego`?** Define a metric called `saturation` and use it to calculate the result. When you produce the result, ask yourself if it makes sense, and justify"
   ]
  },
  {
   "cell_type": "code",
   "execution_count": 0,
   "metadata": {
    "application/vnd.databricks.v1+cell": {
     "cellMetadata": {},
     "inputWidgets": {},
     "nuid": "6469e9eb-a1f0-4f9c-ba44-29ab7c6e3828",
     "showTitle": false,
     "title": ""
    }
   },
   "outputs": [],
   "source": [
    "# YOUR CODE HERE"
   ]
  },
  {
   "cell_type": "markdown",
   "metadata": {
    "application/vnd.databricks.v1+cell": {
     "cellMetadata": {},
     "inputWidgets": {},
     "nuid": "de310a76-a0d3-471f-9a16-b6b50b2ef192",
     "showTitle": false,
     "title": ""
    }
   },
   "source": [
    "#### 3.2. Twinning 🗺 [5]\n",
    "\n",
    "**Find a pair of `area` (neighbourhoods) in California that have a similar `cuisine` distribution**. Be sure to consider neighbourhoods that have a reasonable sample of restaurants to begin with! (*Hint*: Think about whether you can equate neighbourhoods that have `fast-food` and `burger` cuisines as equivalent)"
   ]
  },
  {
   "cell_type": "code",
   "execution_count": 0,
   "metadata": {
    "application/vnd.databricks.v1+cell": {
     "cellMetadata": {},
     "inputWidgets": {},
     "nuid": "dc783c78-ba84-45be-85d7-ff5dffe1914f",
     "showTitle": false,
     "title": ""
    }
   },
   "outputs": [],
   "source": [
    "# YOUR CODE HERE"
   ]
  },
  {
   "cell_type": "markdown",
   "metadata": {
    "application/vnd.databricks.v1+cell": {
     "cellMetadata": {},
     "inputWidgets": {},
     "nuid": "b7747fb2-284f-4903-87b9-2ab483601f59",
     "showTitle": false,
     "title": ""
    }
   },
   "source": [
    "#### 3.3. Competitor Analysis 🍝 [3]\n",
    "\n",
    "**Which restaurants in California can be considered competitors of the `Mona Lisa` Italian restaurant in San Francisco?** Use whatever metrics or criteria you wish to define what qualifies as a competitor. Justify your use of these metrics, and be sure to check if the values in the data accurately represent the interpretation you're seeking."
   ]
  },
  {
   "cell_type": "code",
   "execution_count": 0,
   "metadata": {
    "application/vnd.databricks.v1+cell": {
     "cellMetadata": {},
     "inputWidgets": {},
     "nuid": "865550f1-12c8-4707-bae6-6c63309b10d0",
     "showTitle": false,
     "title": ""
    }
   },
   "outputs": [],
   "source": [
    "# YOUR CODE HERE"
   ]
  },
  {
   "cell_type": "markdown",
   "metadata": {
    "application/vnd.databricks.v1+cell": {
     "cellMetadata": {},
     "inputWidgets": {},
     "nuid": "4222c869-64a9-436f-8e38-cd38bee25a51",
     "showTitle": false,
     "title": ""
    }
   },
   "source": [
    "#### 3.4 Social Pops 🎭 [2]\n",
    "\n",
    "**Does a restaurant's presence on social media influence its popularity?** Use your own definition of `popularity` and justify the factors used to arrive at it. (*Hint*: Is a restaurant with a high rating or review count always popular?)"
   ]
  },
  {
   "cell_type": "markdown",
   "metadata": {
    "application/vnd.databricks.v1+cell": {
     "cellMetadata": {},
     "inputWidgets": {},
     "nuid": "a6ba571c-62d2-4cf4-ae4e-217f7a96d943",
     "showTitle": false,
     "title": ""
    }
   },
   "source": [
    "Remember to hydrate and  [![Spotify](https://img.shields.io/badge/Spotify-1ED760?style=for-the-badge&logo=spotify&logoColor=white)](https://open.spotify.com/playlist/3d4bU6GAelt3YL2L1X2SOn)"
   ]
  },
  {
   "cell_type": "markdown",
   "metadata": {
    "application/vnd.databricks.v1+cell": {
     "cellMetadata": {},
     "inputWidgets": {},
     "nuid": "311b62e5-dd30-4870-b59d-9ecdbd7bba83",
     "showTitle": false,
     "title": ""
    }
   },
   "source": [
    "\n",
    "## Section 4: Meal Cost Prediction 💰 [10]\n",
    "\n",
    "---\n",
    "\n",
    "<img src=\"https://media.giphy.com/media/TGcD6N8uzJ9FXuDV3a/giphy.gif\" width=\"250px\" alt=\"sherlock\">\n",
    "\n",
    "Create a supervised machine learning model that can predict the `meal_cost` of a restaurant. You can use `meal_cost`, a field in the dataset that represents the price in `USD` for a meal at the restaurant for 1-2 persons as a training label. You can use any of the other fields available in the dataset as trainable features to predict the target. You do not need to use neural networks or more complex models. Do not create a model zoo. Answer the following questions as you build out your model.\n",
    "\n",
    "1. What metrics will you use to judge if the model is performing well?\n",
    "2. What baseline model are you using, and why?\n",
    "3. What features have you selected to predict the target, and why?\n",
    "4. Have you looked at the specific rows where your model is performing badly? \n",
    "5. Can your trained model be used to predict meal prices for restaurants not present in this dataset? What kind of constraints would you set for users of this model, if you were to ship it?\n",
    "\n",
    "> 📝 You will be evaluated on the following criteria. Feature selection and reasoning, feature engineering, model selection, hyperparameter tuning and general methodology. We're not interested in your final model accuracy scores but instead on how systematic you were in arriving at a *reliable* result, and if that result is meaningful."
   ]
  },
  {
   "cell_type": "code",
   "execution_count": 0,
   "metadata": {
    "application/vnd.databricks.v1+cell": {
     "cellMetadata": {},
     "inputWidgets": {},
     "nuid": "42796432-eed0-456c-bfcf-df924d3d1785",
     "showTitle": false,
     "title": ""
    }
   },
   "outputs": [],
   "source": [
    "# YOUR CODE HERE"
   ]
  },
  {
   "cell_type": "markdown",
   "metadata": {
    "application/vnd.databricks.v1+cell": {
     "cellMetadata": {},
     "inputWidgets": {},
     "nuid": "2f14dc8d-a083-47f5-a331-866226a101f3",
     "showTitle": false,
     "title": ""
    }
   },
   "source": [
    "## Section 5: Create a Data Product 🗃 [10]"
   ]
  },
  {
   "cell_type": "code",
   "execution_count": 0,
   "metadata": {
    "application/vnd.databricks.v1+cell": {
     "cellMetadata": {},
     "inputWidgets": {},
     "nuid": "877cfc2c-9272-499a-af73-24156ba8505f",
     "showTitle": false,
     "title": ""
    }
   },
   "outputs": [],
   "source": [
    "# YOUR CODE HERE"
   ]
  },
  {
   "cell_type": "markdown",
   "metadata": {
    "application/vnd.databricks.v1+cell": {
     "cellMetadata": {},
     "inputWidgets": {},
     "nuid": "8aacb7ba-93f2-48a3-94d7-98714034956c",
     "showTitle": false,
     "title": ""
    }
   },
   "source": [
    "---\n",
    "\n",
    "Good job!\n",
    "\n",
    "<img src=\"https://media.giphy.com/media/qLhxN7Rp3PI8E/giphy.gif\" width=\"250px\" alt=\"legend of zelda\">"
   ]
  },
  {
   "cell_type": "markdown",
   "metadata": {
    "application/vnd.databricks.v1+cell": {
     "cellMetadata": {},
     "inputWidgets": {},
     "nuid": "53644d19-279b-49b7-b9af-2dc99896c88b",
     "showTitle": false,
     "title": ""
    }
   },
   "source": []
  }
 ],
 "metadata": {
  "application/vnd.databricks.v1+notebook": {
   "dashboards": [],
   "language": "python",
   "notebookMetadata": {
    "pythonIndentUnit": 4
   },
   "notebookName": "mission",
   "widgets": {}
  },
  "kernelspec": {
   "display_name": "ffpl",
   "language": "python",
   "name": "python3"
  },
  "language_info": {
   "codemirror_mode": {
    "name": "ipython",
    "version": 3
   },
   "file_extension": ".py",
   "mimetype": "text/x-python",
   "name": "python",
   "nbconvert_exporter": "python",
   "pygments_lexer": "ipython3",
   "version": "3.9.16"
  },
  "toc-showtags": false
 },
 "nbformat": 4,
 "nbformat_minor": 0
}
