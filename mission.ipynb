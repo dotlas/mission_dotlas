{
 "cells": [
  {
   "cell_type": "markdown",
   "metadata": {
    "application/vnd.databricks.v1+cell": {
     "cellMetadata": {},
     "inputWidgets": {},
     "nuid": "35f6c4e7-ffb6-46c1-8cbf-d6be62a6af5c",
     "showTitle": false,
     "title": ""
    },
    "tags": []
   },
   "source": [
    "# Mission Dotlas 🌎 [40 points]\n",
    "\n",
    "> Data Science Assignment\n",
    "\n",
    "> `v3.0` Updated: August 29 2023 (Fall 2023 Version)\n",
    "\n",
    "<img src=\"https://camo.githubusercontent.com/6a3a3a9e55ce6b5c4305badbdc68c0d5f11b360b11e3fa7b93c822d637166090/68747470733a2f2f646f746c61732d776562736974652e73332e65752d776573742d312e616d617a6f6e6177732e636f6d2f696d616765732f6769746875622f62616e6e65722e706e67\" width=\"750px\" alt=\"dotlas\">"
   ]
  },
  {
   "cell_type": "markdown",
   "metadata": {
    "application/vnd.databricks.v1+cell": {
     "cellMetadata": {},
     "inputWidgets": {},
     "nuid": "414d1b5c-24a6-4782-88ba-79fd4e524308",
     "showTitle": false,
     "title": ""
    }
   },
   "source": [
    "## Section 1: Project Overview ✉️\n",
    "\n",
    "Welcome to your mission! In this notebook, you will download a dataset containing restaurants' information in the state of California, US. \n",
    "The dataset will then be transformed, processed and prepared in a required format. \n",
    "This clean dataset will then be used to answer some analytical questions and create a few data visualizations in Python.\n",
    "\n",
    "This is a template notebook that has some code already filled-in to help you on your way. There are also cells that require you to fill in the python code to solve specific problems. There are sections of the notebook that contain a points tally for code written. \n",
    "\n",
    "**Each section of this notebook is largely independent, so if you get stuck on a problem you can always move on to the next one.**"
   ]
  },
  {
   "cell_type": "markdown",
   "metadata": {
    "application/vnd.databricks.v1+cell": {
     "cellMetadata": {},
     "inputWidgets": {},
     "nuid": "1a4d8483-d786-4b3f-8c5c-7ff071f5b182",
     "showTitle": false,
     "title": ""
    }
   },
   "source": [
    "### 1.1. Tools & Technologies 🪛\n",
    "\n",
    "- This exercise will be carried out using the [Python](https://www.python.org/) programming language and will rely hevily on the [Pandas](https://pandas.pydata.org/) library for data manipulation.\n",
    "- You may use any of [Matplotlib](https://matplotlib.org/), [Seaborn](https://seaborn.pydata.org/) or [Plotly](https://plotly.com/python/) packages for data visualization.\n",
    "- We will be using [Jupyter notebooks](https://jupyter.org/) to run Python code in order to view and interact better with our data and visualizations.\n",
    "- You are free to use [Google Colab](https://colab.research.google.com/) which provides an easy-to-use Jupyter interface.\n",
    "- When not in Colab, it is recommended to run this Jupyter Notebook within an [Anaconda](https://continuum.io/) environment\n",
    "- You can use any other Python packages that you deem fit for this project.\n",
    "\n",
    "> ⚠ **Ensure that your Python version is 3.9 or higher**\n",
    "\n",
    "![](https://upload.wikimedia.org/wikipedia/commons/1/1b/Blue_Python_3.9_Shield_Badge.svg)\n",
    "\n",
    "**Language**\n",
    "\n",
    "![Python](https://img.shields.io/badge/python-3670A0?style=for-the-badge&logo=python&logoColor=ffdd54)\n",
    "\n",
    "**Environments & Packages**\n",
    "\n",
    "![Anaconda](https://img.shields.io/badge/Anaconda-%2344A833.svg?style=for-the-badge&logo=anaconda&logoColor=white)\n",
    "![Jupyter Notebook](https://img.shields.io/badge/jupyter-%23FA0F00.svg?style=for-the-badge&logo=jupyter&logoColor=white)\n",
    "![Pandas](https://img.shields.io/badge/pandas-%23150458.svg?style=for-the-badge&logo=pandas&logoColor=white)\n",
    "![Matplotlib](https://img.shields.io/badge/Matplotlib-%23ffffff.svg?style=for-the-badge&logo=Matplotlib&logoColor=black)\n",
    "![Plotly](https://img.shields.io/badge/Plotly-%233F4F75.svg?style=for-the-badge&logo=plotly&logoColor=white)\n",
    "\n",
    "**Data Store**\n",
    "\n",
    "![AWS](https://img.shields.io/badge/AWS-%23FF9900.svg?style=for-the-badge&logo=amazon-aws&logoColor=white)"
   ]
  },
  {
   "cell_type": "markdown",
   "metadata": {
    "application/vnd.databricks.v1+cell": {
     "cellMetadata": {},
     "inputWidgets": {},
     "nuid": "957e2cee-cba3-4788-904e-2c7b15addef4",
     "showTitle": false,
     "title": ""
    }
   },
   "source": [
    "## Section 2: Read California Dataset 🚰 [1]\n",
    "\n",
    "In this section, we will load the dataset from [AWS](https://googlethatforyou.com?q=amazon%20web%20services) S3, conduct an exploratory data analysis and then clean up the dataset\n",
    "\n",
    "\n",
    "- Ensure that pandas and plotly are installed (possibly via pip or poetry)\n",
    "- The dataset is about 34.5 MB in size and time-to-download depends on internet speed and availability\n",
    "- Download the dataset using Python into this notebook and load it into a pandas dataframe (without writing to file)"
   ]
  },
  {
   "cell_type": "code",
   "execution_count": 0,
   "metadata": {
    "application/vnd.databricks.v1+cell": {
     "cellMetadata": {
      "byteLimit": 2048000,
      "rowLimit": 10000
     },
     "inputWidgets": {},
     "nuid": "016a227f-4b3d-41fc-a8a2-f4ca4af0451e",
     "showTitle": false,
     "title": ""
    }
   },
   "outputs": [],
   "source": [
    "import warnings\n",
    "\n",
    "warnings.filterwarnings(\"ignore\")\n",
    "\n",
    "from matplotlib import pyplot as plt\n",
    "\n",
    "%matplotlib inline\n",
    "\n",
    "import pandas as pd\n",
    "import plotly.express as px\n",
    "import numpy as np\n",
    "\n",
    "CELL_HEIGHT: int = 50\n",
    "\n",
    "# Initialize helpers to ignore pandas warnings and resize columns and cells\n",
    "pd.set_option(\"chained_assignment\", None)\n",
    "pd.set_option(\"display.max_rows\", 50)\n",
    "pd.set_option(\"display.max_columns\", 500)\n",
    "pd.set_option(\"display.max_colwidth\", CELL_HEIGHT)\n",
    "\n",
    "DATA_URL: str = (\n",
    "    \"https://dotlas-marketing.s3.amazonaws.com/interviews/california_restaurants_2023.json\"\n",
    ")"
   ]
  },
  {
   "cell_type": "code",
   "execution_count": 0,
   "metadata": {
    "application/vnd.databricks.v1+cell": {
     "cellMetadata": {},
     "inputWidgets": {},
     "nuid": "0b0199b4-52a5-41c5-a611-d5b7859084e9",
     "showTitle": false,
     "title": ""
    }
   },
   "outputs": [],
   "source": [
    "# ✏️ YOUR CODE HERE\n",
    "# df: pd.DataFrame = ?"
   ]
  },
  {
   "cell_type": "markdown",
   "metadata": {
    "application/vnd.databricks.v1+cell": {
     "cellMetadata": {},
     "inputWidgets": {},
     "nuid": "daf72bb3-bcbc-4bf2-ad71-462ed90f496e",
     "showTitle": false,
     "title": ""
    }
   },
   "source": [
    "The following cell creates a `restaurant ID` column to uniquely index each restaurant. Run it as is."
   ]
  },
  {
   "cell_type": "code",
   "execution_count": 0,
   "metadata": {
    "application/vnd.databricks.v1+cell": {
     "cellMetadata": {
      "byteLimit": 2048000,
      "rowLimit": 10000
     },
     "inputWidgets": {},
     "nuid": "f90eacde-758b-4660-b3cf-0f482020db8f",
     "showTitle": false,
     "title": ""
    }
   },
   "outputs": [],
   "source": [
    "df[\"restaurant_id\"] = range(1, len(df) + 1)\n",
    "print(df.shape)\n",
    "df.head()"
   ]
  },
  {
   "cell_type": "markdown",
   "metadata": {
    "application/vnd.databricks.v1+cell": {
     "cellMetadata": {},
     "inputWidgets": {},
     "nuid": "1cace92e-ab99-446d-bdb1-fc8a202c713a",
     "showTitle": false,
     "title": ""
    }
   },
   "source": [
    "## Section 3: Data Preprocessing 🕵🏼‍♀️ [9]\n",
    "\n",
    "\n",
    "<img src=\"https://media.giphy.com/media/2f41Z7bhKGvbG/giphy.gif\"  width=\"250px\" alt=\"potter\">\n",
    "\n",
    "\n",
    "In this exercise, you will be preprocessing the data. It will involve cleaning the data, transforming it into a suitable format, and handling missing values and outliers. These steps are crucial to ensure the quality and reliability of the data before applying statistical learning models.\n",
    "\n",
    "> 📝 Your work will be assessed based on how systematic and complete your transformations are i.e, if they perform the task generally across all data points, and yield the expected output."
   ]
  },
  {
   "cell_type": "markdown",
   "metadata": {
    "application/vnd.databricks.v1+cell": {
     "cellMetadata": {},
     "inputWidgets": {},
     "nuid": "9f37e5d2-7ab6-454c-9b33-495d7319d68e",
     "showTitle": false,
     "title": ""
    }
   },
   "source": [
    "### 3.1. Missing Values ❓ [4]\n",
    "\n",
    "Inspect the data to understand what you are dealing with, including summary statistics as well as its structure and identify potential issues that need fixing. Identify and handle missing values in the dataset. If a value is missing, decide whether to fill it in with an appropriate default value, remove the row, or simply let it be."
   ]
  },
  {
   "cell_type": "code",
   "execution_count": 0,
   "metadata": {
    "application/vnd.databricks.v1+cell": {
     "cellMetadata": {},
     "inputWidgets": {},
     "nuid": "ddcab820-7342-4280-8b57-eb98e55af147",
     "showTitle": false,
     "title": ""
    }
   },
   "outputs": [],
   "source": [
    "# ✏️ YOUR CODE HERE"
   ]
  },
  {
   "cell_type": "markdown",
   "metadata": {
    "application/vnd.databricks.v1+cell": {
     "cellMetadata": {},
     "inputWidgets": {},
     "nuid": "2eee6e26-1099-46bf-b4ab-02545163f52e",
     "showTitle": false,
     "title": ""
    }
   },
   "source": [
    "### 3.2. Phoning it in 📞 [3]\n",
    "\n",
    "Standardize the format of the ```'phone_number'``` column by removing any non-numeric characters and ensuring that all phone numbers have the same length."
   ]
  },
  {
   "cell_type": "code",
   "execution_count": 0,
   "metadata": {
    "application/vnd.databricks.v1+cell": {
     "cellMetadata": {},
     "inputWidgets": {},
     "nuid": "5e1364d8-3823-49a1-babb-3a6429712908",
     "showTitle": false,
     "title": ""
    }
   },
   "outputs": [],
   "source": [
    "# ✏️ YOUR CODE HERE"
   ]
  },
  {
   "cell_type": "markdown",
   "metadata": {
    "application/vnd.databricks.v1+cell": {
     "cellMetadata": {},
     "inputWidgets": {},
     "nuid": "2516c3c1-6c93-4827-8480-4472aba851e1",
     "showTitle": false,
     "title": ""
    }
   },
   "source": [
    "### 3.3. No more HTML 📄 [2]\n",
    "Find columns containing HTML tags and replace them with an appropriate plain text equivalent, such as a newline character or space.\n",
    "\n",
    "ex:\n",
    "\n",
    "```html\n",
    "<p>\n",
    "  Feast on delicious grub at Jerry's Famous Deli.<br />\n",
    "  Its retro-style casual setting features comfortable booth seating.\n",
    "</p>\n",
    "```\n",
    "\n",
    "to:\n",
    "\n",
    "```\n",
    "Feast on delicious grub at Jerry's Famous Deli. Its retro-style casual setting features comfortable booth seating.\n",
    "```"
   ]
  },
  {
   "cell_type": "code",
   "execution_count": 0,
   "metadata": {
    "application/vnd.databricks.v1+cell": {
     "cellMetadata": {},
     "inputWidgets": {},
     "nuid": "4c624e6d-15b6-4e56-a421-5c6f188350e1",
     "showTitle": false,
     "title": ""
    }
   },
   "outputs": [],
   "source": [
    "# ✏️ YOUR CODE HERE"
   ]
  },
  {
   "cell_type": "markdown",
   "metadata": {
    "application/vnd.databricks.v1+cell": {
     "cellMetadata": {},
     "inputWidgets": {},
     "nuid": "7858dfbf-8db0-480a-a712-38620c156781",
     "showTitle": false,
     "title": ""
    }
   },
   "source": [
    "Remember to hydrate and  [![Spotify](https://img.shields.io/badge/Spotify-1ED760?style=for-the-badge&logo=spotify&logoColor=white)](https://open.spotify.com/playlist/3d4bU6GAelt3YL2L1X2SOn)"
   ]
  },
  {
   "cell_type": "markdown",
   "metadata": {
    "application/vnd.databricks.v1+cell": {
     "cellMetadata": {},
     "inputWidgets": {},
     "nuid": "6432d94c-7576-42f1-a8dc-fe7ab9864c7d",
     "showTitle": false,
     "title": ""
    }
   },
   "source": [
    "## Section 4: Data-Driven Questions 💬 [15]\n",
    "\n",
    "<img src=\"https://media.giphy.com/media/fv8KclrYGp5dK/giphy.gif\"  width=\"250px\" alt=\"sherlock\">\n",
    "\n",
    "\n",
    "This section is designed to pose several broad questions that require a data-centric approach for their answers. You will need to manipulate, filter, and aggregate the provided data to derive the results using code. The key objective is to assess your capability to convert a question into a series of methods or transformations that guide you to **systematically deduce the answer**, and to evaluate the reasoning process you employ to reach the conclusion as well as the **criteria you select**. Consider cleaning up additional fields in the data before you use them. Although the analysis is not limited to the dataset included in this notebook, and you are encouraged to incorporate **supplementary references** from other publicly available datasets, studies, or statistics, it is obligatory to utilize the primary dataset supplied with this notebook as the main information source. Additionally, it is essential to incorporate a **visualization** of your findings as a way to articulate your response. You are free to select any form of visualization, be it charts, maps, animations, or others, but they must be original creations and not borrowed from external sources.\n",
    "\n",
    "> 📝 Your evaluation will be based on the investigative techniques employed, the originality of your approach, the selection of variables and metrics, the criteria chosen, the type and quality of the visualization selected, and any additional supporting evidence, if provided"
   ]
  },
  {
   "cell_type": "markdown",
   "metadata": {
    "application/vnd.databricks.v1+cell": {
     "cellMetadata": {},
     "inputWidgets": {},
     "nuid": "f9aa024c-7624-418b-b325-8dace04cc477",
     "showTitle": false,
     "title": ""
    }
   },
   "source": [
    "#### 4.1. Cuisine Saturation 🍱 [1]\n",
    "\n",
    "**Which cuisines are over-saturating in `Pasadena`?**"
   ]
  },
  {
   "cell_type": "code",
   "execution_count": 0,
   "metadata": {
    "application/vnd.databricks.v1+cell": {
     "cellMetadata": {},
     "inputWidgets": {},
     "nuid": "6469e9eb-a1f0-4f9c-ba44-29ab7c6e3828",
     "showTitle": false,
     "title": ""
    }
   },
   "outputs": [],
   "source": [
    "# YOUR CODE HERE"
   ]
  },
  {
   "cell_type": "markdown",
   "metadata": {
    "application/vnd.databricks.v1+cell": {
     "cellMetadata": {},
     "inputWidgets": {},
     "nuid": "2f545809-65ea-4c7e-87c6-41671d702027",
     "showTitle": false,
     "title": ""
    }
   },
   "source": [
    "#### 4.2. Consumer Culinary Spend  💸 [2]\n",
    "\n",
    "**How does the average spend per person at a restaurant in the `San-Francisco Bay Area` compare with the `Los Angeles Metropolitan Area`?**"
   ]
  },
  {
   "cell_type": "code",
   "execution_count": 0,
   "metadata": {
    "application/vnd.databricks.v1+cell": {
     "cellMetadata": {},
     "inputWidgets": {},
     "nuid": "08ea97ed-b012-4b5a-912b-37337071f5c9",
     "showTitle": false,
     "title": ""
    }
   },
   "outputs": [],
   "source": [
    "# YOUR CODE HERE"
   ]
  },
  {
   "cell_type": "markdown",
   "metadata": {
    "application/vnd.databricks.v1+cell": {
     "cellMetadata": {},
     "inputWidgets": {},
     "nuid": "7883b3da-8138-4606-8407-b7a8bcac59bf",
     "showTitle": false,
     "title": ""
    }
   },
   "source": [
    "#### 4.3. Safe & Famous  🫧 [3]\n",
    "\n",
    "**Identify some popular restaurants in California that also have good `hygiene` & `safety` standards?**\n",
    "\n",
    "> You may define `popular` in whatever way you wish using the variables in the data"
   ]
  },
  {
   "cell_type": "code",
   "execution_count": 0,
   "metadata": {
    "application/vnd.databricks.v1+cell": {
     "cellMetadata": {},
     "inputWidgets": {},
     "nuid": "90531132-b91d-4622-92b5-7354ba7d1cda",
     "showTitle": false,
     "title": ""
    }
   },
   "outputs": [],
   "source": [
    "# YOUR CODE HERE"
   ]
  },
  {
   "cell_type": "markdown",
   "metadata": {
    "application/vnd.databricks.v1+cell": {
     "cellMetadata": {},
     "inputWidgets": {},
     "nuid": "de310a76-a0d3-471f-9a16-b6b50b2ef192",
     "showTitle": false,
     "title": ""
    }
   },
   "source": [
    "#### 4.4. Twinning 🗺 [4]\n",
    "\n",
    "**Find a pair of `neighbourhoods` in California that have a similar `cuisine` distribution**\n",
    "\n",
    "> Be sure to consider neighbourhoods that have a reasonable sample of restaurants to begin with!"
   ]
  },
  {
   "cell_type": "code",
   "execution_count": 0,
   "metadata": {
    "application/vnd.databricks.v1+cell": {
     "cellMetadata": {},
     "inputWidgets": {},
     "nuid": "dc783c78-ba84-45be-85d7-ff5dffe1914f",
     "showTitle": false,
     "title": ""
    }
   },
   "outputs": [],
   "source": [
    "# YOUR CODE HERE"
   ]
  },
  {
   "cell_type": "markdown",
   "metadata": {
    "application/vnd.databricks.v1+cell": {
     "cellMetadata": {},
     "inputWidgets": {},
     "nuid": "b7747fb2-284f-4903-87b9-2ab483601f59",
     "showTitle": false,
     "title": ""
    }
   },
   "source": [
    "#### 4.5. Competitor Analysis 🍝 [5]\n",
    "\n",
    "**Which restaurants in California can be considered competitors of the `Mona Lisa` Italian restaurant in San Francisco?**\n",
    "\n",
    "> Use whatever metrics or criteria you wish to define what qualifies as a competitor"
   ]
  },
  {
   "cell_type": "code",
   "execution_count": 0,
   "metadata": {
    "application/vnd.databricks.v1+cell": {
     "cellMetadata": {},
     "inputWidgets": {},
     "nuid": "865550f1-12c8-4707-bae6-6c63309b10d0",
     "showTitle": false,
     "title": ""
    }
   },
   "outputs": [],
   "source": [
    "# YOUR CODE HERE"
   ]
  },
  {
   "cell_type": "markdown",
   "metadata": {
    "application/vnd.databricks.v1+cell": {
     "cellMetadata": {},
     "inputWidgets": {},
     "nuid": "08a9a94d-4197-4237-a172-224f092a6238",
     "showTitle": false,
     "title": ""
    }
   },
   "source": [
    "## Section 5: Review Analysis 🎙 [15]\n",
    "\n",
    "> This section is independent of the previous sections, and uses a different dataset\n",
    "\n",
    "<img src=\"https://media.giphy.com/media/3o6ggcSS96ZfB13woo/giphy.gif\"  width=\"250px\" alt=\"ramsey\">\n",
    "\n",
    "\n",
    "In this section, we have a dataset of restaurant reviews in Los Angeles, and we're interested in understanding customer sentiment towards three key aspects: Food, Service, and Ambiance.\n",
    "\n",
    "We will load a reviews dataset from [AWS](https://googlethatforyou.com?q=amazon%20web%20services) S3, to perform the analysis."
   ]
  },
  {
   "cell_type": "code",
   "execution_count": 0,
   "metadata": {
    "application/vnd.databricks.v1+cell": {
     "cellMetadata": {
      "byteLimit": 2048000,
      "rowLimit": 10000
     },
     "inputWidgets": {},
     "nuid": "41aa34a8-8668-4d7f-92a9-7f73ee93f8c7",
     "showTitle": false,
     "title": ""
    }
   },
   "outputs": [],
   "source": [
    "REVIEWS_URL: str = (\n",
    "    \"https://dotlas-marketing.s3.amazonaws.com/interviews/los_angeles_reviews_2023.parquet\"\n",
    ")"
   ]
  },
  {
   "cell_type": "markdown",
   "metadata": {
    "application/vnd.databricks.v1+cell": {
     "cellMetadata": {},
     "inputWidgets": {},
     "nuid": "f40f03d6-aff5-4e4c-9876-a187079bba62",
     "showTitle": false,
     "title": ""
    }
   },
   "source": [
    "Below, you've been provided with some seed words to help you in analysing each aspect of the restaurant's experience. Feel free to modify it as you see fit."
   ]
  },
  {
   "cell_type": "code",
   "execution_count": 0,
   "metadata": {
    "application/vnd.databricks.v1+cell": {
     "cellMetadata": {},
     "inputWidgets": {},
     "nuid": "9fb4e2fa-29e5-4d6f-917c-680f7fe58aa1",
     "showTitle": false,
     "title": ""
    }
   },
   "outputs": [],
   "source": [
    "seed_words = {\n",
    "    'Food': {\n",
    "        'Positive': ['tasty', 'delicious', 'flavorful', 'fresh', 'juicy', 'crispy', 'savory', 'yummy', 'delectable', 'succulent'],\n",
    "        'Negative': ['bland', 'stale', 'overcooked', 'undercooked', 'greasy', 'salty', 'burnt', 'sour', 'tasteless', 'dry']\n",
    "    },\n",
    "    'Service': {\n",
    "        'Positive': ['friendly', 'attentive', 'prompt', 'courteous', 'professional', 'helpful', 'accommodating', 'quick', 'efficient', 'warm'],\n",
    "        'Negative': ['slow', 'rude', 'inattentive', 'disorganized', 'negligent', 'unprofessional', 'unhelpful', 'snobby', 'aloof', 'cold']\n",
    "    },\n",
    "    'Ambiance': {\n",
    "        'Positive': ['cozy', 'inviting', 'elegant', 'trendy', 'clean', 'lively', 'comfortable', 'romantic', 'vibrant', 'charming'],\n",
    "        'Negative': ['loud', 'crowded', 'dirty', 'dull', 'dark', 'cramped', 'noisy', 'uncomfortable', 'drab', 'claustrophobic']\n",
    "    }\n",
    "}"
   ]
  },
  {
   "cell_type": "markdown",
   "metadata": {
    "application/vnd.databricks.v1+cell": {
     "cellMetadata": {},
     "inputWidgets": {},
     "nuid": "14d0959d-059b-410a-b87b-6f7bcfed7cd7",
     "showTitle": false,
     "title": ""
    }
   },
   "source": [
    "#### Term Identification 🔠 [5]\n",
    "\n",
    "**Identify mentions of the three aspects (`Food, Service, Ambiance`) in the review text.**\n",
    "\n",
    "> Use the seed words provided above to identify the presence of sentiments for each review. Feel free to alter it as you see fit."
   ]
  },
  {
   "cell_type": "code",
   "execution_count": 0,
   "metadata": {
    "application/vnd.databricks.v1+cell": {
     "cellMetadata": {},
     "inputWidgets": {},
     "nuid": "c7527d56-3686-4405-b607-a9a8f37b6949",
     "showTitle": false,
     "title": ""
    }
   },
   "outputs": [],
   "source": [
    "# ✏️ YOUR CODE HERE\n",
    "# reviews_df: pd.DataFrame = ?"
   ]
  },
  {
   "cell_type": "code",
   "execution_count": 0,
   "metadata": {
    "application/vnd.databricks.v1+cell": {
     "cellMetadata": {
      "byteLimit": 2048000,
      "rowLimit": 10000
     },
     "inputWidgets": {},
     "nuid": "9013494d-2732-40c5-b7ba-df185e7bd5a1",
     "showTitle": false,
     "title": ""
    }
   },
   "outputs": [],
   "source": [
    "print(reviews_df.shape)\n",
    "reviews_df.head()"
   ]
  },
  {
   "cell_type": "markdown",
   "metadata": {
    "application/vnd.databricks.v1+cell": {
     "cellMetadata": {},
     "inputWidgets": {},
     "nuid": "a56e54fb-44bc-41af-945d-689d705c464c",
     "showTitle": false,
     "title": ""
    }
   },
   "source": [
    "#### Sentiment Analysis 🎭 [5]\n",
    "\n",
    "**Perform a sentiment scoring (`Negative` or `Positive`) of each mention of the aspects.**\n",
    "\n",
    "> The seed words dictionary already accounts for the sentiment of each aspect, so feel free to utilize it once more."
   ]
  },
  {
   "cell_type": "code",
   "execution_count": 0,
   "metadata": {
    "application/vnd.databricks.v1+cell": {
     "cellMetadata": {},
     "inputWidgets": {},
     "nuid": "75e994bd-2a89-4da2-a3b0-7e4debad12dc",
     "showTitle": false,
     "title": ""
    }
   },
   "outputs": [],
   "source": [
    "# YOUR CODE HERE"
   ]
  },
  {
   "cell_type": "markdown",
   "metadata": {
    "application/vnd.databricks.v1+cell": {
     "cellMetadata": {},
     "inputWidgets": {},
     "nuid": "13b7df7d-b43e-483d-8bc1-b69b3117c1ce",
     "showTitle": false,
     "title": ""
    }
   },
   "source": [
    "#### Compile 📚 [5]\n",
    "\n",
    "**Provide an analysis of the aspect and sentiment of restaurants in Los Angeles. Provide at least 1 visualization and summarize your findings.**"
   ]
  },
  {
   "cell_type": "code",
   "execution_count": 0,
   "metadata": {
    "application/vnd.databricks.v1+cell": {
     "cellMetadata": {},
     "inputWidgets": {},
     "nuid": "4f3a27c1-ce30-499f-acfa-3fcac04939dd",
     "showTitle": false,
     "title": ""
    }
   },
   "outputs": [],
   "source": [
    "# YOUR CODE HERE"
   ]
  },
  {
   "cell_type": "markdown",
   "metadata": {
    "application/vnd.databricks.v1+cell": {
     "cellMetadata": {},
     "inputWidgets": {},
     "nuid": "8aacb7ba-93f2-48a3-94d7-98714034956c",
     "showTitle": false,
     "title": ""
    }
   },
   "source": [
    "---\n",
    "\n",
    "Good job!\n",
    "\n",
    "<img src=\"https://media.giphy.com/media/qLhxN7Rp3PI8E/giphy.gif\" width=\"250px\" alt=\"legend of zelda\">"
   ]
  },
  {
   "cell_type": "markdown",
   "metadata": {
    "application/vnd.databricks.v1+cell": {
     "cellMetadata": {},
     "inputWidgets": {},
     "nuid": "53644d19-279b-49b7-b9af-2dc99896c88b",
     "showTitle": false,
     "title": ""
    }
   },
   "source": []
  }
 ],
 "metadata": {
  "application/vnd.databricks.v1+notebook": {
   "dashboards": [],
   "language": "python",
   "notebookMetadata": {
    "pythonIndentUnit": 4
   },
   "notebookName": "mission",
   "widgets": {}
  },
  "kernelspec": {
   "display_name": "ffpl",
   "language": "python",
   "name": "ffpl"
  },
  "language_info": {
   "codemirror_mode": {
    "name": "ipython",
    "version": 3
   },
   "file_extension": ".py",
   "mimetype": "text/x-python",
   "name": "python",
   "nbconvert_exporter": "python",
   "pygments_lexer": "ipython3",
   "version": "3.9.16"
  },
  "toc-showtags": false
 },
 "nbformat": 4,
 "nbformat_minor": 0
}
