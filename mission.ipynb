{
 "cells": [
  {
   "cell_type": "markdown",
   "metadata": {
    "application/vnd.databricks.v1+cell": {
     "cellMetadata": {},
     "inputWidgets": {},
     "nuid": "35f6c4e7-ffb6-46c1-8cbf-d6be62a6af5c",
     "showTitle": false,
     "title": ""
    },
    "tags": []
   },
   "source": [
    "# Mission Dotlas 🌎 [40 points]\n",
    "\n",
    "> Data Science Assignment\n",
    "\n",
    "> `v3.0` Updated: August 29 2023 (Fall 2023 Version)\n",
    "\n",
    "<img src=\"https://camo.githubusercontent.com/6a3a3a9e55ce6b5c4305badbdc68c0d5f11b360b11e3fa7b93c822d637166090/68747470733a2f2f646f746c61732d776562736974652e73332e65752d776573742d312e616d617a6f6e6177732e636f6d2f696d616765732f6769746875622f62616e6e65722e706e67\" width=\"750px\" alt=\"dotlas\">"
   ]
  },
  {
   "cell_type": "markdown",
   "metadata": {
    "application/vnd.databricks.v1+cell": {
     "cellMetadata": {},
     "inputWidgets": {},
     "nuid": "414d1b5c-24a6-4782-88ba-79fd4e524308",
     "showTitle": false,
     "title": ""
    }
   },
   "source": [
    "## Section 1: Project Overview ✉️\n",
    "\n",
    "Welcome to your mission! In this notebook, you will download a dataset containing restaurants' information in the state of California, US. \n",
    "The dataset will then be transformed, processed and prepared in a required format. \n",
    "This clean dataset will then be used to answer some analytical questions and create a few data visualizations in Python.\n",
    "\n",
    "This is a template notebook that has some code already filled-in to help you on your way. There are also cells that require you to fill in the python code to solve specific problems. There are sections of the notebook that contain a points tally for code written. \n",
    "\n",
    "**Each section of this notebook is largely independent, so if you get stuck on a problem you can always move on to the next one.**"
   ]
  },
  {
   "cell_type": "markdown",
   "metadata": {
    "application/vnd.databricks.v1+cell": {
     "cellMetadata": {},
     "inputWidgets": {},
     "nuid": "1a4d8483-d786-4b3f-8c5c-7ff071f5b182",
     "showTitle": false,
     "title": ""
    }
   },
   "source": [
    "### 1.1. Tools & Technologies 🪛\n",
    "\n",
    "- This exercise will be carried out using the [Python](https://www.python.org/) programming language and will rely hevily on the [Pandas](https://pandas.pydata.org/) library for data manipulation.\n",
    "- You are also free to use Polars, Dask or Spark if you do not want to use Pandas.\n",
    "- You may use any of [Matplotlib](https://matplotlib.org/), [Seaborn](https://seaborn.pydata.org/) or [Plotly](https://plotly.com/python/) packages for data visualization.\n",
    "- We will be using [Jupyter notebooks](https://jupyter.org/) to run Python code in order to view and interact better with our data and visualizations.\n",
    "- You are free to use [Google Colab](https://colab.research.google.com/) which provides an easy-to-use Jupyter interface.\n",
    "- When not in Colab, it is recommended to run this Jupyter Notebook within an [Anaconda](https://continuum.io/) environment\n",
    "- You can use any other Python packages that you deem fit for this project.\n",
    "\n",
    "> ⚠ **Ensure that your Python version is 3.9 or higher**\n",
    "\n",
    "![](https://upload.wikimedia.org/wikipedia/commons/1/1b/Blue_Python_3.9_Shield_Badge.svg)\n",
    "\n",
    "**Language**\n",
    "\n",
    "![Python](https://img.shields.io/badge/python-3670A0?style=for-the-badge&logo=python&logoColor=ffdd54)\n",
    "\n",
    "**Environments & Packages**\n",
    "\n",
    "![Anaconda](https://img.shields.io/badge/Anaconda-%2344A833.svg?style=for-the-badge&logo=anaconda&logoColor=white)\n",
    "![Jupyter Notebook](https://img.shields.io/badge/jupyter-%23FA0F00.svg?style=for-the-badge&logo=jupyter&logoColor=white)\n",
    "\n",
    "![Pandas](https://img.shields.io/badge/pandas-%23150458.svg?style=for-the-badge&logo=pandas&logoColor=white)\n",
    "![Matplotlib](https://img.shields.io/badge/Matplotlib-%23ffffff.svg?style=for-the-badge&logo=Matplotlib&logoColor=black)\n",
    "![Plotly](https://img.shields.io/badge/Plotly-%233F4F75.svg?style=for-the-badge&logo=plotly&logoColor=white)\n",
    "\n",
    "**Data Store**\n",
    "\n",
    "![AWS](https://img.shields.io/badge/AWS-%23FF9900.svg?style=for-the-badge&logo=amazon-aws&logoColor=white)"
   ]
  },
  {
   "cell_type": "markdown",
   "metadata": {
    "application/vnd.databricks.v1+cell": {
     "cellMetadata": {},
     "inputWidgets": {},
     "nuid": "957e2cee-cba3-4788-904e-2c7b15addef4",
     "showTitle": false,
     "title": ""
    }
   },
   "source": [
    "## Section 2: Read California Dataset 🚰 [1]\n",
    "\n",
    "In this section, we will load the dataset from [AWS](https://googlethatforyou.com?q=amazon%20web%20services) S3, conduct an exploratory data analysis and then clean up the dataset\n",
    "\n",
    "\n",
    "- Ensure that pandas and plotly are installed (possibly via pip or poetry)\n",
    "- The dataset is about 34.5 MB in size and time-to-download depends on internet speed and availability\n",
    "- Download the dataset using Python into this notebook and load it into a pandas dataframe (without writing to file)"
   ]
  },
  {
   "cell_type": "code",
   "execution_count": 1,
   "metadata": {
    "application/vnd.databricks.v1+cell": {
     "cellMetadata": {
      "byteLimit": 2048000,
      "rowLimit": 10000
     },
     "inputWidgets": {},
     "nuid": "016a227f-4b3d-41fc-a8a2-f4ca4af0451e",
     "showTitle": false,
     "title": ""
    }
   },
   "outputs": [],
   "source": [
    "import warnings\n",
    "\n",
    "warnings.filterwarnings(\"ignore\")\n",
    "\n",
    "from matplotlib import pyplot as plt\n",
    "\n",
    "%matplotlib inline\n",
    "\n",
    "import pandas as pd\n",
    "import numpy as np\n",
    "\n",
    "CELL_HEIGHT: int = 50\n",
    "\n",
    "# Initialize helpers to ignore pandas warnings and resize columns and cells\n",
    "pd.set_option(\"chained_assignment\", None)\n",
    "pd.set_option(\"display.max_rows\", 50)\n",
    "pd.set_option(\"display.max_columns\", 500)\n",
    "pd.set_option(\"display.max_colwidth\", CELL_HEIGHT)\n",
    "\n",
    "DATA_URL: str = (\n",
    "    \"https://dotlas-marketing.s3.amazonaws.com/interviews/california_restaurants_2023.json\"\n",
    ")"
   ]
  },
  {
   "cell_type": "code",
   "execution_count": null,
   "metadata": {
    "application/vnd.databricks.v1+cell": {
     "cellMetadata": {},
     "inputWidgets": {},
     "nuid": "0b0199b4-52a5-41c5-a611-d5b7859084e9",
     "showTitle": false,
     "title": ""
    }
   },
   "outputs": [],
   "source": [
    "# ✏️ YOUR CODE HERE\n",
    "# df: pd.DataFrame = ?"
   ]
  },
  {
   "cell_type": "markdown",
   "metadata": {
    "application/vnd.databricks.v1+cell": {
     "cellMetadata": {},
     "inputWidgets": {},
     "nuid": "daf72bb3-bcbc-4bf2-ad71-462ed90f496e",
     "showTitle": false,
     "title": ""
    }
   },
   "source": [
    "The following cell creates a `restaurant ID` column to uniquely index each restaurant. Run it as is."
   ]
  },
  {
   "cell_type": "code",
   "execution_count": 3,
   "metadata": {
    "application/vnd.databricks.v1+cell": {
     "cellMetadata": {
      "byteLimit": 2048000,
      "rowLimit": 10000
     },
     "inputWidgets": {},
     "nuid": "f90eacde-758b-4660-b3cf-0f482020db8f",
     "showTitle": false,
     "title": ""
    }
   },
   "outputs": [
    {
     "name": "stdout",
     "output_type": "stream",
     "text": [
      "(11296, 79)\n"
     ]
    },
    {
     "data": {
      "text/html": [
       "<div>\n",
       "<style scoped>\n",
       "    .dataframe tbody tr th:only-of-type {\n",
       "        vertical-align: middle;\n",
       "    }\n",
       "\n",
       "    .dataframe tbody tr th {\n",
       "        vertical-align: top;\n",
       "    }\n",
       "\n",
       "    .dataframe thead th {\n",
       "        text-align: right;\n",
       "    }\n",
       "</style>\n",
       "<table border=\"1\" class=\"dataframe\">\n",
       "  <thead>\n",
       "    <tr style=\"text-align: right;\">\n",
       "      <th></th>\n",
       "      <th>country</th>\n",
       "      <th>subregion</th>\n",
       "      <th>city</th>\n",
       "      <th>brand_name</th>\n",
       "      <th>categories</th>\n",
       "      <th>latitude</th>\n",
       "      <th>longitude</th>\n",
       "      <th>area</th>\n",
       "      <th>address</th>\n",
       "      <th>description</th>\n",
       "      <th>public_transit</th>\n",
       "      <th>cross_street</th>\n",
       "      <th>restaurant_website</th>\n",
       "      <th>phone_number</th>\n",
       "      <th>primary_cuisine</th>\n",
       "      <th>dining_style</th>\n",
       "      <th>executive_chef_name</th>\n",
       "      <th>parking_info</th>\n",
       "      <th>dress_code</th>\n",
       "      <th>entertainment</th>\n",
       "      <th>operating_hours</th>\n",
       "      <th>price_range_id</th>\n",
       "      <th>price_range</th>\n",
       "      <th>payment_options</th>\n",
       "      <th>maximum_days_advance_for_reservation</th>\n",
       "      <th>rating</th>\n",
       "      <th>rating_count</th>\n",
       "      <th>atmosphere_rating</th>\n",
       "      <th>noise_rating</th>\n",
       "      <th>food_rating</th>\n",
       "      <th>service_rating</th>\n",
       "      <th>value_rating</th>\n",
       "      <th>terrible_review_count</th>\n",
       "      <th>poor_review_count</th>\n",
       "      <th>average_review_count</th>\n",
       "      <th>very_good_review_count</th>\n",
       "      <th>excellent_review_count</th>\n",
       "      <th>most_recent_review</th>\n",
       "      <th>review_count</th>\n",
       "      <th>review_topics</th>\n",
       "      <th>tags</th>\n",
       "      <th>has_clean_menus</th>\n",
       "      <th>has_common_area_cleaning</th>\n",
       "      <th>has_common_area_distancing</th>\n",
       "      <th>has_contact_tracing_collected</th>\n",
       "      <th>has_contactless_payment</th>\n",
       "      <th>requires_diner_temperature_check</th>\n",
       "      <th>has_limited_seating</th>\n",
       "      <th>prohibits_sick_staff</th>\n",
       "      <th>has_proof_of_vaccination_outdoor</th>\n",
       "      <th>requires_proof_of_vaccination</th>\n",
       "      <th>requires_diner_masks</th>\n",
       "      <th>requires_wait_staff_masks</th>\n",
       "      <th>has_sanitized_surfaces</th>\n",
       "      <th>provides_sanitizer_for_customers</th>\n",
       "      <th>has_sealed_utensils</th>\n",
       "      <th>has_vaccinated_staff</th>\n",
       "      <th>requires_staff_temp_checks</th>\n",
       "      <th>has_table_layout_with_extra_space</th>\n",
       "      <th>is_permanently_closed</th>\n",
       "      <th>is_waitlist_only</th>\n",
       "      <th>has_waitlist</th>\n",
       "      <th>has_bar</th>\n",
       "      <th>has_counter</th>\n",
       "      <th>has_high_top_seating</th>\n",
       "      <th>has_outdoor_seating</th>\n",
       "      <th>has_priority_seating</th>\n",
       "      <th>has_private_dining</th>\n",
       "      <th>has_takeout</th>\n",
       "      <th>has_delivery_partners</th>\n",
       "      <th>has_pickup</th>\n",
       "      <th>is_network_non_bookable</th>\n",
       "      <th>has_gifting</th>\n",
       "      <th>order_online_link</th>\n",
       "      <th>delivery_partners</th>\n",
       "      <th>facebook</th>\n",
       "      <th>menu_url</th>\n",
       "      <th>daily_reservation_count</th>\n",
       "      <th>restaurant_id</th>\n",
       "    </tr>\n",
       "  </thead>\n",
       "  <tbody>\n",
       "    <tr>\n",
       "      <th>0</th>\n",
       "      <td>United States</td>\n",
       "      <td>California</td>\n",
       "      <td>La Jolla</td>\n",
       "      <td>Fresheria - Be Fresh La Jolla</td>\n",
       "      <td>[Café]</td>\n",
       "      <td>32.83937</td>\n",
       "      <td>-117.27654</td>\n",
       "      <td>La Jolla</td>\n",
       "      <td>627 Pearl St, , CA, La Jolla, 92037, United St...</td>\n",
       "      <td>Freshería - Fresh, balanced and delicious food...</td>\n",
       "      <td>None</td>\n",
       "      <td>None</td>\n",
       "      <td>http://www.Lafresheria.com/</td>\n",
       "      <td>(858) 551-8786</td>\n",
       "      <td>Café</td>\n",
       "      <td>Casual Dining</td>\n",
       "      <td>None</td>\n",
       "      <td>None</td>\n",
       "      <td>Casual Dress</td>\n",
       "      <td>None</td>\n",
       "      <td>Mon–Fri 6:30 am–7:00 pm Sat, Sun 8:00 am–7:00 pm</td>\n",
       "      <td>2</td>\n",
       "      <td>$30 and under</td>\n",
       "      <td>[AMEX, Discover, Mastercard, Visa]</td>\n",
       "      <td>90</td>\n",
       "      <td>0.0</td>\n",
       "      <td>0</td>\n",
       "      <td>0.0</td>\n",
       "      <td>0</td>\n",
       "      <td>0.0</td>\n",
       "      <td>0.0</td>\n",
       "      <td>0.0</td>\n",
       "      <td>0</td>\n",
       "      <td>0</td>\n",
       "      <td>0</td>\n",
       "      <td>0</td>\n",
       "      <td>0</td>\n",
       "      <td>None</td>\n",
       "      <td>0</td>\n",
       "      <td>[]</td>\n",
       "      <td>[Cafe, Counter Seating, Delivery, Non-Smoking,...</td>\n",
       "      <td>False</td>\n",
       "      <td>False</td>\n",
       "      <td>False</td>\n",
       "      <td>False</td>\n",
       "      <td>False</td>\n",
       "      <td>False</td>\n",
       "      <td>False</td>\n",
       "      <td>False</td>\n",
       "      <td>False</td>\n",
       "      <td>False</td>\n",
       "      <td>False</td>\n",
       "      <td>False</td>\n",
       "      <td>False</td>\n",
       "      <td>False</td>\n",
       "      <td>False</td>\n",
       "      <td>False</td>\n",
       "      <td>False</td>\n",
       "      <td>False</td>\n",
       "      <td>False</td>\n",
       "      <td>True</td>\n",
       "      <td>False</td>\n",
       "      <td>False</td>\n",
       "      <td>False</td>\n",
       "      <td>False</td>\n",
       "      <td>False</td>\n",
       "      <td>False</td>\n",
       "      <td>True</td>\n",
       "      <td>True</td>\n",
       "      <td>False</td>\n",
       "      <td>False</td>\n",
       "      <td>False</td>\n",
       "      <td>False</td>\n",
       "      <td>None</td>\n",
       "      <td>[]</td>\n",
       "      <td>http://www.facebook.com/befreshsd</td>\n",
       "      <td>http://www.facebook.com/befreshsd/menu/</td>\n",
       "      <td>NaN</td>\n",
       "      <td>1</td>\n",
       "    </tr>\n",
       "    <tr>\n",
       "      <th>1</th>\n",
       "      <td>United States</td>\n",
       "      <td>California</td>\n",
       "      <td>Davis</td>\n",
       "      <td>Hikari Sushi &amp; Omakase</td>\n",
       "      <td>[Sushi, Japanese, Creative Japanese]</td>\n",
       "      <td>38.54269</td>\n",
       "      <td>-121.73945</td>\n",
       "      <td>Davis</td>\n",
       "      <td>110 F St, , CA, Davis, 95616-4628, United States</td>\n",
       "      <td>Please be advised. Friday and Saturday's dinne...</td>\n",
       "      <td></td>\n",
       "      <td>None</td>\n",
       "      <td>http://hikariomakase.com/</td>\n",
       "      <td>(530) 564-4356</td>\n",
       "      <td>Sushi</td>\n",
       "      <td>Casual Dining</td>\n",
       "      <td>Sithu and Zin</td>\n",
       "      <td>Street Parking</td>\n",
       "      <td>Casual Dress</td>\n",
       "      <td>None</td>\n",
       "      <td>Tue–Thu 5:00 pm–9:00 pm Fri, Sat 4:30 pm–9:30 pm</td>\n",
       "      <td>4</td>\n",
       "      <td>$50 and over</td>\n",
       "      <td>[AMEX, Discover, MasterCard, Visa]</td>\n",
       "      <td>90</td>\n",
       "      <td>5.0</td>\n",
       "      <td>44</td>\n",
       "      <td>5.0</td>\n",
       "      <td>2</td>\n",
       "      <td>5.0</td>\n",
       "      <td>5.0</td>\n",
       "      <td>4.9</td>\n",
       "      <td>0</td>\n",
       "      <td>0</td>\n",
       "      <td>0</td>\n",
       "      <td>0</td>\n",
       "      <td>44</td>\n",
       "      <td>Great service and gourmet. Presentations of fo...</td>\n",
       "      <td>81</td>\n",
       "      <td>[Good for special occasions, Charming, Innovat...</td>\n",
       "      <td>[BYO Liquor, BYO Wine, Chef's Table, Counter S...</td>\n",
       "      <td>True</td>\n",
       "      <td>True</td>\n",
       "      <td>False</td>\n",
       "      <td>False</td>\n",
       "      <td>False</td>\n",
       "      <td>True</td>\n",
       "      <td>True</td>\n",
       "      <td>True</td>\n",
       "      <td>False</td>\n",
       "      <td>False</td>\n",
       "      <td>False</td>\n",
       "      <td>True</td>\n",
       "      <td>True</td>\n",
       "      <td>True</td>\n",
       "      <td>False</td>\n",
       "      <td>False</td>\n",
       "      <td>True</td>\n",
       "      <td>False</td>\n",
       "      <td>False</td>\n",
       "      <td>False</td>\n",
       "      <td>True</td>\n",
       "      <td>False</td>\n",
       "      <td>True</td>\n",
       "      <td>False</td>\n",
       "      <td>False</td>\n",
       "      <td>False</td>\n",
       "      <td>False</td>\n",
       "      <td>True</td>\n",
       "      <td>False</td>\n",
       "      <td>False</td>\n",
       "      <td>False</td>\n",
       "      <td>True</td>\n",
       "      <td>None</td>\n",
       "      <td>[]</td>\n",
       "      <td>None</td>\n",
       "      <td>https://www.facebook.com/hikarisushiandomakase...</td>\n",
       "      <td>1.0</td>\n",
       "      <td>2</td>\n",
       "    </tr>\n",
       "    <tr>\n",
       "      <th>2</th>\n",
       "      <td>United States</td>\n",
       "      <td>California</td>\n",
       "      <td>San Diego</td>\n",
       "      <td>Grant Grill</td>\n",
       "      <td>[Californian, Contemporary American, Bar / Lou...</td>\n",
       "      <td>32.71569</td>\n",
       "      <td>-117.16173</td>\n",
       "      <td>Downtown</td>\n",
       "      <td>326 Broadway, , CA, San Diego, 92101, United S...</td>\n",
       "      <td>A remarkable epicurean experience awaits you a...</td>\n",
       "      <td>None</td>\n",
       "      <td>Fourth Ave.</td>\n",
       "      <td>http://www.grantgrill.com/</td>\n",
       "      <td>(619) 744-2077</td>\n",
       "      <td>Californian</td>\n",
       "      <td>Fine Dining</td>\n",
       "      <td>Mark Kropczynski</td>\n",
       "      <td>Valet</td>\n",
       "      <td>Smart Casual</td>\n",
       "      <td>Live entertainment Thursday-Saturday at 8pm in...</td>\n",
       "      <td>Brunch Sat, Sun 7:00 am–2:00 pm Breakfast Mon–...</td>\n",
       "      <td>3</td>\n",
       "      <td>$31 to $50</td>\n",
       "      <td>[AMEX, Diners Club, Discover, Mastercard, Visa]</td>\n",
       "      <td>90</td>\n",
       "      <td>4.8</td>\n",
       "      <td>77</td>\n",
       "      <td>4.9</td>\n",
       "      <td>2</td>\n",
       "      <td>4.6</td>\n",
       "      <td>4.9</td>\n",
       "      <td>4.3</td>\n",
       "      <td>0</td>\n",
       "      <td>0</td>\n",
       "      <td>5</td>\n",
       "      <td>6</td>\n",
       "      <td>66</td>\n",
       "      <td>Our waiter, Jose, is so wonderful! I've been m...</td>\n",
       "      <td>1453</td>\n",
       "      <td>[Good for special occasions, Good for business...</td>\n",
       "      <td>[Banquet, Bar/Lounge, Beer, BYO Wine, Cocktail...</td>\n",
       "      <td>False</td>\n",
       "      <td>True</td>\n",
       "      <td>True</td>\n",
       "      <td>False</td>\n",
       "      <td>False</td>\n",
       "      <td>False</td>\n",
       "      <td>True</td>\n",
       "      <td>True</td>\n",
       "      <td>False</td>\n",
       "      <td>False</td>\n",
       "      <td>False</td>\n",
       "      <td>False</td>\n",
       "      <td>True</td>\n",
       "      <td>False</td>\n",
       "      <td>False</td>\n",
       "      <td>False</td>\n",
       "      <td>False</td>\n",
       "      <td>False</td>\n",
       "      <td>False</td>\n",
       "      <td>False</td>\n",
       "      <td>False</td>\n",
       "      <td>False</td>\n",
       "      <td>False</td>\n",
       "      <td>False</td>\n",
       "      <td>False</td>\n",
       "      <td>False</td>\n",
       "      <td>True</td>\n",
       "      <td>True</td>\n",
       "      <td>False</td>\n",
       "      <td>False</td>\n",
       "      <td>False</td>\n",
       "      <td>False</td>\n",
       "      <td>None</td>\n",
       "      <td>[]</td>\n",
       "      <td>http://www.facebook.com/grantgrill</td>\n",
       "      <td>http://www.grantgrill.com/menu/</td>\n",
       "      <td>12.0</td>\n",
       "      <td>3</td>\n",
       "    </tr>\n",
       "    <tr>\n",
       "      <th>3</th>\n",
       "      <td>United States</td>\n",
       "      <td>California</td>\n",
       "      <td>Danville</td>\n",
       "      <td>Yanni's Taverna</td>\n",
       "      <td>[Greek, Mediterranean]</td>\n",
       "      <td>37.82196</td>\n",
       "      <td>-121.99948</td>\n",
       "      <td>Danville</td>\n",
       "      <td>120 E Prospect Avenue, , CA, Danville, 94526, ...</td>\n",
       "      <td>&lt;p&gt;Yanni's Taverna is a Mediterranean restaura...</td>\n",
       "      <td>None</td>\n",
       "      <td>Hartz Avenue</td>\n",
       "      <td>http://www.yannistaverna.com/</td>\n",
       "      <td>(925) 820-7700</td>\n",
       "      <td>Greek</td>\n",
       "      <td>Casual Dining</td>\n",
       "      <td>None</td>\n",
       "      <td>Street Parking</td>\n",
       "      <td>Casual Dress</td>\n",
       "      <td>Live Greek music once every month.</td>\n",
       "      <td>Lunch: Monday - Saturday: 11:00am - 4:00pm Din...</td>\n",
       "      <td>2</td>\n",
       "      <td>$30 and under</td>\n",
       "      <td>[AMEX, Discover, Mastercard, Visa]</td>\n",
       "      <td>90</td>\n",
       "      <td>4.1</td>\n",
       "      <td>14</td>\n",
       "      <td>3.3</td>\n",
       "      <td>2</td>\n",
       "      <td>4.1</td>\n",
       "      <td>4.1</td>\n",
       "      <td>3.6</td>\n",
       "      <td>0</td>\n",
       "      <td>0</td>\n",
       "      <td>4</td>\n",
       "      <td>5</td>\n",
       "      <td>5</td>\n",
       "      <td>Great find! Mixed grill is fabulous!</td>\n",
       "      <td>7</td>\n",
       "      <td>[Kid-friendly, Innovative, Good for groups]</td>\n",
       "      <td>[Bar Dining, Beer, Corkage Fee, Counter Seatin...</td>\n",
       "      <td>False</td>\n",
       "      <td>False</td>\n",
       "      <td>False</td>\n",
       "      <td>False</td>\n",
       "      <td>False</td>\n",
       "      <td>False</td>\n",
       "      <td>False</td>\n",
       "      <td>False</td>\n",
       "      <td>False</td>\n",
       "      <td>False</td>\n",
       "      <td>False</td>\n",
       "      <td>False</td>\n",
       "      <td>False</td>\n",
       "      <td>False</td>\n",
       "      <td>False</td>\n",
       "      <td>False</td>\n",
       "      <td>False</td>\n",
       "      <td>False</td>\n",
       "      <td>False</td>\n",
       "      <td>False</td>\n",
       "      <td>False</td>\n",
       "      <td>False</td>\n",
       "      <td>False</td>\n",
       "      <td>False</td>\n",
       "      <td>False</td>\n",
       "      <td>False</td>\n",
       "      <td>True</td>\n",
       "      <td>True</td>\n",
       "      <td>False</td>\n",
       "      <td>False</td>\n",
       "      <td>False</td>\n",
       "      <td>False</td>\n",
       "      <td>None</td>\n",
       "      <td>[]</td>\n",
       "      <td>None</td>\n",
       "      <td>http://www.yannistaverna.com/#!menus/cfvg</td>\n",
       "      <td>NaN</td>\n",
       "      <td>4</td>\n",
       "    </tr>\n",
       "    <tr>\n",
       "      <th>4</th>\n",
       "      <td>United States</td>\n",
       "      <td>California</td>\n",
       "      <td>Los Angeles</td>\n",
       "      <td>Proud Bird</td>\n",
       "      <td>[American, Unspecified]</td>\n",
       "      <td>33.93541</td>\n",
       "      <td>-118.37742</td>\n",
       "      <td>LAX / Westchester</td>\n",
       "      <td>11022 Aviation Blvd, , CA, Los Angeles, 90045,...</td>\n",
       "      <td>The Proud Bird is a modern, re-imagined food b...</td>\n",
       "      <td>None</td>\n",
       "      <td>111th Street</td>\n",
       "      <td>https://www.theproudbird.com/</td>\n",
       "      <td>(310) 670-3093</td>\n",
       "      <td>American</td>\n",
       "      <td>Casual Dining</td>\n",
       "      <td>None</td>\n",
       "      <td>None</td>\n",
       "      <td>Casual Dress</td>\n",
       "      <td>None</td>\n",
       "      <td>Tue–Thu, Sun 11:00 am–7:00 pm Fri, Sat 11:00 a...</td>\n",
       "      <td>2</td>\n",
       "      <td>$30 and under</td>\n",
       "      <td>[AMEX, Cash not accepted, Discover, Mastercard...</td>\n",
       "      <td>91</td>\n",
       "      <td>4.0</td>\n",
       "      <td>1399</td>\n",
       "      <td>4.1</td>\n",
       "      <td>2</td>\n",
       "      <td>4.0</td>\n",
       "      <td>3.9</td>\n",
       "      <td>4.0</td>\n",
       "      <td>36</td>\n",
       "      <td>77</td>\n",
       "      <td>246</td>\n",
       "      <td>547</td>\n",
       "      <td>493</td>\n",
       "      <td>The Proud Bird is a terrific restaurant savory...</td>\n",
       "      <td>567</td>\n",
       "      <td>[Great for scenic views, Good for groups, Good...</td>\n",
       "      <td>[Banquet, Bar/Lounge, Beer, Cocktails, Corkage...</td>\n",
       "      <td>False</td>\n",
       "      <td>True</td>\n",
       "      <td>False</td>\n",
       "      <td>False</td>\n",
       "      <td>True</td>\n",
       "      <td>False</td>\n",
       "      <td>False</td>\n",
       "      <td>True</td>\n",
       "      <td>False</td>\n",
       "      <td>False</td>\n",
       "      <td>False</td>\n",
       "      <td>False</td>\n",
       "      <td>False</td>\n",
       "      <td>False</td>\n",
       "      <td>False</td>\n",
       "      <td>False</td>\n",
       "      <td>True</td>\n",
       "      <td>False</td>\n",
       "      <td>False</td>\n",
       "      <td>False</td>\n",
       "      <td>False</td>\n",
       "      <td>False</td>\n",
       "      <td>False</td>\n",
       "      <td>False</td>\n",
       "      <td>False</td>\n",
       "      <td>False</td>\n",
       "      <td>False</td>\n",
       "      <td>True</td>\n",
       "      <td>False</td>\n",
       "      <td>False</td>\n",
       "      <td>False</td>\n",
       "      <td>False</td>\n",
       "      <td>None</td>\n",
       "      <td>[POSTMATES]</td>\n",
       "      <td>http://www.facebook.com/proudbirdrestaurant</td>\n",
       "      <td>https://www.theproudbird.com/menus</td>\n",
       "      <td>NaN</td>\n",
       "      <td>5</td>\n",
       "    </tr>\n",
       "  </tbody>\n",
       "</table>\n",
       "</div>"
      ],
      "text/plain": [
       "         country   subregion         city                     brand_name  \\\n",
       "0  United States  California     La Jolla  Fresheria - Be Fresh La Jolla   \n",
       "1  United States  California        Davis         Hikari Sushi & Omakase   \n",
       "2  United States  California    San Diego                    Grant Grill   \n",
       "3  United States  California     Danville                Yanni's Taverna   \n",
       "4  United States  California  Los Angeles                     Proud Bird   \n",
       "\n",
       "                                          categories  latitude  longitude  \\\n",
       "0                                             [Café]  32.83937 -117.27654   \n",
       "1               [Sushi, Japanese, Creative Japanese]  38.54269 -121.73945   \n",
       "2  [Californian, Contemporary American, Bar / Lou...  32.71569 -117.16173   \n",
       "3                             [Greek, Mediterranean]  37.82196 -121.99948   \n",
       "4                            [American, Unspecified]  33.93541 -118.37742   \n",
       "\n",
       "                area                                            address  \\\n",
       "0           La Jolla  627 Pearl St, , CA, La Jolla, 92037, United St...   \n",
       "1              Davis   110 F St, , CA, Davis, 95616-4628, United States   \n",
       "2           Downtown  326 Broadway, , CA, San Diego, 92101, United S...   \n",
       "3           Danville  120 E Prospect Avenue, , CA, Danville, 94526, ...   \n",
       "4  LAX / Westchester  11022 Aviation Blvd, , CA, Los Angeles, 90045,...   \n",
       "\n",
       "                                         description public_transit  \\\n",
       "0  Freshería - Fresh, balanced and delicious food...           None   \n",
       "1  Please be advised. Friday and Saturday's dinne...                  \n",
       "2  A remarkable epicurean experience awaits you a...           None   \n",
       "3  <p>Yanni's Taverna is a Mediterranean restaura...           None   \n",
       "4  The Proud Bird is a modern, re-imagined food b...           None   \n",
       "\n",
       "   cross_street             restaurant_website    phone_number  \\\n",
       "0          None    http://www.Lafresheria.com/  (858) 551-8786   \n",
       "1          None      http://hikariomakase.com/  (530) 564-4356   \n",
       "2   Fourth Ave.     http://www.grantgrill.com/  (619) 744-2077   \n",
       "3  Hartz Avenue  http://www.yannistaverna.com/  (925) 820-7700   \n",
       "4  111th Street  https://www.theproudbird.com/  (310) 670-3093   \n",
       "\n",
       "  primary_cuisine   dining_style executive_chef_name    parking_info  \\\n",
       "0            Café  Casual Dining                None            None   \n",
       "1           Sushi  Casual Dining       Sithu and Zin  Street Parking   \n",
       "2     Californian    Fine Dining    Mark Kropczynski           Valet   \n",
       "3           Greek  Casual Dining                None  Street Parking   \n",
       "4        American  Casual Dining                None            None   \n",
       "\n",
       "     dress_code                                      entertainment  \\\n",
       "0  Casual Dress                                               None   \n",
       "1  Casual Dress                                               None   \n",
       "2  Smart Casual  Live entertainment Thursday-Saturday at 8pm in...   \n",
       "3  Casual Dress                 Live Greek music once every month.   \n",
       "4  Casual Dress                                               None   \n",
       "\n",
       "                                     operating_hours  price_range_id  \\\n",
       "0   Mon–Fri 6:30 am–7:00 pm Sat, Sun 8:00 am–7:00 pm               2   \n",
       "1   Tue–Thu 5:00 pm–9:00 pm Fri, Sat 4:30 pm–9:30 pm               4   \n",
       "2  Brunch Sat, Sun 7:00 am–2:00 pm Breakfast Mon–...               3   \n",
       "3  Lunch: Monday - Saturday: 11:00am - 4:00pm Din...               2   \n",
       "4  Tue–Thu, Sun 11:00 am–7:00 pm Fri, Sat 11:00 a...               2   \n",
       "\n",
       "     price_range                                    payment_options  \\\n",
       "0  $30 and under                 [AMEX, Discover, Mastercard, Visa]   \n",
       "1   $50 and over                 [AMEX, Discover, MasterCard, Visa]   \n",
       "2     $31 to $50    [AMEX, Diners Club, Discover, Mastercard, Visa]   \n",
       "3  $30 and under                 [AMEX, Discover, Mastercard, Visa]   \n",
       "4  $30 and under  [AMEX, Cash not accepted, Discover, Mastercard...   \n",
       "\n",
       "   maximum_days_advance_for_reservation  rating  rating_count  \\\n",
       "0                                    90     0.0             0   \n",
       "1                                    90     5.0            44   \n",
       "2                                    90     4.8            77   \n",
       "3                                    90     4.1            14   \n",
       "4                                    91     4.0          1399   \n",
       "\n",
       "   atmosphere_rating  noise_rating  food_rating  service_rating  value_rating  \\\n",
       "0                0.0             0          0.0             0.0           0.0   \n",
       "1                5.0             2          5.0             5.0           4.9   \n",
       "2                4.9             2          4.6             4.9           4.3   \n",
       "3                3.3             2          4.1             4.1           3.6   \n",
       "4                4.1             2          4.0             3.9           4.0   \n",
       "\n",
       "   terrible_review_count  poor_review_count  average_review_count  \\\n",
       "0                      0                  0                     0   \n",
       "1                      0                  0                     0   \n",
       "2                      0                  0                     5   \n",
       "3                      0                  0                     4   \n",
       "4                     36                 77                   246   \n",
       "\n",
       "   very_good_review_count  excellent_review_count  \\\n",
       "0                       0                       0   \n",
       "1                       0                      44   \n",
       "2                       6                      66   \n",
       "3                       5                       5   \n",
       "4                     547                     493   \n",
       "\n",
       "                                  most_recent_review  review_count  \\\n",
       "0                                               None             0   \n",
       "1  Great service and gourmet. Presentations of fo...            81   \n",
       "2  Our waiter, Jose, is so wonderful! I've been m...          1453   \n",
       "3               Great find! Mixed grill is fabulous!             7   \n",
       "4  The Proud Bird is a terrific restaurant savory...           567   \n",
       "\n",
       "                                       review_topics  \\\n",
       "0                                                 []   \n",
       "1  [Good for special occasions, Charming, Innovat...   \n",
       "2  [Good for special occasions, Good for business...   \n",
       "3        [Kid-friendly, Innovative, Good for groups]   \n",
       "4  [Great for scenic views, Good for groups, Good...   \n",
       "\n",
       "                                                tags  has_clean_menus  \\\n",
       "0  [Cafe, Counter Seating, Delivery, Non-Smoking,...            False   \n",
       "1  [BYO Liquor, BYO Wine, Chef's Table, Counter S...             True   \n",
       "2  [Banquet, Bar/Lounge, Beer, BYO Wine, Cocktail...            False   \n",
       "3  [Bar Dining, Beer, Corkage Fee, Counter Seatin...            False   \n",
       "4  [Banquet, Bar/Lounge, Beer, Cocktails, Corkage...            False   \n",
       "\n",
       "   has_common_area_cleaning  has_common_area_distancing  \\\n",
       "0                     False                       False   \n",
       "1                      True                       False   \n",
       "2                      True                        True   \n",
       "3                     False                       False   \n",
       "4                      True                       False   \n",
       "\n",
       "   has_contact_tracing_collected  has_contactless_payment  \\\n",
       "0                          False                    False   \n",
       "1                          False                    False   \n",
       "2                          False                    False   \n",
       "3                          False                    False   \n",
       "4                          False                     True   \n",
       "\n",
       "   requires_diner_temperature_check  has_limited_seating  \\\n",
       "0                             False                False   \n",
       "1                              True                 True   \n",
       "2                             False                 True   \n",
       "3                             False                False   \n",
       "4                             False                False   \n",
       "\n",
       "   prohibits_sick_staff  has_proof_of_vaccination_outdoor  \\\n",
       "0                 False                             False   \n",
       "1                  True                             False   \n",
       "2                  True                             False   \n",
       "3                 False                             False   \n",
       "4                  True                             False   \n",
       "\n",
       "   requires_proof_of_vaccination  requires_diner_masks  \\\n",
       "0                          False                 False   \n",
       "1                          False                 False   \n",
       "2                          False                 False   \n",
       "3                          False                 False   \n",
       "4                          False                 False   \n",
       "\n",
       "   requires_wait_staff_masks  has_sanitized_surfaces  \\\n",
       "0                      False                   False   \n",
       "1                       True                    True   \n",
       "2                      False                    True   \n",
       "3                      False                   False   \n",
       "4                      False                   False   \n",
       "\n",
       "   provides_sanitizer_for_customers  has_sealed_utensils  \\\n",
       "0                             False                False   \n",
       "1                              True                False   \n",
       "2                             False                False   \n",
       "3                             False                False   \n",
       "4                             False                False   \n",
       "\n",
       "   has_vaccinated_staff  requires_staff_temp_checks  \\\n",
       "0                 False                       False   \n",
       "1                 False                        True   \n",
       "2                 False                       False   \n",
       "3                 False                       False   \n",
       "4                 False                        True   \n",
       "\n",
       "   has_table_layout_with_extra_space  is_permanently_closed  is_waitlist_only  \\\n",
       "0                              False                  False              True   \n",
       "1                              False                  False             False   \n",
       "2                              False                  False             False   \n",
       "3                              False                  False             False   \n",
       "4                              False                  False             False   \n",
       "\n",
       "   has_waitlist  has_bar  has_counter  has_high_top_seating  \\\n",
       "0         False    False        False                 False   \n",
       "1          True    False         True                 False   \n",
       "2         False    False        False                 False   \n",
       "3         False    False        False                 False   \n",
       "4         False    False        False                 False   \n",
       "\n",
       "   has_outdoor_seating  has_priority_seating  has_private_dining  has_takeout  \\\n",
       "0                False                 False                True         True   \n",
       "1                False                 False               False         True   \n",
       "2                False                 False                True         True   \n",
       "3                False                 False                True         True   \n",
       "4                False                 False               False         True   \n",
       "\n",
       "   has_delivery_partners  has_pickup  is_network_non_bookable  has_gifting  \\\n",
       "0                  False       False                    False        False   \n",
       "1                  False       False                    False         True   \n",
       "2                  False       False                    False        False   \n",
       "3                  False       False                    False        False   \n",
       "4                  False       False                    False        False   \n",
       "\n",
       "  order_online_link delivery_partners  \\\n",
       "0              None                []   \n",
       "1              None                []   \n",
       "2              None                []   \n",
       "3              None                []   \n",
       "4              None       [POSTMATES]   \n",
       "\n",
       "                                      facebook  \\\n",
       "0            http://www.facebook.com/befreshsd   \n",
       "1                                         None   \n",
       "2           http://www.facebook.com/grantgrill   \n",
       "3                                         None   \n",
       "4  http://www.facebook.com/proudbirdrestaurant   \n",
       "\n",
       "                                            menu_url  daily_reservation_count  \\\n",
       "0            http://www.facebook.com/befreshsd/menu/                      NaN   \n",
       "1  https://www.facebook.com/hikarisushiandomakase...                      1.0   \n",
       "2                    http://www.grantgrill.com/menu/                     12.0   \n",
       "3          http://www.yannistaverna.com/#!menus/cfvg                      NaN   \n",
       "4                 https://www.theproudbird.com/menus                      NaN   \n",
       "\n",
       "   restaurant_id  \n",
       "0              1  \n",
       "1              2  \n",
       "2              3  \n",
       "3              4  \n",
       "4              5  "
      ]
     },
     "execution_count": 3,
     "metadata": {},
     "output_type": "execute_result"
    }
   ],
   "source": [
    "df[\"restaurant_id\"] = range(1, len(df) + 1)\n",
    "print(df.shape)\n",
    "df.head()"
   ]
  },
  {
   "cell_type": "markdown",
   "metadata": {
    "application/vnd.databricks.v1+cell": {
     "cellMetadata": {},
     "inputWidgets": {},
     "nuid": "1cace92e-ab99-446d-bdb1-fc8a202c713a",
     "showTitle": false,
     "title": ""
    }
   },
   "source": [
    "## Section 3: Data Preprocessing 🕵🏼‍♀️ [9]\n",
    "\n",
    "\n",
    "<img src=\"https://media.giphy.com/media/2f41Z7bhKGvbG/giphy.gif\"  width=\"250px\" alt=\"potter\">\n",
    "\n",
    "\n",
    "In this exercise, you will be preprocessing the data. It will involve cleaning the data, transforming it into a suitable format, and handling missing values and outliers. These steps are crucial to ensure the quality and reliability of the data before applying statistical learning models.\n",
    "\n",
    "> 📝 Your work will be assessed based on how systematic and complete your transformations are i.e, if they perform the task generally across all data points, and yield the expected output."
   ]
  },
  {
   "cell_type": "markdown",
   "metadata": {
    "application/vnd.databricks.v1+cell": {
     "cellMetadata": {},
     "inputWidgets": {},
     "nuid": "9f37e5d2-7ab6-454c-9b33-495d7319d68e",
     "showTitle": false,
     "title": ""
    }
   },
   "source": [
    "### 3.1. Missing Values ❓ [4]\n",
    "\n",
    "Inspect the data to understand what you are dealing with, including summary statistics as well as its structure and identify potential issues that need fixing. Identify and handle missing values in the dataset. If a value is missing, decide whether to fill it in with an appropriate default value, remove the row, or simply let it be."
   ]
  },
  {
   "cell_type": "code",
   "execution_count": null,
   "metadata": {
    "application/vnd.databricks.v1+cell": {
     "cellMetadata": {},
     "inputWidgets": {},
     "nuid": "ddcab820-7342-4280-8b57-eb98e55af147",
     "showTitle": false,
     "title": ""
    }
   },
   "outputs": [],
   "source": [
    "# ✏️ YOUR CODE HERE"
   ]
  },
  {
   "cell_type": "markdown",
   "metadata": {
    "application/vnd.databricks.v1+cell": {
     "cellMetadata": {},
     "inputWidgets": {},
     "nuid": "2eee6e26-1099-46bf-b4ab-02545163f52e",
     "showTitle": false,
     "title": ""
    }
   },
   "source": [
    "### 3.2. Phoning it in 📞 [3]\n",
    "\n",
    "Standardize the format of the ```'phone_number'``` column by removing any non-numeric characters and ensuring that all phone numbers have the same length."
   ]
  },
  {
   "cell_type": "code",
   "execution_count": null,
   "metadata": {
    "application/vnd.databricks.v1+cell": {
     "cellMetadata": {},
     "inputWidgets": {},
     "nuid": "5e1364d8-3823-49a1-babb-3a6429712908",
     "showTitle": false,
     "title": ""
    }
   },
   "outputs": [],
   "source": [
    "# ✏️ YOUR CODE HERE"
   ]
  },
  {
   "cell_type": "markdown",
   "metadata": {
    "application/vnd.databricks.v1+cell": {
     "cellMetadata": {},
     "inputWidgets": {},
     "nuid": "2516c3c1-6c93-4827-8480-4472aba851e1",
     "showTitle": false,
     "title": ""
    }
   },
   "source": [
    "### 3.3. No more HTML 📄 [2]\n",
    "Find columns containing HTML tags and replace them with an appropriate plain text equivalent, such as a newline character or space.\n",
    "\n",
    "ex:\n",
    "\n",
    "```html\n",
    "<p>\n",
    "  Feast on delicious grub at Jerry's Famous Deli.<br />\n",
    "  Its retro-style casual setting features comfortable booth seating.\n",
    "</p>\n",
    "```\n",
    "\n",
    "to:\n",
    "\n",
    "```\n",
    "Feast on delicious grub at Jerry's Famous Deli. Its retro-style casual setting features comfortable booth seating.\n",
    "```"
   ]
  },
  {
   "cell_type": "code",
   "execution_count": null,
   "metadata": {
    "application/vnd.databricks.v1+cell": {
     "cellMetadata": {},
     "inputWidgets": {},
     "nuid": "4c624e6d-15b6-4e56-a421-5c6f188350e1",
     "showTitle": false,
     "title": ""
    }
   },
   "outputs": [],
   "source": [
    "# ✏️ YOUR CODE HERE"
   ]
  },
  {
   "cell_type": "markdown",
   "metadata": {
    "application/vnd.databricks.v1+cell": {
     "cellMetadata": {},
     "inputWidgets": {},
     "nuid": "7858dfbf-8db0-480a-a712-38620c156781",
     "showTitle": false,
     "title": ""
    }
   },
   "source": [
    "Remember to hydrate and  [![Spotify](https://img.shields.io/badge/Spotify-1ED760?style=for-the-badge&logo=spotify&logoColor=white)](https://open.spotify.com/playlist/3d4bU6GAelt3YL2L1X2SOn)"
   ]
  },
  {
   "cell_type": "markdown",
   "metadata": {
    "application/vnd.databricks.v1+cell": {
     "cellMetadata": {},
     "inputWidgets": {},
     "nuid": "6432d94c-7576-42f1-a8dc-fe7ab9864c7d",
     "showTitle": false,
     "title": ""
    }
   },
   "source": [
    "## Section 4: Data-Driven Questions 💬 [15]\n",
    "\n",
    "<img src=\"https://media.giphy.com/media/fv8KclrYGp5dK/giphy.gif\"  width=\"250px\" alt=\"sherlock\">\n",
    "\n",
    "\n",
    "This section is designed to pose several broad questions that require a data-centric approach for their answers. You will need to manipulate, filter, and aggregate the provided data to derive the results using code. The key objective is to assess your capability to convert a question into a series of methods or transformations that guide you to **systematically deduce the answer**, and to evaluate the reasoning process you employ to reach the conclusion as well as the **criteria you select**. Consider cleaning up additional fields in the data before you use them. Although the analysis is not limited to the dataset included in this notebook, and you are encouraged to incorporate **supplementary references** from other publicly available datasets, studies, or statistics, it is obligatory to utilize the primary dataset supplied with this notebook as the main information source. Additionally, it is essential to incorporate a **visualization** of your findings as a way to articulate your response. You are free to select any form of visualization, be it charts, maps, animations, or others, but they must be original creations and not borrowed from external sources.\n",
    "\n",
    "> 📝 Your evaluation will be based on the investigative techniques employed, the originality of your approach, the selection of variables and metrics, the criteria chosen, the type and quality of the visualization selected, and any additional supporting evidence, if provided"
   ]
  },
  {
   "cell_type": "markdown",
   "metadata": {
    "application/vnd.databricks.v1+cell": {
     "cellMetadata": {},
     "inputWidgets": {},
     "nuid": "f9aa024c-7624-418b-b325-8dace04cc477",
     "showTitle": false,
     "title": ""
    }
   },
   "source": [
    "#### 4.1. Cuisine Saturation 🍱 [1]\n",
    "\n",
    "**Which cuisines are over-saturating in `Pasadena`?**"
   ]
  },
  {
   "cell_type": "code",
   "execution_count": null,
   "metadata": {
    "application/vnd.databricks.v1+cell": {
     "cellMetadata": {},
     "inputWidgets": {},
     "nuid": "6469e9eb-a1f0-4f9c-ba44-29ab7c6e3828",
     "showTitle": false,
     "title": ""
    }
   },
   "outputs": [],
   "source": [
    "# YOUR CODE HERE"
   ]
  },
  {
   "cell_type": "markdown",
   "metadata": {
    "application/vnd.databricks.v1+cell": {
     "cellMetadata": {},
     "inputWidgets": {},
     "nuid": "2f545809-65ea-4c7e-87c6-41671d702027",
     "showTitle": false,
     "title": ""
    }
   },
   "source": [
    "#### 4.2. Consumer Culinary Spend  💸 [2]\n",
    "\n",
    "**How does the average spend per person at a restaurant in the `San-Francisco Bay Area` compare with the `Los Angeles Metropolitan Area`?**"
   ]
  },
  {
   "cell_type": "code",
   "execution_count": null,
   "metadata": {
    "application/vnd.databricks.v1+cell": {
     "cellMetadata": {},
     "inputWidgets": {},
     "nuid": "08ea97ed-b012-4b5a-912b-37337071f5c9",
     "showTitle": false,
     "title": ""
    }
   },
   "outputs": [],
   "source": [
    "# YOUR CODE HERE"
   ]
  },
  {
   "cell_type": "markdown",
   "metadata": {
    "application/vnd.databricks.v1+cell": {
     "cellMetadata": {},
     "inputWidgets": {},
     "nuid": "7883b3da-8138-4606-8407-b7a8bcac59bf",
     "showTitle": false,
     "title": ""
    }
   },
   "source": [
    "#### 4.3. Safe & Famous  🫧 [3]\n",
    "\n",
    "**Identify some popular restaurants in California that also have good `hygiene` & `safety` standards?**\n",
    "\n",
    "> You may define `popular` in whatever way you wish using the variables in the data"
   ]
  },
  {
   "cell_type": "code",
   "execution_count": null,
   "metadata": {
    "application/vnd.databricks.v1+cell": {
     "cellMetadata": {},
     "inputWidgets": {},
     "nuid": "90531132-b91d-4622-92b5-7354ba7d1cda",
     "showTitle": false,
     "title": ""
    }
   },
   "outputs": [],
   "source": [
    "# YOUR CODE HERE"
   ]
  },
  {
   "cell_type": "markdown",
   "metadata": {
    "application/vnd.databricks.v1+cell": {
     "cellMetadata": {},
     "inputWidgets": {},
     "nuid": "de310a76-a0d3-471f-9a16-b6b50b2ef192",
     "showTitle": false,
     "title": ""
    }
   },
   "source": [
    "#### 4.4. Twinning 🗺 [4]\n",
    "\n",
    "**Find a pair of `neighbourhoods` in California that have a similar `cuisine` distribution**\n",
    "\n",
    "> Be sure to consider neighbourhoods that have a reasonable sample of restaurants to begin with!"
   ]
  },
  {
   "cell_type": "code",
   "execution_count": null,
   "metadata": {
    "application/vnd.databricks.v1+cell": {
     "cellMetadata": {},
     "inputWidgets": {},
     "nuid": "dc783c78-ba84-45be-85d7-ff5dffe1914f",
     "showTitle": false,
     "title": ""
    }
   },
   "outputs": [],
   "source": [
    "# YOUR CODE HERE"
   ]
  },
  {
   "cell_type": "markdown",
   "metadata": {
    "application/vnd.databricks.v1+cell": {
     "cellMetadata": {},
     "inputWidgets": {},
     "nuid": "b7747fb2-284f-4903-87b9-2ab483601f59",
     "showTitle": false,
     "title": ""
    }
   },
   "source": [
    "#### 4.5. Competitor Analysis 🍝 [5]\n",
    "\n",
    "**Which restaurants in California can be considered competitors of the `Mona Lisa` Italian restaurant in San Francisco?**\n",
    "\n",
    "> Use whatever metrics or criteria you wish to define what qualifies as a competitor"
   ]
  },
  {
   "cell_type": "code",
   "execution_count": null,
   "metadata": {
    "application/vnd.databricks.v1+cell": {
     "cellMetadata": {},
     "inputWidgets": {},
     "nuid": "865550f1-12c8-4707-bae6-6c63309b10d0",
     "showTitle": false,
     "title": ""
    }
   },
   "outputs": [],
   "source": [
    "# YOUR CODE HERE"
   ]
  },
  {
   "cell_type": "markdown",
   "metadata": {
    "application/vnd.databricks.v1+cell": {
     "cellMetadata": {},
     "inputWidgets": {},
     "nuid": "08a9a94d-4197-4237-a172-224f092a6238",
     "showTitle": false,
     "title": ""
    }
   },
   "source": [
    "## Section 5: Review Analysis 🎙 [15]\n",
    "\n",
    "> This section is independent of the previous sections, and uses a different dataset\n",
    "\n",
    "<img src=\"https://media.giphy.com/media/3o6ggcSS96ZfB13woo/giphy.gif\"  width=\"250px\" alt=\"ramsey\">\n",
    "\n",
    "\n",
    "In this section, we have a dataset of restaurant reviews in Los Angeles, and we're interested in understanding customer sentiment towards three key aspects: Food, Service, and Ambiance.\n",
    "\n",
    "We will load a reviews dataset from [AWS](https://googlethatforyou.com?q=amazon%20web%20services) S3, to perform the analysis."
   ]
  },
  {
   "cell_type": "code",
   "execution_count": 4,
   "metadata": {
    "application/vnd.databricks.v1+cell": {
     "cellMetadata": {
      "byteLimit": 2048000,
      "rowLimit": 10000
     },
     "inputWidgets": {},
     "nuid": "41aa34a8-8668-4d7f-92a9-7f73ee93f8c7",
     "showTitle": false,
     "title": ""
    }
   },
   "outputs": [],
   "source": [
    "REVIEWS_URL: str = (\n",
    "    \"https://dotlas-marketing.s3.amazonaws.com/interviews/los_angeles_reviews_2023.parquet\"\n",
    ")"
   ]
  },
  {
   "cell_type": "markdown",
   "metadata": {
    "application/vnd.databricks.v1+cell": {
     "cellMetadata": {},
     "inputWidgets": {},
     "nuid": "f40f03d6-aff5-4e4c-9876-a187079bba62",
     "showTitle": false,
     "title": ""
    }
   },
   "source": [
    "Below, you've been provided with some seed words to help you in analysing each aspect of the restaurant's experience. Feel free to modify it as you see fit."
   ]
  },
  {
   "cell_type": "code",
   "execution_count": null,
   "metadata": {
    "application/vnd.databricks.v1+cell": {
     "cellMetadata": {},
     "inputWidgets": {},
     "nuid": "9fb4e2fa-29e5-4d6f-917c-680f7fe58aa1",
     "showTitle": false,
     "title": ""
    }
   },
   "outputs": [],
   "source": [
    "seed_words = {\n",
    "    'Food': {\n",
    "        'Positive': ['tasty', 'delicious', 'flavorful', 'fresh', 'juicy', 'crispy', 'savory', 'yummy', 'delectable', 'succulent'],\n",
    "        'Negative': ['bland', 'stale', 'overcooked', 'undercooked', 'greasy', 'salty', 'burnt', 'sour', 'tasteless', 'dry']\n",
    "    },\n",
    "    'Service': {\n",
    "        'Positive': ['friendly', 'attentive', 'prompt', 'courteous', 'professional', 'helpful', 'accommodating', 'quick', 'efficient', 'warm'],\n",
    "        'Negative': ['slow', 'rude', 'inattentive', 'disorganized', 'negligent', 'unprofessional', 'unhelpful', 'snobby', 'aloof', 'cold']\n",
    "    },\n",
    "    'Ambiance': {\n",
    "        'Positive': ['cozy', 'inviting', 'elegant', 'trendy', 'clean', 'lively', 'comfortable', 'romantic', 'vibrant', 'charming'],\n",
    "        'Negative': ['loud', 'crowded', 'dirty', 'dull', 'dark', 'cramped', 'noisy', 'uncomfortable', 'drab', 'claustrophobic']\n",
    "    }\n",
    "}"
   ]
  },
  {
   "cell_type": "markdown",
   "metadata": {
    "application/vnd.databricks.v1+cell": {
     "cellMetadata": {},
     "inputWidgets": {},
     "nuid": "14d0959d-059b-410a-b87b-6f7bcfed7cd7",
     "showTitle": false,
     "title": ""
    }
   },
   "source": [
    "#### Term Identification 🔠 [5]\n",
    "\n",
    "**Identify mentions of the three aspects (`Food, Service, Ambiance`) in the review text.**\n",
    "\n",
    "> Use the seed words provided above to identify the presence of sentiments for each review. Feel free to alter it as you see fit."
   ]
  },
  {
   "cell_type": "code",
   "execution_count": null,
   "metadata": {
    "application/vnd.databricks.v1+cell": {
     "cellMetadata": {},
     "inputWidgets": {},
     "nuid": "c7527d56-3686-4405-b607-a9a8f37b6949",
     "showTitle": false,
     "title": ""
    }
   },
   "outputs": [],
   "source": [
    "# ✏️ YOUR CODE HERE\n",
    "# reviews_df: pd.DataFrame = ?"
   ]
  },
  {
   "cell_type": "code",
   "execution_count": 6,
   "metadata": {
    "application/vnd.databricks.v1+cell": {
     "cellMetadata": {
      "byteLimit": 2048000,
      "rowLimit": 10000
     },
     "inputWidgets": {},
     "nuid": "9013494d-2732-40c5-b7ba-df185e7bd5a1",
     "showTitle": false,
     "title": ""
    }
   },
   "outputs": [
    {
     "name": "stdout",
     "output_type": "stream",
     "text": [
      "(141410, 8)\n"
     ]
    },
    {
     "data": {
      "text/html": [
       "<div>\n",
       "<style scoped>\n",
       "    .dataframe tbody tr th:only-of-type {\n",
       "        vertical-align: middle;\n",
       "    }\n",
       "\n",
       "    .dataframe tbody tr th {\n",
       "        vertical-align: top;\n",
       "    }\n",
       "\n",
       "    .dataframe thead th {\n",
       "        text-align: right;\n",
       "    }\n",
       "</style>\n",
       "<table border=\"1\" class=\"dataframe\">\n",
       "  <thead>\n",
       "    <tr style=\"text-align: right;\">\n",
       "      <th></th>\n",
       "      <th>author_name</th>\n",
       "      <th>creation_date</th>\n",
       "      <th>rating</th>\n",
       "      <th>review_title</th>\n",
       "      <th>review_text</th>\n",
       "      <th>brand_name</th>\n",
       "      <th>city</th>\n",
       "      <th>area</th>\n",
       "    </tr>\n",
       "  </thead>\n",
       "  <tbody>\n",
       "    <tr>\n",
       "      <th>0</th>\n",
       "      <td>Casper L.</td>\n",
       "      <td>2023-08-20 12:57:10-07:00</td>\n",
       "      <td>5</td>\n",
       "      <td>Casper L.'s review</td>\n",
       "      <td>Really good place for some stuffing Japanese f...</td>\n",
       "      <td>Chinchikurin - Sawtelle</td>\n",
       "      <td>Los Angeles</td>\n",
       "      <td>Sawtelle</td>\n",
       "    </tr>\n",
       "    <tr>\n",
       "      <th>1</th>\n",
       "      <td>Michelle S.</td>\n",
       "      <td>2021-12-31 16:31:48-07:00</td>\n",
       "      <td>5</td>\n",
       "      <td>Michelle S.'s review</td>\n",
       "      <td>Treats are amazing !!!! Everything you order i...</td>\n",
       "      <td>The Sweet Life</td>\n",
       "      <td>Los Angeles</td>\n",
       "      <td>Vermont Square</td>\n",
       "    </tr>\n",
       "    <tr>\n",
       "      <th>2</th>\n",
       "      <td>Elias D.</td>\n",
       "      <td>2023-08-19 18:07:30-07:00</td>\n",
       "      <td>5</td>\n",
       "      <td>Elias D.'s review</td>\n",
       "      <td>Quality from the sauce to the wings and servic...</td>\n",
       "      <td>Pizza King</td>\n",
       "      <td>Los Angeles</td>\n",
       "      <td>None</td>\n",
       "    </tr>\n",
       "    <tr>\n",
       "      <th>3</th>\n",
       "      <td>Maribel G.</td>\n",
       "      <td>2023-08-14 19:03:18-07:00</td>\n",
       "      <td>4</td>\n",
       "      <td>Maribel G.'s review</td>\n",
       "      <td>They're pizza is delicious!!!! And they are ve...</td>\n",
       "      <td>Pizza King</td>\n",
       "      <td>Los Angeles</td>\n",
       "      <td>None</td>\n",
       "    </tr>\n",
       "    <tr>\n",
       "      <th>4</th>\n",
       "      <td>Denise W.</td>\n",
       "      <td>2023-07-08 22:59:32-07:00</td>\n",
       "      <td>5</td>\n",
       "      <td>Denise W.'s review</td>\n",
       "      <td>Really nice staff and good pizza for a great p...</td>\n",
       "      <td>Pizza King</td>\n",
       "      <td>Los Angeles</td>\n",
       "      <td>None</td>\n",
       "    </tr>\n",
       "  </tbody>\n",
       "</table>\n",
       "</div>"
      ],
      "text/plain": [
       "   author_name             creation_date  rating          review_title  \\\n",
       "0    Casper L. 2023-08-20 12:57:10-07:00       5    Casper L.'s review   \n",
       "1  Michelle S. 2021-12-31 16:31:48-07:00       5  Michelle S.'s review   \n",
       "2     Elias D. 2023-08-19 18:07:30-07:00       5     Elias D.'s review   \n",
       "3   Maribel G. 2023-08-14 19:03:18-07:00       4   Maribel G.'s review   \n",
       "4    Denise W. 2023-07-08 22:59:32-07:00       5    Denise W.'s review   \n",
       "\n",
       "                                         review_text               brand_name  \\\n",
       "0  Really good place for some stuffing Japanese f...  Chinchikurin - Sawtelle   \n",
       "1  Treats are amazing !!!! Everything you order i...           The Sweet Life   \n",
       "2  Quality from the sauce to the wings and servic...               Pizza King   \n",
       "3  They're pizza is delicious!!!! And they are ve...               Pizza King   \n",
       "4  Really nice staff and good pizza for a great p...               Pizza King   \n",
       "\n",
       "          city            area  \n",
       "0  Los Angeles        Sawtelle  \n",
       "1  Los Angeles  Vermont Square  \n",
       "2  Los Angeles            None  \n",
       "3  Los Angeles            None  \n",
       "4  Los Angeles            None  "
      ]
     },
     "execution_count": 6,
     "metadata": {},
     "output_type": "execute_result"
    }
   ],
   "source": [
    "print(reviews_df.shape)\n",
    "reviews_df.head()"
   ]
  },
  {
   "cell_type": "markdown",
   "metadata": {
    "application/vnd.databricks.v1+cell": {
     "cellMetadata": {},
     "inputWidgets": {},
     "nuid": "a56e54fb-44bc-41af-945d-689d705c464c",
     "showTitle": false,
     "title": ""
    }
   },
   "source": [
    "#### Sentiment Analysis 🎭 [5]\n",
    "\n",
    "**Perform a sentiment scoring (`Negative` or `Positive`) of each mention of the aspects.**\n",
    "\n",
    "> The seed words dictionary already accounts for the sentiment of each aspect, so feel free to utilize it once more."
   ]
  },
  {
   "cell_type": "code",
   "execution_count": null,
   "metadata": {
    "application/vnd.databricks.v1+cell": {
     "cellMetadata": {},
     "inputWidgets": {},
     "nuid": "75e994bd-2a89-4da2-a3b0-7e4debad12dc",
     "showTitle": false,
     "title": ""
    }
   },
   "outputs": [],
   "source": [
    "# YOUR CODE HERE"
   ]
  },
  {
   "cell_type": "markdown",
   "metadata": {
    "application/vnd.databricks.v1+cell": {
     "cellMetadata": {},
     "inputWidgets": {},
     "nuid": "13b7df7d-b43e-483d-8bc1-b69b3117c1ce",
     "showTitle": false,
     "title": ""
    }
   },
   "source": [
    "#### Compile 📚 [5]\n",
    "\n",
    "**Provide an analysis of the aspect and sentiment of restaurants in Los Angeles. Provide at least 1 visualization and summarize your findings.**"
   ]
  },
  {
   "cell_type": "code",
   "execution_count": null,
   "metadata": {
    "application/vnd.databricks.v1+cell": {
     "cellMetadata": {},
     "inputWidgets": {},
     "nuid": "4f3a27c1-ce30-499f-acfa-3fcac04939dd",
     "showTitle": false,
     "title": ""
    }
   },
   "outputs": [],
   "source": [
    "# YOUR CODE HERE"
   ]
  },
  {
   "cell_type": "markdown",
   "metadata": {
    "application/vnd.databricks.v1+cell": {
     "cellMetadata": {},
     "inputWidgets": {},
     "nuid": "8aacb7ba-93f2-48a3-94d7-98714034956c",
     "showTitle": false,
     "title": ""
    }
   },
   "source": [
    "---\n",
    "\n",
    "Good job!\n",
    "\n",
    "<img src=\"https://media.giphy.com/media/qLhxN7Rp3PI8E/giphy.gif\" width=\"250px\" alt=\"legend of zelda\">"
   ]
  },
  {
   "cell_type": "markdown",
   "metadata": {
    "application/vnd.databricks.v1+cell": {
     "cellMetadata": {},
     "inputWidgets": {},
     "nuid": "53644d19-279b-49b7-b9af-2dc99896c88b",
     "showTitle": false,
     "title": ""
    }
   },
   "source": []
  }
 ],
 "metadata": {
  "application/vnd.databricks.v1+notebook": {
   "dashboards": [],
   "language": "python",
   "notebookMetadata": {
    "pythonIndentUnit": 4
   },
   "notebookName": "mission",
   "widgets": {}
  },
  "kernelspec": {
   "display_name": "ffpl",
   "language": "python",
   "name": "python3"
  },
  "language_info": {
   "codemirror_mode": {
    "name": "ipython",
    "version": 3
   },
   "file_extension": ".py",
   "mimetype": "text/x-python",
   "name": "python",
   "nbconvert_exporter": "python",
   "pygments_lexer": "ipython3",
   "version": "3.9.16"
  },
  "toc-showtags": false
 },
 "nbformat": 4,
 "nbformat_minor": 0
}
