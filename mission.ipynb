{
 "cells": [
  {
   "cell_type": "markdown",
   "id": "2d89e461-02f4-432a-b1de-6cfb56850426",
   "metadata": {
    "tags": []
   },
   "source": [
    "# Mission Dotlas 🌎 [50 points]\n",
    "\n",
    "> `v2.0` Updated: April 18 2023 (Spring + Summer 2023 Version)\n",
    "\n",
    "![Dotlas](https://camo.githubusercontent.com/6a3a3a9e55ce6b5c4305badbdc68c0d5f11b360b11e3fa7b93c822d637166090/68747470733a2f2f646f746c61732d776562736974652e73332e65752d776573742d312e616d617a6f6e6177732e636f6d2f696d616765732f6769746875622f62616e6e65722e706e67)\n",
    "\n",
    "## Section 1: Project Overview ✉️\n",
    "\n",
    "Welcome to your mission! In this notebook, you will download a dataset containing restaurants' information in the state of California, US. The dataset will then be transformed, processed and prepared in a required format. This clean dataset will then be used to answer some analytical questions and create a few data visualizations in Python.\n",
    "\n",
    "This is a template notebook that has some code already filled-in to help you on your way. There are also cells that require you to fill in the python code to solve specific problems. There are sections of the notebook that contain a points tally for code written. \n",
    "\n",
    "**Each section of this notebook is largely independent, so if you get stuck on a problem you can always move on to the next one.**"
   ]
  },
  {
   "cell_type": "markdown",
   "id": "ba460626-7d60-4959-b7bb-4609817482d6",
   "metadata": {},
   "source": [
    "### 1.1 Tools & Technologies 🪛\n",
    "\n",
    "- This exercise will be carried out using the [Python](https://www.python.org/) programming language and will rely hevily on the [Pandas](https://pandas.pydata.org/) library for data manipulation.\n",
    "- You may use any of [Matplotlib](https://matplotlib.org/), [Seaborn](https://seaborn.pydata.org/) or [Plotly](https://plotly.com/python/) packages for data visualization.\n",
    "- We will be using [Jupyter notebooks](https://jupyter.org/) to run Python code in order to view and interact better with our data and visualizations.\n",
    "- You are free to use [Google Colab](https://colab.research.google.com/) which provides an easy-to-use Jupyter interface.\n",
    "- When not in Colab, it is recommended to run this Jupyter Notebook within an [Anaconda](https://continuum.io/) environment\n",
    "- You can use any other Python packages that you deem fit for this project.\n",
    "\n",
    "> ⚠ **Ensure that your Python version is 3.9 or higher**\n",
    "\n",
    "![](https://upload.wikimedia.org/wikipedia/commons/1/1b/Blue_Python_3.9_Shield_Badge.svg)\n",
    "\n",
    "**Language**\n",
    "\n",
    "![Python](https://img.shields.io/badge/python-3670A0?style=for-the-badge&logo=python&logoColor=ffdd54)\n",
    "\n",
    "**Environments & Packages**\n",
    "\n",
    "![Anaconda](https://img.shields.io/badge/Anaconda-%2344A833.svg?style=for-the-badge&logo=anaconda&logoColor=white)\n",
    "![Jupyter Notebook](https://img.shields.io/badge/jupyter-%23FA0F00.svg?style=for-the-badge&logo=jupyter&logoColor=white)\n",
    "![Pandas](https://img.shields.io/badge/pandas-%23150458.svg?style=for-the-badge&logo=pandas&logoColor=white)\n",
    "![Matplotlib](https://img.shields.io/badge/Matplotlib-%23ffffff.svg?style=for-the-badge&logo=Matplotlib&logoColor=black)\n",
    "![Plotly](https://img.shields.io/badge/Plotly-%233F4F75.svg?style=for-the-badge&logo=plotly&logoColor=white)\n",
    "\n",
    "**Data Store**\n",
    "\n",
    "![AWS](https://img.shields.io/badge/AWS-%23FF9900.svg?style=for-the-badge&logo=amazon-aws&logoColor=white)\n",
    "\n",
    "---"
   ]
  },
  {
   "cell_type": "markdown",
   "id": "383edc6e-9462-4b0b-b1aa-ca33055b38e3",
   "metadata": {},
   "source": [
    "## Section 2: Data Overview 🔍 [8 points]\n",
    "\n",
    "### 2.1.1 Read California Dataset 🚰 [1 point]\n",
    "\n",
    "In this section, we will load the dataset from [AWS](https://googlethatforyou.com?q=amazon%20web%20services) S3, conduct an exploratory data analysis and then clean up the dataset\n",
    "\n",
    "\n",
    "- Ensure that pandas and plotly are installed (possibly via pip or poetry)\n",
    "- The dataset is about 300 MB in size and time-to-download depends on internet speed and availability\n",
    "- Download the dataset using Python into this notebook and load it into a pandas dataframe (without writing to file)\n"
   ]
  },
  {
   "cell_type": "code",
   "execution_count": 1,
   "id": "ed554fdc-0de7-4cd4-8e93-725038033590",
   "metadata": {},
   "outputs": [],
   "source": [
    "from matplotlib import pyplot as plt\n",
    "%matplotlib inline\n",
    "\n",
    "import pandas as pd\n",
    "import plotly.express as px\n",
    "import numpy as np\n",
    "\n",
    "CELL_HEIGHT: int = 50\n",
    "\n",
    "# Initialize helpers to ignore pandas warnings and resize columns and cells\n",
    "pd.set_option(\"chained_assignment\", None)\n",
    "pd.set_option(\"display.max_rows\", 50)\n",
    "pd.set_option(\"display.max_columns\", 500)\n",
    "pd.set_option('display.max_colwidth', CELL_HEIGHT)\n",
    "\n",
    "DATA_URL: str = \"https://dotlas-marketing.s3.amazonaws.com/interviews/california_restaurants.json\""
   ]
  },
  {
   "cell_type": "code",
   "execution_count": 2,
   "id": "0e60d6b3-cea6-4a12-b85d-15748a6be4ea",
   "metadata": {},
   "outputs": [
    {
     "name": "stdout",
     "output_type": "stream",
     "text": [
      "CPU times: user 12.6 s, sys: 2.05 s, total: 14.7 s\n",
      "Wall time: 21.3 s\n"
     ]
    }
   ],
   "source": [
    "%%time\n",
    "# ✏️ YOUR CODE HERE\n",
    "# df: pd.DataFrame = ?"
   ]
  },
  {
   "cell_type": "markdown",
   "id": "521e6f26-8256-4f7b-b662-4580448d07a0",
   "metadata": {},
   "source": [
    "Create a restaurant ID column to uniquely index each restaurant\n"
   ]
  },
  {
   "cell_type": "code",
   "execution_count": 3,
   "id": "d2eb6ee1-51cb-4c01-8bee-9bb87ff6c7bb",
   "metadata": {},
   "outputs": [
    {
     "data": {
      "text/html": [
       "<div>\n",
       "<style scoped>\n",
       "    .dataframe tbody tr th:only-of-type {\n",
       "        vertical-align: middle;\n",
       "    }\n",
       "\n",
       "    .dataframe tbody tr th {\n",
       "        vertical-align: top;\n",
       "    }\n",
       "\n",
       "    .dataframe thead th {\n",
       "        text-align: right;\n",
       "    }\n",
       "</style>\n",
       "<table border=\"1\" class=\"dataframe\">\n",
       "  <thead>\n",
       "    <tr style=\"text-align: right;\">\n",
       "      <th></th>\n",
       "      <th>country</th>\n",
       "      <th>subregion</th>\n",
       "      <th>city</th>\n",
       "      <th>brand_name</th>\n",
       "      <th>categories</th>\n",
       "      <th>latitude</th>\n",
       "      <th>longitude</th>\n",
       "      <th>area</th>\n",
       "      <th>address</th>\n",
       "      <th>menu</th>\n",
       "      <th>description</th>\n",
       "      <th>public_transit</th>\n",
       "      <th>cross_street</th>\n",
       "      <th>restaurant_website</th>\n",
       "      <th>phone_number</th>\n",
       "      <th>primary_cuisine</th>\n",
       "      <th>dining_style</th>\n",
       "      <th>executive_chef_name</th>\n",
       "      <th>parking_info</th>\n",
       "      <th>dress_code</th>\n",
       "      <th>entertainment</th>\n",
       "      <th>operating_hours</th>\n",
       "      <th>price_range_id</th>\n",
       "      <th>price_range</th>\n",
       "      <th>payment_options</th>\n",
       "      <th>maximum_days_advance_for_reservation</th>\n",
       "      <th>rating</th>\n",
       "      <th>rating_count</th>\n",
       "      <th>rating_by_feature</th>\n",
       "      <th>rating_distribution</th>\n",
       "      <th>review_count</th>\n",
       "      <th>review_topics</th>\n",
       "      <th>awards</th>\n",
       "      <th>experiences</th>\n",
       "      <th>tags</th>\n",
       "      <th>editorial_lists</th>\n",
       "      <th>checklist</th>\n",
       "      <th>safety_precautions</th>\n",
       "      <th>order_online_link</th>\n",
       "      <th>facebook</th>\n",
       "      <th>menu_url</th>\n",
       "      <th>popular_dishes</th>\n",
       "      <th>daily_reservation_count</th>\n",
       "      <th>restaurant_id</th>\n",
       "    </tr>\n",
       "  </thead>\n",
       "  <tbody>\n",
       "    <tr>\n",
       "      <th>0</th>\n",
       "      <td>United States</td>\n",
       "      <td>California</td>\n",
       "      <td>Los Angeles</td>\n",
       "      <td>Luv2Eat Thai Bistro</td>\n",
       "      <td>[Thai]</td>\n",
       "      <td>34.097510</td>\n",
       "      <td>-118.335921</td>\n",
       "      <td>Hollywood</td>\n",
       "      <td>6660 W Sunset Blvd, Ste P, CA, Los Angeles, 90...</td>\n",
       "      <td>[{'name': 'Main Menu', 'sections': [{'name': '...</td>\n",
       "      <td>Luv2Eat Thai Bistro is located in Los Angeles,...</td>\n",
       "      <td>None</td>\n",
       "      <td>None</td>\n",
       "      <td>http://www.luv2eatthai.com/</td>\n",
       "      <td>(323) 498-5835</td>\n",
       "      <td>Thai</td>\n",
       "      <td>Casual Dining</td>\n",
       "      <td>None</td>\n",
       "      <td>Street Parking</td>\n",
       "      <td>Casual Dress</td>\n",
       "      <td>None</td>\n",
       "      <td>Lunch\\nDaily 11:00 am–3:30 pm\\nDinner\\nDaily 4...</td>\n",
       "      <td>2</td>\n",
       "      <td>$30 and under</td>\n",
       "      <td>[AMEX, Discover, MasterCard, Visa]</td>\n",
       "      <td>90</td>\n",
       "      <td>4.6</td>\n",
       "      <td>136</td>\n",
       "      <td>{'food': 4.7, 'noise': 2.0, 'value': 4.6, 'ser...</td>\n",
       "      <td>[2, 3, 4, 23, 104]</td>\n",
       "      <td>18</td>\n",
       "      <td>[Spicy, Casual, Neighborhood Gem]</td>\n",
       "      <td>[]</td>\n",
       "      <td>[]</td>\n",
       "      <td>[Delivery, Gluten-free Options, Late Night, No...</td>\n",
       "      <td>[]</td>\n",
       "      <td>{'bar': False, 'counter': False, 'gifting': No...</td>\n",
       "      <td>{'cleanMenus': None, 'limitedSeating': None, '...</td>\n",
       "      <td>None</td>\n",
       "      <td>http://www.facebook.com/luv2eatthaibistro/</td>\n",
       "      <td>http://sappclub.com/restaurant.aspx?r=205</td>\n",
       "      <td>[]</td>\n",
       "      <td>NaN</td>\n",
       "      <td>1</td>\n",
       "    </tr>\n",
       "    <tr>\n",
       "      <th>1</th>\n",
       "      <td>United States</td>\n",
       "      <td>California</td>\n",
       "      <td>Sherman Oaks</td>\n",
       "      <td>Jerry's Famous Deli</td>\n",
       "      <td>[American]</td>\n",
       "      <td>34.154596</td>\n",
       "      <td>-118.448700</td>\n",
       "      <td>Sherman Oaks</td>\n",
       "      <td>None</td>\n",
       "      <td>[{'name': 'Sample Menu', 'sections': [{'name':...</td>\n",
       "      <td>&lt;p&gt;Feast on delicious grub at Jerry's Famous D...</td>\n",
       "      <td>None</td>\n",
       "      <td>None</td>\n",
       "      <td>http://www.jerrysfamousdeli.com/</td>\n",
       "      <td>(818) 905-5774</td>\n",
       "      <td>American</td>\n",
       "      <td>Casual Dining</td>\n",
       "      <td>None</td>\n",
       "      <td>None</td>\n",
       "      <td>Business Casual</td>\n",
       "      <td>None</td>\n",
       "      <td>None</td>\n",
       "      <td>2</td>\n",
       "      <td>$30 and under</td>\n",
       "      <td>[]</td>\n",
       "      <td>90</td>\n",
       "      <td>0.0</td>\n",
       "      <td>0</td>\n",
       "      <td>{'food': 0.0, 'noise': 0.0, 'value': 0.0, 'ser...</td>\n",
       "      <td>[0, 0, 0, 0, 0]</td>\n",
       "      <td>0</td>\n",
       "      <td>[]</td>\n",
       "      <td>[]</td>\n",
       "      <td>[]</td>\n",
       "      <td>[]</td>\n",
       "      <td>[]</td>\n",
       "      <td>{'bar': None, 'counter': None, 'gifting': None...</td>\n",
       "      <td>{'cleanMenus': None, 'limitedSeating': None, '...</td>\n",
       "      <td>None</td>\n",
       "      <td>None</td>\n",
       "      <td>None</td>\n",
       "      <td>[]</td>\n",
       "      <td>NaN</td>\n",
       "      <td>2</td>\n",
       "    </tr>\n",
       "  </tbody>\n",
       "</table>\n",
       "</div>"
      ],
      "text/plain": [
       "         country   subregion          city           brand_name  categories  \\\n",
       "0  United States  California   Los Angeles  Luv2Eat Thai Bistro      [Thai]   \n",
       "1  United States  California  Sherman Oaks  Jerry's Famous Deli  [American]   \n",
       "\n",
       "    latitude   longitude          area  \\\n",
       "0  34.097510 -118.335921     Hollywood   \n",
       "1  34.154596 -118.448700  Sherman Oaks   \n",
       "\n",
       "                                             address  \\\n",
       "0  6660 W Sunset Blvd, Ste P, CA, Los Angeles, 90...   \n",
       "1                                               None   \n",
       "\n",
       "                                                menu  \\\n",
       "0  [{'name': 'Main Menu', 'sections': [{'name': '...   \n",
       "1  [{'name': 'Sample Menu', 'sections': [{'name':...   \n",
       "\n",
       "                                         description public_transit  \\\n",
       "0  Luv2Eat Thai Bistro is located in Los Angeles,...           None   \n",
       "1  <p>Feast on delicious grub at Jerry's Famous D...           None   \n",
       "\n",
       "  cross_street                restaurant_website    phone_number  \\\n",
       "0         None       http://www.luv2eatthai.com/  (323) 498-5835   \n",
       "1         None  http://www.jerrysfamousdeli.com/  (818) 905-5774   \n",
       "\n",
       "  primary_cuisine   dining_style executive_chef_name    parking_info  \\\n",
       "0            Thai  Casual Dining                None  Street Parking   \n",
       "1        American  Casual Dining                None            None   \n",
       "\n",
       "        dress_code entertainment  \\\n",
       "0     Casual Dress          None   \n",
       "1  Business Casual          None   \n",
       "\n",
       "                                     operating_hours  price_range_id  \\\n",
       "0  Lunch\\nDaily 11:00 am–3:30 pm\\nDinner\\nDaily 4...               2   \n",
       "1                                               None               2   \n",
       "\n",
       "     price_range                     payment_options  \\\n",
       "0  $30 and under  [AMEX, Discover, MasterCard, Visa]   \n",
       "1  $30 and under                                  []   \n",
       "\n",
       "   maximum_days_advance_for_reservation  rating  rating_count  \\\n",
       "0                                    90     4.6           136   \n",
       "1                                    90     0.0             0   \n",
       "\n",
       "                                   rating_by_feature rating_distribution  \\\n",
       "0  {'food': 4.7, 'noise': 2.0, 'value': 4.6, 'ser...  [2, 3, 4, 23, 104]   \n",
       "1  {'food': 0.0, 'noise': 0.0, 'value': 0.0, 'ser...     [0, 0, 0, 0, 0]   \n",
       "\n",
       "   review_count                      review_topics awards experiences  \\\n",
       "0            18  [Spicy, Casual, Neighborhood Gem]     []          []   \n",
       "1             0                                 []     []          []   \n",
       "\n",
       "                                                tags editorial_lists  \\\n",
       "0  [Delivery, Gluten-free Options, Late Night, No...              []   \n",
       "1                                                 []              []   \n",
       "\n",
       "                                           checklist  \\\n",
       "0  {'bar': False, 'counter': False, 'gifting': No...   \n",
       "1  {'bar': None, 'counter': None, 'gifting': None...   \n",
       "\n",
       "                                  safety_precautions order_online_link  \\\n",
       "0  {'cleanMenus': None, 'limitedSeating': None, '...              None   \n",
       "1  {'cleanMenus': None, 'limitedSeating': None, '...              None   \n",
       "\n",
       "                                     facebook  \\\n",
       "0  http://www.facebook.com/luv2eatthaibistro/   \n",
       "1                                        None   \n",
       "\n",
       "                                    menu_url popular_dishes  \\\n",
       "0  http://sappclub.com/restaurant.aspx?r=205             []   \n",
       "1                                       None             []   \n",
       "\n",
       "   daily_reservation_count  restaurant_id  \n",
       "0                      NaN              1  \n",
       "1                      NaN              2  "
      ]
     },
     "execution_count": 3,
     "metadata": {},
     "output_type": "execute_result"
    }
   ],
   "source": [
    "df[\"restaurant_id\"] = range(1, len(df) + 1)\n",
    "df.head(2)"
   ]
  },
  {
   "cell_type": "markdown",
   "id": "d66cc5e8-5cf8-4d26-80c5-f7254cdebfc7",
   "metadata": {},
   "source": [
    "### 2.1.2 Basic Exploration 🔎 [7 points]\n",
    "\n",
    "<img src=\"https://media.giphy.com/media/42wQXwITfQbDGKqUP7/giphy.gif\" height=\"200px\" width=\"200px\" alt=\"pokemon\">\n",
    "\n",
    "Take a look at the data and answer the following questions in markdown. You can include relevant code cells below to show how you explored the data, but do not include rough work / drafts / scratch work. \n",
    "\n",
    "1. **Describe the dataset**. \n",
    "    - You don't need to drop columns or rows for this question. \n",
    "    - You also don't need to provide a data dictionary. \n",
    "    - Explain in a paragraph or two on what the dataset is about, what each record indicates and note down some features that look interesting to you.\n",
    "    \n",
    "<br>\n",
    "\n",
    "2. **Craft 4 data-driven questions** rooted in your dataset description.\n",
    "    - A data-driven question is a tangible business or research question that can be addressed using data (considered as facts), as opposed to anecdotally or by guesswork. \n",
    "    - You can optionally use the framework of [Tripartitie questions for decision making](https://github.com/dotlas/codeventures/blob/main/CONTRIBUTING.md) to devise question classes. \n",
    "    - Your questions may be directly influenced by this dataset, or stem from a hypothetical union of this dataset with another publicly available dataset. For instance, \"By overlaying US census geographies onto the restaurant locations, what are the demographic compositions surrounding each eatery?\"\n",
    "    \n",
    "<br>\n",
    "    \n",
    "3. **Create a Business Scenario and Formulate 2 Use-Cases** based on one or more questions you formulated above.\n",
    "    - You may assume any audience or situation as you please, with the understanding that you'll adopt the role of a data analyst or data scientist. Use the examples provided below as inspiration for crafting your own unique scenario.\n",
    "        - As a data scientist at a food-delivery company that recently gained access to this restaurant data, the Lead Data Scientist seeks 2 use-cases for incorporating the data in ways that benefit the business side of the organization.\n",
    "        - As a quantitative analyst at a hedge fund aiming to reconcile various F&B companies' financial reports with their on-ground performance using restaurant data, your goal is to create a custom valuation of their stock prices.\n",
    "        - As a market research analyst, you're working to compile a list of potential leads to cold-call or email within the restaurant industry.\n",
    "    \n",
    "<br>\n",
    "\n",
    "\n",
    "4. Were you successful in locating your favorite restaurant within the dataset? If not, did you discover a similar establishment nearby?\n",
    "\n",
    "<br>\n",
    "\n",
    "> 📝 Your writing will be assessed based on clarity of communication, originality of questions, scenarios, and use-cases. The devised questions should be well-founded and not overly ambitious. Both questions and use-cases ought to demonstrate your problem-solving abilities, including the skill to identify issues initially and envision how they could be developed further down the line in subsequent sections.\n",
    "\n",
    "##### Answers: ✏️\n",
    "1. \n",
    "\n",
    "2. \n",
    "\n",
    "3. \n",
    "\n",
    "4. "
   ]
  },
  {
   "cell_type": "code",
   "execution_count": null,
   "id": "0a730825-0f6d-49fd-8803-8b3e81fcd752",
   "metadata": {},
   "outputs": [],
   "source": [
    "# ✏️ YOUR CODE HERE"
   ]
  },
  {
   "cell_type": "code",
   "execution_count": null,
   "id": "d054384f-ef66-4187-8229-16ef3ba0baa2",
   "metadata": {},
   "outputs": [],
   "source": []
  },
  {
   "cell_type": "markdown",
   "id": "50b95891-e9db-4b5a-9101-312d6d38f546",
   "metadata": {},
   "source": [
    "---"
   ]
  },
  {
   "cell_type": "markdown",
   "id": "2f50400e-a43c-45f6-9ddf-c6130b868daf",
   "metadata": {},
   "source": [
    "## Section 3: Exploratory Data Analysis & Preprocessing 🕵🏼‍♀️ [15 points]\n",
    "\n",
    "### 3.1 EDA 📊 [8 points]\n",
    "\n",
    "In this exercise, you will be conducting your own open-ended exploratory data analysis (EDA) and preprocessing of a dataset to gain insights and prepare the data for further analysis. The EDA will involve understanding the structure of the data, checking for missing values, outliers, and correlations, and identifying trends or patterns. Preprocessing will involve cleaning the data, transforming it into a suitable format, and handling missing values and outliers. These steps are crucial to ensure the quality and reliability of the data before applying statistical learning models. By conducting a thorough EDA and preprocessing, we can better understand the data and extract meaningful insights that will inform our decision-making.\n",
    "\n",
    "We know how much fun it is to create all sorts of funky visualizations and crunch numbers all day long. But let's not forget why we're doing this - we want to tell a story about our data! So, while it's great to have fun with your data, let's make sure we're doing it in a systematic and purposeful way. Each visualization and exploration should show progress in understanding the data better and contribute to telling the story of our data. So let's put on our exploration hats and approach every chart and graph with a clear question in mind. By doing this, we'll uncover exciting insights and tell an engaging story about our data that even your grandma will want to hear.\n",
    "\n",
    "> 📝 Your work will be assessed based on the quality of your visualizations, the funnels employed to transform data-driven questions into insights, and your interpretation of the generated results."
   ]
  },
  {
   "cell_type": "code",
   "execution_count": null,
   "id": "ccdd6359-335e-40c7-b704-d05f6b19c722",
   "metadata": {},
   "outputs": [],
   "source": []
  },
  {
   "cell_type": "markdown",
   "id": "b4dad088-c659-4a9a-bdda-9e09cbd375b7",
   "metadata": {},
   "source": [
    "### 3.2 Preprocessing & Data Engineering ⚙️ [5 points]"
   ]
  },
  {
   "cell_type": "markdown",
   "id": "0863a25f-f158-4d30-a139-753882c5b003",
   "metadata": {
    "tags": []
   },
   "source": [
    "#### 3.2.1 Basic Transformation Exercise 🚚 [2 Points]\n",
    "\n",
    "This section has 2 sub-questions which can help with preprocessing down the line.\n",
    "\n",
    "<img src=\"https://media.giphy.com/media/2f41Z7bhKGvbG/giphy.gif\" height=\"250px\" width=\"250px\" alt=\"harry potter\">"
   ]
  },
  {
   "cell_type": "markdown",
   "id": "f644ff7d-1611-4dd3-9141-b00fbf3b2721",
   "metadata": {},
   "source": [
    "##### 3.2.1.1 Safety Precautions 🦺\n",
    "\n",
    "Transform the entire safety precautions column into a new column based on the following rule:\n",
    "\n",
    "Convert from `dictionary` to `list`. Only include in the list, those keys in the dictionary which are `true`.\n",
    "For ex, for safety precautions of the type:\n",
    "\n",
    "```python\n",
    "{\n",
    "    'cleanMenus': True,\n",
    "    'limitedSeating': False,\n",
    "    'sealedUtensils': None,\n",
    "    'prohibitSickStaff': True,\n",
    "    'requireDinerMasks': True,\n",
    "    'staffIsVaccinated': None,\n",
    "    'proofOfVaccinationRequired': False,\n",
    "    'sanitizerProvidedForCustomers': None\n",
    "}\n",
    "```\n",
    "\n",
    "It should turn into a list of the form:\n",
    "\n",
    "```python\n",
    "[\"Clean Menus\", \"Prohibit Sick Staff\", \"Require Diner Masks\"]\n",
    "```\n"
   ]
  },
  {
   "cell_type": "code",
   "execution_count": 59,
   "id": "10ab564c-fa83-4a50-b885-650e4c76e6aa",
   "metadata": {},
   "outputs": [],
   "source": [
    "# ✏️ YOUR CODE HERE"
   ]
  },
  {
   "cell_type": "markdown",
   "id": "73ec2c87-72f6-4b8c-8350-d305674c2db0",
   "metadata": {},
   "source": [
    "##### 3.2.1.2 Clean up HTML text 🥜\n",
    "\n",
    "Find columns containing text / strings that have html text and remove those HTML texts\n",
    "\n",
    "ex:\n",
    "\n",
    "```html\n",
    "<p>\n",
    "  Feast on delicious grub at Jerry's Famous Deli.<br />\n",
    "  Its retro-style casual setting features comfortable booth seating.\n",
    "</p>\n",
    "```\n",
    "\n",
    "to:\n",
    "\n",
    "```\n",
    "Feast on delicious grub at Jerry's Famous Deli. Its retro-style casual setting features comfortable booth seating.\n",
    "```\n"
   ]
  },
  {
   "cell_type": "code",
   "execution_count": null,
   "id": "3b807861-41ac-42c6-9792-6e8783d76539",
   "metadata": {},
   "outputs": [],
   "source": [
    "# ✏️ YOUR CODE HERE"
   ]
  },
  {
   "cell_type": "markdown",
   "id": "0d908273-5649-4ca3-b83a-a0b8d65c5d38",
   "metadata": {},
   "source": [
    "#### 3.2.2 Drop and Clean 🖌 [3 points]\n",
    "\n",
    "During the exploratory data analysis phase, it is crucial to assess the relevance and utility of each feature within the dataset. Dropping certain features (columns) may become necessary if they are deemed irrelevant or uninformative for the problem at hand. This process often involves evaluating the level of missing data, the presence of duplicate information, or the overall impact of each feature on the analysis. Similarly, removing rows from the dataset may be essential based on factors such as the presence of outliers, incomplete or erroneous data, or other inconsistencies that could impede the analysis. The overarching objective of this exercise section is to refine the dataset, ultimately arriving at a final set of features that you deem is important for your specific research question or business goal. Once this selection is made, you can confidently commit to these features, ensuring a more robust and reliable foundation for subsequent data analysis and modeling tasks."
   ]
  },
  {
   "cell_type": "code",
   "execution_count": null,
   "id": "66a03e69-91cb-4fe4-a405-36ef1cf2408a",
   "metadata": {},
   "outputs": [],
   "source": [
    "# ✏️ YOUR CODE HERE"
   ]
  },
  {
   "cell_type": "markdown",
   "id": "ecb76263-094a-4ee6-842d-24da225eb72d",
   "metadata": {
    "tags": []
   },
   "source": [
    "### 3.3 Imputing Exercise 📈 (2 points)\n",
    "\n",
    "Fill up missing values for rating, rating count and review count by imputing based on the following columns in order:\n",
    "\n",
    "1. `brand_name`\n",
    "2. `area`\n",
    "3. `city`\n",
    "\n",
    "This means that if `rating` is missing for a restaurant (null / 0), but that restaurant is part of a brand where\n",
    "other restaurants of the same brand have ratings, then a median rating is taken. If brands are complete, then missing values are filled using\n",
    "area where the restaurant is located (median rating) and finally filled using the city's rating\n",
    "\n",
    "Here's an example:\n",
    "\n",
    "|restaurant_id\t|brand_name|\tarea|\tcity|\trating|\timputed_rating_brand | imputed_rating_area| imputed_rating_city\n",
    "| --- | --- | --- | --- | --- | --- | --- | --- |\n",
    "|1\t|X1|\tA1|\tB1|\t3|\t3| 3 | 3 |\n",
    "|2\t|X1|\tA1|\tB1|\t2|\t2| 2 | 2 |\n",
    "|3\t|X1|\tA1|\tB1|\t| 2.5| 2.5 | 2.5 |\n",
    "|4\t|X2|\tA1|\tB1|\t4|\t4 | 4 | 4 |\n",
    "|5\t|X3|\tA1|\tB1|\t|\t | 2.75 | 2.75 |\n",
    "|6\t|X4|\tA4|\tB2|\t|\t | | 3 |\n",
    "|7\t|X5|\tA6|\tB2|\t2|\t 2| 2| 2|\n",
    "|8\t|X6|\tA7|\tB2|\t4|\t 4| 4| 4 |\n"
   ]
  },
  {
   "cell_type": "code",
   "execution_count": null,
   "id": "93ac70d9-6b5a-482e-9c49-92556ed0b704",
   "metadata": {},
   "outputs": [],
   "source": [
    "# ✏️ YOUR CODE HERE"
   ]
  },
  {
   "cell_type": "markdown",
   "id": "fa10902b-e795-4da2-91f8-ebd98bb73623",
   "metadata": {},
   "source": [
    "---"
   ]
  },
  {
   "cell_type": "markdown",
   "id": "7db2f258-d3e1-4759-bb1f-2327f1bc3a1e",
   "metadata": {},
   "source": [
    "Remember to hydrate and \n",
    "\n",
    "[![Spotify](https://img.shields.io/badge/Spotify-1ED760?style=for-the-badge&logo=spotify&logoColor=white)](https://open.spotify.com/playlist/3d4bU6GAelt3YL2L1X2SOn)\n",
    "\n",
    "---"
   ]
  },
  {
   "cell_type": "markdown",
   "id": "ccbc10eb",
   "metadata": {},
   "source": [
    "## Section 4: Non-Trivial Transformations Exercise 🤺 [17 points]\n",
    "\n",
    "<img src=\"https://media.giphy.com/media/hbd8nlok7kqnS/giphy.gif\" height=\"250px\" width=\"250px\" alt=\"simpsons\">"
   ]
  },
  {
   "cell_type": "markdown",
   "id": "8472e53d-b62e-4bb5-954c-b878d295b6af",
   "metadata": {},
   "source": [
    "### 4.1 Transform Operating Hours 🕰️ [6 points]\n",
    "\n",
    "Create an operating hours [bitmap](https://en.wikipedia.org/wiki/Bit_array) column from the operating hours text column for all restaurants. The bitmap would be a matrix of size 24 x 7 where a 1 or 0 on each cell indicates whether the restaurant is operating on a specific day at a specific hour\n",
    "\n",
    "Example: For operating hours text of the form:\n",
    "\n",
    "```tex\n",
    "Lunch\n",
    "Daily 11:00 am–3:30 pm\n",
    "Dinner\n",
    "Daily 4:30 pm–11:30 pm\n",
    "```\n",
    "\n",
    "Create a bitmap of the following form:\n",
    "\n",
    "```json\n",
    "{\n",
    "    \"Monday\" : [0,0,0,0,0,0,0,0,0,0,0,1,1,1,1,1,0,1,1,1,1,1,1,1],\n",
    "    \"Tuesday\" : [0,0,0,0,0,0,0,0,0,0,0,1,1,1,1,1,0,1,1,1,1,1,1,1],\n",
    "    .\n",
    "    .\n",
    "    .\n",
    "    \"Sunday\" : [0,0,0,0,0,0,0,0,0,0,0,1,1,1,1,1,0,1,1,1,1,1,1,1],\n",
    "\n",
    "}\n",
    "```\n"
   ]
  },
  {
   "cell_type": "code",
   "execution_count": null,
   "id": "5138cd99-9cc4-4b67-8f37-3a3efe29853a",
   "metadata": {},
   "outputs": [],
   "source": [
    "# ✏️ YOUR CODE HERE"
   ]
  },
  {
   "cell_type": "markdown",
   "id": "4a5c110b-691b-4559-b82b-9b0ae02ec27b",
   "metadata": {},
   "source": [
    "### 4.2 On my radar 🗺️ [4 points]\n",
    "\n",
    "For the following restaurant:\n",
    "\n",
    "- brand_name `Calzone's Pizza Cucina`\n",
    "- coordinates `37.799068, -122.408226`.\n",
    "\n",
    "Answer these questions:\n",
    "\n",
    "- How many restaurants exist within a 100 meter radius of this restaurant?\n",
    "- What is the most frequent cuisine (`category`) occurence in this 100m radius across the restaurants that exist in that range?"
   ]
  },
  {
   "cell_type": "code",
   "execution_count": null,
   "id": "15707fe2-64b4-4eb0-bc61-a524372f0cf1",
   "metadata": {},
   "outputs": [],
   "source": [
    "# ✏️ YOUR CODE HERE"
   ]
  },
  {
   "cell_type": "markdown",
   "id": "58a351f2-1975-4c02-a7dd-bc1ee4b60ab7",
   "metadata": {
    "tags": []
   },
   "source": [
    "### 4.3 Menu-Level Table 🧾 [7 points]\n",
    "\n",
    "<img src=\"https://media.giphy.com/media/qpLuA97QGOsnK/giphy.gif\" height=\"250px\" width=\"250px\" alt=\"ratatouille\">\n",
    "\n",
    "**Create a menu-level table by parsing out menu items from the `menu` column per restaurant.**\n",
    "\n",
    "Every restaurant has a `menu` column that contains deeply nested JSON data on the restaurant's menu. The hierarchy is as follows: \n",
    "\n",
    "* One restaurant can have multiple menus (morning menu, evening menu, etc.)\n",
    "    * Each menu can have a description and provider\n",
    "* Each restaurant menu can have multiple sections (such as Appetizers, Desserts, etc.)\n",
    "    * Each section has a description\n",
    "* Each section can have multiple menu items (such as Latte, Apple Pie, Carrot Halwa, etc.)\n",
    "    * Each menu item has a price, currency and description\n",
    "\n",
    "You need to parse out the menu data from the JSON in the `menu` column for each restaurant and have a restaurants x menu table as shown below. \n",
    "\n",
    "| restaurant_id | menu_name | menu_description | menu_provider | section_name | section_description | item_name          | item_description                                                                                                      | item_price | item_price_currency |\n",
    "| ------------: | :-------- | :--------------- | ------------: | :----------- | :------------------ | :----------------- | :-------------------------------------------------------------------------------------------------------------------- | ---------: | :------------------ |\n",
    "|             1 | Main Menu |                  |           nan | Appetizers   |                     | Egg Rolls          | Deep fried mixed veggie egg rolls served with sweet & sour sauce                                                      |          8 | USD                 |\n",
    "|             1 | Main Menu |                  |           nan | Appetizers   |                     | Fried Tofu         | (Contains Peanut) Deep fried tofu, served with sweet & sour sauce and crushed peanut                                  |          8 | USD                 |\n",
    "|             1 | Main Menu |                  |           nan | Appetizers   |                     | Fried Meat Balls   | Deep fried fish, pork, beef balls or mixed served with sweet & sour sauce. Meat: Beef $1, Fish, Mixed Meat ball, Pork |        8.5 | USD                 |\n",
    "|             1 | Main Menu |                  |           nan | Appetizers   |                     | Pork Jerky         | Deep fried marinated pork served with special jaew sauce                                                              |        8.5 | USD                 |\n",
    "|             1 | Main Menu |                  |           nan | Appetizers   |                     | Thai Isaan Sausage | (Contains Peanut) Thai Style sausage served with fresh vegetables and peanuts                                         |          9 | USD                 |\n"
   ]
  },
  {
   "cell_type": "code",
   "execution_count": null,
   "id": "44ea9322-1a1c-4c77-a661-ea8176c5f07d",
   "metadata": {},
   "outputs": [],
   "source": [
    "# ✏️ YOUR CODE HERE"
   ]
  },
  {
   "cell_type": "markdown",
   "id": "06a310de-3c42-43ad-a5d8-7aebe4b715e7",
   "metadata": {},
   "source": [
    "---"
   ]
  },
  {
   "cell_type": "markdown",
   "id": "b1415f5d-2c5e-4cd6-a59a-9a6bb9d04771",
   "metadata": {
    "tags": []
   },
   "source": [
    "## Section 5: Analytical Questions ⚗️ [10 points]\n",
    "\n",
    "**Answer ONLY ONE of the Questions using the Data, i.e, choose between `3.1.1`, `3.1.2` or `3.1.3`**\n",
    "\n",
    "<img src=\"https://media.giphy.com/media/3o7TKVSE5isogWqnwk/giphy.gif\" height=\"250px\" width=\"250px\" alt=\"sherlock holmes\">\n",
    "\n",
    "> Note that the analytical questions may sometimes require converting categorical type columns that are lists or strings into numeric columns. For ex. \"Casual Dining\", \"Fine Dining\"..etc. would require you to generate a categorical encoding of 1,2..etc. For columns that contain lists like `categories`, which contain cuisine tags, a one-hot or multi-hot encoding technique may be required based on the situation. A numeric categorical encoding is required for these string or list based columns since pandas cannot (usually) automatically generate correlations or clusters based on text-based categories\n"
   ]
  },
  {
   "cell_type": "markdown",
   "id": "7ea37141-d478-4b97-879e-48ead1c08ba0",
   "metadata": {},
   "source": [
    "### 5.1 Take me out for dinner 🕯️\n",
    "\n",
    "Which areas according to you have the best restaurants in California and why? You can define best based on whatever criteria you wish as long as it involves measuring more than a single column. For ex. You cannot merely claim that the restaurant with the highest rating is the best restaurant.\n"
   ]
  },
  {
   "cell_type": "code",
   "execution_count": 1,
   "id": "cd7bb2ec-cf0b-474c-8e22-ec25751f483c",
   "metadata": {},
   "outputs": [],
   "source": [
    "# ✏️ YOUR CODE HERE"
   ]
  },
  {
   "cell_type": "markdown",
   "id": "6fc6b3a5-e173-4720-8a80-216a7bf14e4f",
   "metadata": {},
   "source": [
    "### 5.2 Michelin Approves 🎖️\n",
    "\n",
    "Which columns seem to play / not play a major factor in whether or not the restaurant has an award? Justify your options\n"
   ]
  },
  {
   "cell_type": "code",
   "execution_count": 33,
   "id": "ce8dd39a-ca91-43e2-bfd5-23cf96701efc",
   "metadata": {},
   "outputs": [
    {
     "data": {
      "text/html": [
       "<div>\n",
       "<style scoped>\n",
       "    .dataframe tbody tr th:only-of-type {\n",
       "        vertical-align: middle;\n",
       "    }\n",
       "\n",
       "    .dataframe tbody tr th {\n",
       "        vertical-align: top;\n",
       "    }\n",
       "\n",
       "    .dataframe thead th {\n",
       "        text-align: right;\n",
       "    }\n",
       "</style>\n",
       "<table border=\"1\" class=\"dataframe\">\n",
       "  <thead>\n",
       "    <tr style=\"text-align: right;\">\n",
       "      <th></th>\n",
       "      <th>Most Booked</th>\n",
       "      <th>Best Ambiance</th>\n",
       "      <th>Best Food</th>\n",
       "      <th>Best Overall</th>\n",
       "      <th>Best Service</th>\n",
       "      <th>Best Value</th>\n",
       "      <th>Special Occasion</th>\n",
       "      <th>Romantic</th>\n",
       "      <th>Fit for Foodies</th>\n",
       "      <th>Vibrant Bar Scene</th>\n",
       "    </tr>\n",
       "  </thead>\n",
       "  <tbody>\n",
       "    <tr>\n",
       "      <th>award_count</th>\n",
       "      <td>414</td>\n",
       "      <td>404</td>\n",
       "      <td>402</td>\n",
       "      <td>402</td>\n",
       "      <td>401</td>\n",
       "      <td>400</td>\n",
       "      <td>398</td>\n",
       "      <td>393</td>\n",
       "      <td>391</td>\n",
       "      <td>389</td>\n",
       "    </tr>\n",
       "  </tbody>\n",
       "</table>\n",
       "</div>"
      ],
      "text/plain": [
       "             Most Booked  Best Ambiance  Best Food  Best Overall  \\\n",
       "award_count          414            404        402           402   \n",
       "\n",
       "             Best Service  Best Value  Special Occasion  Romantic  \\\n",
       "award_count           401         400               398       393   \n",
       "\n",
       "             Fit for Foodies  Vibrant Bar Scene  \n",
       "award_count              391                389  "
      ]
     },
     "execution_count": 33,
     "metadata": {},
     "output_type": "execute_result"
    }
   ],
   "source": [
    "# simple dataframe to look at distribution of awards across california by most awarded titles\n",
    "awards_df: pd.DataFrame = pd.json_normalize(df[\"awards\"].dropna().explode()).rename(\n",
    "    columns={\"name\": \"award_name\", \"location\": \"award_location\"}\n",
    ")\n",
    "awards_df[\"award_name\"].value_counts().to_frame().head(10).rename(\n",
    "    columns={\"award_name\": \"award_count\"}\n",
    ").transpose()"
   ]
  },
  {
   "cell_type": "code",
   "execution_count": null,
   "id": "7910b3c6-88b2-41e3-9d68-a9c669e7ebd0",
   "metadata": {},
   "outputs": [],
   "source": [
    "# ✏️ YOUR CODE HERE"
   ]
  },
  {
   "cell_type": "markdown",
   "id": "54f74bcd",
   "metadata": {},
   "source": [
    "---\n",
    "\n",
    "Good job!\n",
    "\n",
    "<img src=\"https://media.giphy.com/media/qLhxN7Rp3PI8E/giphy.gif\" height=\"250px\" width=\"250px\" alt=\"legend of zelda\">"
   ]
  },
  {
   "cell_type": "code",
   "execution_count": null,
   "id": "04959372-0692-4aea-881c-079d2636614b",
   "metadata": {},
   "outputs": [],
   "source": []
  }
 ],
 "metadata": {
  "kernelspec": {
   "display_name": "ffpl",
   "language": "python",
   "name": "ffpl"
  },
  "language_info": {
   "codemirror_mode": {
    "name": "ipython",
    "version": 3
   },
   "file_extension": ".py",
   "mimetype": "text/x-python",
   "name": "python",
   "nbconvert_exporter": "python",
   "pygments_lexer": "ipython3",
   "version": "3.9.16"
  },
  "toc-showtags": false,
  "vscode": {
   "interpreter": {
    "hash": "5a95100a7d3b4e320db1551c68e327e796fcc58a9206dc42c48870a93129471d"
   }
  }
 },
 "nbformat": 4,
 "nbformat_minor": 5
}
