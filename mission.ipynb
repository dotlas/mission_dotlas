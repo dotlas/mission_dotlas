{
 "cells": [
  {
   "attachments": {},
   "cell_type": "markdown",
   "id": "2d89e461-02f4-432a-b1de-6cfb56850426",
   "metadata": {
    "tags": []
   },
   "source": [
    "# Mission Dotlas 🌎 [111 points]\n",
    "\n",
    "> `v2.0` Updated: April 18 2023 (Spring + Summer 2023 Version)\n",
    "\n",
    "![Dotlas](https://camo.githubusercontent.com/6a3a3a9e55ce6b5c4305badbdc68c0d5f11b360b11e3fa7b93c822d637166090/68747470733a2f2f646f746c61732d776562736974652e73332e65752d776573742d312e616d617a6f6e6177732e636f6d2f696d616765732f6769746875622f62616e6e65722e706e67)\n",
    "\n",
    "## Section 1: Project Overview ✉️\n",
    "\n",
    "Welcome to your mission! In this notebook, you will download a dataset containing restaurants' information in the state of California, US. The dataset will then be transformed, processed and prepared in a required format. This clean dataset will then be used to answer some analytical questions and create a few data visualizations in Python.\n",
    "\n",
    "This is a template notebook that has some code already filled-in to help you on your way. There are also cells that require you to fill in the python code to solve specific problems. There are sections of the notebook that contain a points tally for code written. \n",
    "\n",
    "**Each section of this notebook is largely independent, so if you get stuck on a problem you can always move on to the next one.**"
   ]
  },
  {
   "cell_type": "markdown",
   "id": "ba460626-7d60-4959-b7bb-4609817482d6",
   "metadata": {},
   "source": [
    "### 1.1 Tools & Technologies 🪛\n",
    "\n",
    "- This exercise will be carried out using the [Python](https://www.python.org/) programming language and will rely hevily on the [Pandas](https://pandas.pydata.org/) library for data manipulation.\n",
    "- You may use any of [Matplotlib](https://matplotlib.org/), [Seaborn](https://seaborn.pydata.org/) or [Plotly](https://plotly.com/python/) packages for data visualization.\n",
    "- We will be using [Jupyter notebooks](https://jupyter.org/) to run Python code in order to view and interact better with our data and visualizations.\n",
    "- You are free to use [Google Colab](https://colab.research.google.com/) which provides an easy-to-use Jupyter interface.\n",
    "- When not in Colab, it is recommended to run this Jupyter Notebook within an [Anaconda](https://continuum.io/) environment\n",
    "- You can use any other Python packages that you deem fit for this project.\n",
    "\n",
    "> ⚠ **Ensure that your Python version is 3.9 or higher**\n",
    "\n",
    "![](https://upload.wikimedia.org/wikipedia/commons/1/1b/Blue_Python_3.9_Shield_Badge.svg)\n",
    "\n",
    "**Language**\n",
    "\n",
    "![Python](https://img.shields.io/badge/python-3670A0?style=for-the-badge&logo=python&logoColor=ffdd54)\n",
    "\n",
    "**Environments & Packages**\n",
    "\n",
    "![Anaconda](https://img.shields.io/badge/Anaconda-%2344A833.svg?style=for-the-badge&logo=anaconda&logoColor=white)\n",
    "![Jupyter Notebook](https://img.shields.io/badge/jupyter-%23FA0F00.svg?style=for-the-badge&logo=jupyter&logoColor=white)\n",
    "![Pandas](https://img.shields.io/badge/pandas-%23150458.svg?style=for-the-badge&logo=pandas&logoColor=white)\n",
    "![Matplotlib](https://img.shields.io/badge/Matplotlib-%23ffffff.svg?style=for-the-badge&logo=Matplotlib&logoColor=black)\n",
    "![Plotly](https://img.shields.io/badge/Plotly-%233F4F75.svg?style=for-the-badge&logo=plotly&logoColor=white)\n",
    "\n",
    "**Data Store**\n",
    "\n",
    "![AWS](https://img.shields.io/badge/AWS-%23FF9900.svg?style=for-the-badge&logo=amazon-aws&logoColor=white)\n",
    "\n",
    "---"
   ]
  },
  {
   "attachments": {},
   "cell_type": "markdown",
   "id": "383edc6e-9462-4b0b-b1aa-ca33055b38e3",
   "metadata": {},
   "source": [
    "## Section 2: Data Overview 🔍 [6 points]\n",
    "\n",
    "### 2.1 Read California Dataset 🚰 [1 point]\n",
    "\n",
    "In this section, we will load the dataset from [AWS](https://googlethatforyou.com?q=amazon%20web%20services) S3, conduct an exploratory data analysis and then clean up the dataset\n",
    "\n",
    "\n",
    "- Ensure that pandas and plotly are installed (possibly via pip or poetry)\n",
    "- The dataset is about 300 MB in size and time-to-download depends on internet speed and availability\n",
    "- Download the dataset using Python into this notebook and load it into a pandas dataframe (without writing to file)\n"
   ]
  },
  {
   "cell_type": "code",
   "execution_count": null,
   "id": "ed554fdc-0de7-4cd4-8e93-725038033590",
   "metadata": {},
   "outputs": [],
   "source": [
    "from matplotlib import pyplot as plt\n",
    "%matplotlib inline\n",
    "\n",
    "import pandas as pd\n",
    "import plotly.express as px\n",
    "import numpy as np\n",
    "\n",
    "CELL_HEIGHT: int = 50\n",
    "\n",
    "# Initialize helpers to ignore pandas warnings and resize columns and cells\n",
    "pd.set_option(\"chained_assignment\", None)\n",
    "pd.set_option(\"display.max_rows\", 50)\n",
    "pd.set_option(\"display.max_columns\", 500)\n",
    "pd.set_option('display.max_colwidth', CELL_HEIGHT)\n",
    "\n",
    "DATA_URL: str = \"https://dotlas-marketing.s3.amazonaws.com/interviews/california_restaurants.json\""
   ]
  },
  {
   "cell_type": "code",
   "execution_count": null,
   "id": "0e60d6b3-cea6-4a12-b85d-15748a6be4ea",
   "metadata": {},
   "outputs": [
    {
     "name": "stdout",
     "output_type": "stream",
     "text": [
      "CPU times: user 12.6 s, sys: 2.05 s, total: 14.7 s\n",
      "Wall time: 21.3 s\n"
     ]
    }
   ],
   "source": [
    "%%time\n",
    "# ✏️ YOUR CODE HERE\n",
    "# df: pd.DataFrame = ?"
   ]
  },
  {
   "attachments": {},
   "cell_type": "markdown",
   "id": "521e6f26-8256-4f7b-b662-4580448d07a0",
   "metadata": {},
   "source": [
    "This section creates a restaurant ID column to uniquely index each restaurant.\n",
    "<br>\n",
    "Leave the below cell as is and just run it to ensure it creates the id."
   ]
  },
  {
   "cell_type": "code",
   "execution_count": 1,
   "id": "d2eb6ee1-51cb-4c01-8bee-9bb87ff6c7bb",
   "metadata": {},
   "outputs": [
    {
     "ename": "NameError",
     "evalue": "name 'df' is not defined",
     "output_type": "error",
     "traceback": [
      "\u001b[1;31m---------------------------------------------------------------------------\u001b[0m",
      "\u001b[1;31mNameError\u001b[0m                                 Traceback (most recent call last)",
      "\u001b[1;32mc:\\Users\\nunoa\\OneDrive\\Documents\\GitHub\\mission_dotlas\\mission.ipynb Cell 7\u001b[0m in \u001b[0;36m<cell line: 1>\u001b[1;34m()\u001b[0m\n\u001b[1;32m----> <a href='vscode-notebook-cell:/c%3A/Users/nunoa/OneDrive/Documents/GitHub/mission_dotlas/mission.ipynb#W6sZmlsZQ%3D%3D?line=0'>1</a>\u001b[0m df[\u001b[39m\"\u001b[39m\u001b[39mrestaurant_id\u001b[39m\u001b[39m\"\u001b[39m] \u001b[39m=\u001b[39m \u001b[39mrange\u001b[39m(\u001b[39m1\u001b[39m, \u001b[39mlen\u001b[39m(df) \u001b[39m+\u001b[39m \u001b[39m1\u001b[39m)\n",
      "\u001b[1;31mNameError\u001b[0m: name 'df' is not defined"
     ]
    }
   ],
   "source": [
    "df[\"restaurant_id\"] = range(1, len(df) + 1)"
   ]
  },
  {
   "attachments": {},
   "cell_type": "markdown",
   "id": "9c824004",
   "metadata": {},
   "source": [
    "### 2.2 Data Overview 🌍 [5 points]\n",
    "Inspect the data to understand what you are dealing with, including summary statistics as well as its structure and identify potential issues that need fixing."
   ]
  },
  {
   "cell_type": "code",
   "execution_count": null,
   "id": "1a103698",
   "metadata": {},
   "outputs": [],
   "source": [
    "# ✏️ YOUR CODE HERE"
   ]
  },
  {
   "cell_type": "markdown",
   "id": "50b95891-e9db-4b5a-9101-312d6d38f546",
   "metadata": {},
   "source": [
    "---"
   ]
  },
  {
   "attachments": {},
   "cell_type": "markdown",
   "id": "2f50400e-a43c-45f6-9ddf-c6130b868daf",
   "metadata": {},
   "source": [
    "## Section 3: Data Preprocessing 🕵🏼‍♀️ [25 points]\n",
    "\n",
    "In this exercise, you will be preprocessing the data. It will involve cleaning the data, transforming it into a suitable format, and handling missing values and outliers. These steps are crucial to ensure the quality and reliability of the data before applying statistical learning models."
   ]
  },
  {
   "attachments": {},
   "cell_type": "markdown",
   "id": "f6590a45",
   "metadata": {},
   "source": [
    "#### 3.1 Missing Values ❓ [5 Points]\n",
    "\n",
    "Identify and handle missing values in the dataset. If a value is missing, decide whether to fill it in with an appropriate default value, remove the row, or simply let it be."
   ]
  },
  {
   "cell_type": "code",
   "execution_count": 5,
   "id": "1883c806",
   "metadata": {},
   "outputs": [],
   "source": [
    "# ✏️ YOUR CODE HERE"
   ]
  },
  {
   "attachments": {},
   "cell_type": "markdown",
   "id": "2610382a",
   "metadata": {},
   "source": [
    "#### 3.2 Phoning it in 📞 [5 Points]\n",
    "\n",
    "Standardize the format of the ```'phone_number'``` column by removing any non-numeric characters and ensuring that all phone numbers have the same length."
   ]
  },
  {
   "cell_type": "code",
   "execution_count": null,
   "id": "6e791119",
   "metadata": {},
   "outputs": [],
   "source": [
    "# ✏️ YOUR CODE HERE"
   ]
  },
  {
   "attachments": {},
   "cell_type": "markdown",
   "id": "e8362ccc",
   "metadata": {},
   "source": [
    "#### 3.3 No more HTML 📄 [5 Points]\n",
    "Find columns containing HTML tags and replace them with an appropriate plain text equivalent, such as a newline character or space.\n",
    "\n",
    "ex:\n",
    "\n",
    "```html\n",
    "<p>\n",
    "  Feast on delicious grub at Jerry's Famous Deli.<br />\n",
    "  Its retro-style casual setting features comfortable booth seating.\n",
    "</p>\n",
    "```\n",
    "\n",
    "to:\n",
    "\n",
    "```\n",
    "Feast on delicious grub at Jerry's Famous Deli. Its retro-style casual setting features comfortable booth seating.\n",
    "```"
   ]
  },
  {
   "cell_type": "code",
   "execution_count": null,
   "id": "00171c7d",
   "metadata": {},
   "outputs": [],
   "source": [
    "# ✏️ YOUR CODE HERE"
   ]
  },
  {
   "attachments": {},
   "cell_type": "markdown",
   "id": "f644ff7d-1611-4dd3-9141-b00fbf3b2721",
   "metadata": {},
   "source": [
    "##### 3.4 Safety Precautions 🦺 [5 Points]\n",
    "\n",
    "Transform the entire safety precautions column into a new column based on the following rule:\n",
    "\n",
    "Convert from `dictionary` to `list`. Only include in the list, those keys in the dictionary which are `true`.\n",
    "For ex, for safety precautions of the type:\n",
    "\n",
    "```python\n",
    "{\n",
    "    'cleanMenus': True,\n",
    "    'limitedSeating': False,\n",
    "    'sealedUtensils': None,\n",
    "    'prohibitSickStaff': True,\n",
    "    'requireDinerMasks': True,\n",
    "    'staffIsVaccinated': None,\n",
    "    'proofOfVaccinationRequired': False,\n",
    "    'sanitizerProvidedForCustomers': None\n",
    "}\n",
    "```\n",
    "\n",
    "It should turn into a list of the form:\n",
    "\n",
    "```python\n",
    "[\"Clean Menus\", \"Prohibit Sick Staff\", \"Require Diner Masks\"]\n",
    "```\n"
   ]
  },
  {
   "cell_type": "code",
   "execution_count": null,
   "id": "8fbac5f6",
   "metadata": {},
   "outputs": [],
   "source": [
    "# ✏️ YOUR CODE HERE"
   ]
  },
  {
   "attachments": {},
   "cell_type": "markdown",
   "id": "ecb76263-094a-4ee6-842d-24da225eb72d",
   "metadata": {
    "tags": []
   },
   "source": [
    "#### 3.5 Imputing Exercise 📈 [5 Points]\n",
    "\n",
    "Fill up missing values for rating, rating count and review count by imputing based on the following columns in order:\n",
    "\n",
    "1. `brand_name`\n",
    "2. `area`\n",
    "3. `city`\n",
    "\n",
    "This means that if `rating` is missing for a restaurant (null / 0), but that restaurant is part of a brand where\n",
    "other restaurants of the same brand have ratings, then a median rating is taken. If brands are complete, then missing values are filled using\n",
    "area where the restaurant is located (median rating) and finally filled using the city's rating\n",
    "\n",
    "Here's an example:\n",
    "\n",
    "|restaurant_id\t|brand_name|\tarea|\tcity|\trating|\timputed_rating_brand | imputed_rating_area| imputed_rating_city\n",
    "| --- | --- | --- | --- | --- | --- | --- | --- |\n",
    "|1\t|X1|\tA1|\tB1|\t3|\t3| 3 | 3 |\n",
    "|2\t|X1|\tA1|\tB1|\t2|\t2| 2 | 2 |\n",
    "|3\t|X1|\tA1|\tB1|\t| 2.5| 2.5 | 2.5 |\n",
    "|4\t|X2|\tA1|\tB1|\t4|\t4 | 4 | 4 |\n",
    "|5\t|X3|\tA1|\tB1|\t|\t | 2.75 | 2.75 |\n",
    "|6\t|X4|\tA4|\tB2|\t|\t | | 3 |\n",
    "|7\t|X5|\tA6|\tB2|\t2|\t 2| 2| 2|\n",
    "|8\t|X6|\tA7|\tB2|\t4|\t 4| 4| 4 |\n"
   ]
  },
  {
   "cell_type": "code",
   "execution_count": null,
   "id": "66a03e69-91cb-4fe4-a405-36ef1cf2408a",
   "metadata": {},
   "outputs": [],
   "source": [
    "# ✏️ YOUR CODE HERE"
   ]
  },
  {
   "cell_type": "markdown",
   "id": "fa10902b-e795-4da2-91f8-ebd98bb73623",
   "metadata": {},
   "source": [
    "---"
   ]
  },
  {
   "cell_type": "markdown",
   "id": "7db2f258-d3e1-4759-bb1f-2327f1bc3a1e",
   "metadata": {},
   "source": [
    "Remember to hydrate and \n",
    "\n",
    "[![Spotify](https://img.shields.io/badge/Spotify-1ED760?style=for-the-badge&logo=spotify&logoColor=white)](https://open.spotify.com/playlist/3d4bU6GAelt3YL2L1X2SOn)\n",
    "\n",
    "---"
   ]
  },
  {
   "attachments": {},
   "cell_type": "markdown",
   "id": "db48f5fc",
   "metadata": {},
   "source": [
    "## Section 4: Non-Trivial Transformations Exercise 🤺 [20 points]\n",
    "\n",
    "<img src=\"https://media.giphy.com/media/hbd8nlok7kqnS/giphy.gif\" height=\"250px\" width=\"250px\" alt=\"simpsons\">"
   ]
  },
  {
   "attachments": {},
   "cell_type": "markdown",
   "id": "58a351f2-1975-4c02-a7dd-bc1ee4b60ab7",
   "metadata": {
    "tags": []
   },
   "source": [
    "### 4.1 Menu-Level Table 🧾 [20 points]\n",
    "\n",
    "<img src=\"https://media.giphy.com/media/qpLuA97QGOsnK/giphy.gif\" height=\"250px\" width=\"250px\" alt=\"ratatouille\">\n",
    "\n",
    "**Create a menu-level table by parsing out menu items from the `menu` column per restaurant.**\n",
    "\n",
    "Every restaurant has a `menu` column that contains deeply nested JSON data on the restaurant's menu. The hierarchy is as follows: \n",
    "\n",
    "* One restaurant can have multiple menus (morning menu, evening menu, etc.)\n",
    "    * Each menu can have a description and provider\n",
    "* Each restaurant menu can have multiple sections (such as Appetizers, Desserts, etc.)\n",
    "    * Each section has a description\n",
    "* Each section can have multiple menu items (such as Latte, Apple Pie, Carrot Halwa, etc.)\n",
    "    * Each menu item has a price, currency and description\n",
    "\n",
    "You need to parse out the menu data from the JSON in the `menu` column for each restaurant and have a restaurants x menu table as shown below. \n",
    "\n",
    "| restaurant_id | menu_name | menu_description | menu_provider | section_name | section_description | item_name          | item_description                                                                                                      | item_price | item_price_currency |\n",
    "| ------------: | :-------- | :--------------- | ------------: | :----------- | :------------------ | :----------------- | :-------------------------------------------------------------------------------------------------------------------- | ---------: | :------------------ |\n",
    "|             1 | Main Menu |                  |           nan | Appetizers   |                     | Egg Rolls          | Deep fried mixed veggie egg rolls served with sweet & sour sauce                                                      |          8 | USD                 |\n",
    "|             1 | Main Menu |                  |           nan | Appetizers   |                     | Fried Tofu         | (Contains Peanut) Deep fried tofu, served with sweet & sour sauce and crushed peanut                                  |          8 | USD                 |\n",
    "|             1 | Main Menu |                  |           nan | Appetizers   |                     | Fried Meat Balls   | Deep fried fish, pork, beef balls or mixed served with sweet & sour sauce. Meat: Beef $1, Fish, Mixed Meat ball, Pork |        8.5 | USD                 |\n",
    "|             1 | Main Menu |                  |           nan | Appetizers   |                     | Pork Jerky         | Deep fried marinated pork served with special jaew sauce                                                              |        8.5 | USD                 |\n",
    "|             1 | Main Menu |                  |           nan | Appetizers   |                     | Thai Isaan Sausage | (Contains Peanut) Thai Style sausage served with fresh vegetables and peanuts                                         |          9 | USD                 |\n"
   ]
  },
  {
   "cell_type": "code",
   "execution_count": null,
   "id": "44ea9322-1a1c-4c77-a661-ea8176c5f07d",
   "metadata": {},
   "outputs": [],
   "source": [
    "# ✏️ YOUR CODE HERE"
   ]
  },
  {
   "cell_type": "markdown",
   "id": "06a310de-3c42-43ad-a5d8-7aebe4b715e7",
   "metadata": {},
   "source": [
    "---"
   ]
  },
  {
   "attachments": {},
   "cell_type": "markdown",
   "id": "5ddd90d0",
   "metadata": {},
   "source": [
    "## Section 5: Exploratory Data Analysis 🕵🏼‍♀️ [30 points]\n",
    "\n",
    "In this exercise, you will be conducting your own open-ended exploratory data analysis (EDA) of the dataset to gain insights and prepare the data for further analysis. The EDA will involve understanding the structure of the data, checking for missing values, outliers, and correlations, and identifying trends or patterns. \n",
    "\n",
    "We know how much fun it is to create all sorts of funky visualizations and crunch numbers all day long. But let's not forget why we're doing this - we want to tell a story about our data! So, while it's great to have fun with your data, let's make sure we're doing it in a systematic and purposeful way. Each visualization and exploration should show progress in understanding the data better and contribute to telling the story of our data. So let's put on our exploration hats and approach every chart and graph with a clear question in mind. By doing this, we'll uncover exciting insights and tell an engaging story about our data that even your grandma will want to hear.\n",
    "\n",
    "> 📝 Your work will be assessed based on the quality of your visualizations, the funnels employed to transform data-driven questions into insights, and your interpretation of the generated results."
   ]
  },
  {
   "cell_type": "code",
   "execution_count": null,
   "id": "96473606",
   "metadata": {},
   "outputs": [],
   "source": [
    "# ✏️ YOUR CODE HERE"
   ]
  },
  {
   "cell_type": "markdown",
   "id": "2bac859f",
   "metadata": {},
   "source": [
    "---"
   ]
  },
  {
   "attachments": {},
   "cell_type": "markdown",
   "id": "b1415f5d-2c5e-4cd6-a59a-9a6bb9d04771",
   "metadata": {
    "tags": []
   },
   "source": [
    "## Section 6: Analytical Questions ⚗️ [30 points]\n",
    "\n",
    "Answer **ONLY ONE** of the questions using the data, i.e, choose between `6.1` or `6.2`\n",
    "\n",
    "<img src=\"https://media.giphy.com/media/3o7TKVSE5isogWqnwk/giphy.gif\" height=\"250px\" width=\"250px\" alt=\"sherlock holmes\">\n",
    "\n",
    "> Note that the analytical questions may sometimes require converting categorical type columns that are lists or strings into numeric columns. For ex. \"Casual Dining\", \"Fine Dining\"..etc. would require you to generate a categorical encoding of 1,2..etc. For columns that contain lists like `categories`, which contain cuisine tags, a one-hot or multi-hot encoding technique may be required based on the situation. A numeric categorical encoding is required for these string or list based columns since pandas cannot (usually) automatically generate correlations or clusters based on text-based categories\n"
   ]
  },
  {
   "attachments": {},
   "cell_type": "markdown",
   "id": "7ea37141-d478-4b97-879e-48ead1c08ba0",
   "metadata": {},
   "source": [
    "### 6.1 (Option 1) Take me out to dinner 🕯️\n",
    "\n",
    "Which areas according to you have the best restaurants in California and why? You can define best based on whatever criteria you wish as long as it involves measuring more than a single column. For ex. You cannot merely claim that the restaurant with the highest rating is the best restaurant.\n"
   ]
  },
  {
   "cell_type": "code",
   "execution_count": 1,
   "id": "cd7bb2ec-cf0b-474c-8e22-ec25751f483c",
   "metadata": {},
   "outputs": [],
   "source": [
    "# ✏️ YOUR CODE HERE"
   ]
  },
  {
   "attachments": {},
   "cell_type": "markdown",
   "id": "6fc6b3a5-e173-4720-8a80-216a7bf14e4f",
   "metadata": {},
   "source": [
    "### 6.2 (Option 2) Michelin approves 🎖️\n",
    "\n",
    "Which columns seem to play / not play a major factor in whether or not the restaurant has an award? Justify your options\n"
   ]
  },
  {
   "cell_type": "code",
   "execution_count": 33,
   "id": "ce8dd39a-ca91-43e2-bfd5-23cf96701efc",
   "metadata": {},
   "outputs": [
    {
     "data": {
      "text/html": [
       "<div>\n",
       "<style scoped>\n",
       "    .dataframe tbody tr th:only-of-type {\n",
       "        vertical-align: middle;\n",
       "    }\n",
       "\n",
       "    .dataframe tbody tr th {\n",
       "        vertical-align: top;\n",
       "    }\n",
       "\n",
       "    .dataframe thead th {\n",
       "        text-align: right;\n",
       "    }\n",
       "</style>\n",
       "<table border=\"1\" class=\"dataframe\">\n",
       "  <thead>\n",
       "    <tr style=\"text-align: right;\">\n",
       "      <th></th>\n",
       "      <th>Most Booked</th>\n",
       "      <th>Best Ambiance</th>\n",
       "      <th>Best Food</th>\n",
       "      <th>Best Overall</th>\n",
       "      <th>Best Service</th>\n",
       "      <th>Best Value</th>\n",
       "      <th>Special Occasion</th>\n",
       "      <th>Romantic</th>\n",
       "      <th>Fit for Foodies</th>\n",
       "      <th>Vibrant Bar Scene</th>\n",
       "    </tr>\n",
       "  </thead>\n",
       "  <tbody>\n",
       "    <tr>\n",
       "      <th>award_count</th>\n",
       "      <td>414</td>\n",
       "      <td>404</td>\n",
       "      <td>402</td>\n",
       "      <td>402</td>\n",
       "      <td>401</td>\n",
       "      <td>400</td>\n",
       "      <td>398</td>\n",
       "      <td>393</td>\n",
       "      <td>391</td>\n",
       "      <td>389</td>\n",
       "    </tr>\n",
       "  </tbody>\n",
       "</table>\n",
       "</div>"
      ],
      "text/plain": [
       "             Most Booked  Best Ambiance  Best Food  Best Overall  \\\n",
       "award_count          414            404        402           402   \n",
       "\n",
       "             Best Service  Best Value  Special Occasion  Romantic  \\\n",
       "award_count           401         400               398       393   \n",
       "\n",
       "             Fit for Foodies  Vibrant Bar Scene  \n",
       "award_count              391                389  "
      ]
     },
     "execution_count": 33,
     "metadata": {},
     "output_type": "execute_result"
    }
   ],
   "source": [
    "# simple dataframe to look at distribution of awards across california by most awarded titles\n",
    "awards_df: pd.DataFrame = pd.json_normalize(df[\"awards\"].dropna().explode()).rename(\n",
    "    columns={\"name\": \"award_name\", \"location\": \"award_location\"}\n",
    ")\n",
    "awards_df[\"award_name\"].value_counts().to_frame().head(10).rename(\n",
    "    columns={\"award_name\": \"award_count\"}\n",
    ").transpose()"
   ]
  },
  {
   "cell_type": "code",
   "execution_count": null,
   "id": "7910b3c6-88b2-41e3-9d68-a9c669e7ebd0",
   "metadata": {},
   "outputs": [],
   "source": [
    "# ✏️ YOUR CODE HERE"
   ]
  },
  {
   "cell_type": "markdown",
   "id": "54f74bcd",
   "metadata": {},
   "source": [
    "---\n",
    "\n",
    "Good job!\n",
    "\n",
    "<img src=\"https://media.giphy.com/media/qLhxN7Rp3PI8E/giphy.gif\" height=\"250px\" width=\"250px\" alt=\"legend of zelda\">"
   ]
  }
 ],
 "metadata": {
  "kernelspec": {
   "display_name": "dotlas",
   "language": "python",
   "name": "python3"
  },
  "language_info": {
   "codemirror_mode": {
    "name": "ipython",
    "version": 3
   },
   "file_extension": ".py",
   "mimetype": "text/x-python",
   "name": "python",
   "nbconvert_exporter": "python",
   "pygments_lexer": "ipython3",
   "version": "3.10.8"
  },
  "toc-showtags": false
 },
 "nbformat": 4,
 "nbformat_minor": 5
}
